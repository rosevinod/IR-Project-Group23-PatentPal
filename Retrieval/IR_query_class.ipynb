{
  "nbformat": 4,
  "nbformat_minor": 0,
  "metadata": {
    "colab": {
      "name": "IR_query_class.ipynb",
      "provenance": [],
      "collapsed_sections": []
    },
    "kernelspec": {
      "name": "python3",
      "display_name": "Python 3"
    },
    "language_info": {
      "name": "python"
    }
  },
  "cells": [
    {
      "cell_type": "code",
      "metadata": {
        "id": "9J6Cx3Kdjzbt"
      },
      "source": [
        "from sklearn.feature_extraction.text import CountVectorizer\n",
        "import csv\n",
        "import numpy as np\n",
        "import pandas as pd\n",
        "\n",
        "df = pd.read_csv(\"/content/drive/MyDrive/bigPatentData.csv\", header=None)\n",
        "df = df.sample(frac=1).reset_index(drop=True)\n",
        "app_num = df[0]\n",
        "raw_text = df[3]\n",
        "y = df[4]"
      ],
      "execution_count": null,
      "outputs": []
    },
    {
      "cell_type": "code",
      "metadata": {
        "id": "f9aYZGW7oVfy"
      },
      "source": [
        "train_appno = np.array(app_num[:1350])\n",
        "test_appno = np.array(app_num[1350:])\n",
        "train_y = np.array(y[:1350])\n",
        "test_y = np.array(y[1350:])"
      ],
      "execution_count": null,
      "outputs": []
    },
    {
      "cell_type": "code",
      "metadata": {
        "colab": {
          "base_uri": "https://localhost:8080/"
        },
        "id": "kbxbGvMbqrhg",
        "outputId": "bed756bb-7838-4670-b41d-432b57443205"
      },
      "source": [
        "print(np.unique(train_y, return_counts=True))"
      ],
      "execution_count": null,
      "outputs": [
        {
          "output_type": "stream",
          "text": [
            "(array(['a', 'b', 'c', 'd', 'e', 'f', 'g', 'h', 'y'], dtype=object), array([143, 149, 146, 149, 151, 152, 156, 158, 146]))\n"
          ],
          "name": "stdout"
        }
      ]
    },
    {
      "cell_type": "code",
      "metadata": {
        "colab": {
          "base_uri": "https://localhost:8080/"
        },
        "id": "NlfTvXozmH7l",
        "outputId": "e0045de2-fb3b-41f8-fc56-cc68e27b399e"
      },
      "source": [
        "from nltk.stem import PorterStemmer\n",
        "from nltk.tokenize import word_tokenize\n",
        "from nltk.corpus import stopwords\n",
        "from nltk.stem import WordNetLemmatizer\n",
        "import nltk\n",
        "nltk.download('stopwords')\n",
        "nltk.download('punkt')\n",
        "nltk.download('wordnet')"
      ],
      "execution_count": null,
      "outputs": [
        {
          "output_type": "stream",
          "text": [
            "[nltk_data] Downloading package stopwords to /root/nltk_data...\n",
            "[nltk_data]   Package stopwords is already up-to-date!\n",
            "[nltk_data] Downloading package punkt to /root/nltk_data...\n",
            "[nltk_data]   Package punkt is already up-to-date!\n",
            "[nltk_data] Downloading package wordnet to /root/nltk_data...\n",
            "[nltk_data]   Package wordnet is already up-to-date!\n"
          ],
          "name": "stdout"
        },
        {
          "output_type": "execute_result",
          "data": {
            "text/plain": [
              "True"
            ]
          },
          "metadata": {
            "tags": []
          },
          "execution_count": 97
        }
      ]
    },
    {
      "cell_type": "code",
      "metadata": {
        "id": "iMPwlUm6lUoP"
      },
      "source": [
        "import string\n",
        "\n",
        "stop_words = set(stopwords.words('english'))\n",
        "def remove_stopwords(data):\n",
        "  new_data = []\n",
        "  for w in data:\n",
        "    if w not in stop_words:\n",
        "      new_data.append(w)\n",
        "  return new_data\n",
        "\n",
        "def remove_punc(data):\n",
        "  new_data = []\n",
        "  for w in data:\n",
        "    if w not in string.punctuation:\n",
        "      new_data.append(w)\n",
        "  return new_data\n",
        "'''\n",
        "def stemming(data):\n",
        "  new_data = []\n",
        "  ps = PorterStemmer()\n",
        "  for w in data:\n",
        "    new_word = ps.stem(w)\n",
        "    new_data.append(new_word)\n",
        "  return new_data\n",
        "'''\n",
        "\n",
        "def lemmatizer(data):\n",
        "  new_data = []\n",
        "  lemm = WordNetLemmatizer()\n",
        "  for w in data:\n",
        "    new_word = lemm.lemmatize(w)\n",
        "    new_data.append(new_word)\n",
        "  return new_data\n",
        "\n",
        "def preprocess(data):\n",
        "  data = data.lower()\n",
        "  data = word_tokenize(data)\n",
        "  data = remove_stopwords(data)\n",
        "  data = remove_punc(data)\n",
        "  data = lemmatizer(data)\n",
        "  return data"
      ],
      "execution_count": null,
      "outputs": []
    },
    {
      "cell_type": "code",
      "metadata": {
        "id": "-datfN0XlGQe"
      },
      "source": [
        "def preprocess_data(raw_text1):\n",
        "  text = []\n",
        "  for sent in raw_text1:\n",
        "    new_sent = preprocess(sent)\n",
        "    new_sent = \" \".join(new_sent) \n",
        "    text.append(new_sent)\n",
        "  return text"
      ],
      "execution_count": null,
      "outputs": []
    },
    {
      "cell_type": "code",
      "metadata": {
        "id": "JFVGQnAsDo4a"
      },
      "source": [
        "text = preprocess_data(raw_text)\n",
        "\n",
        "import pickle\n",
        "pickle.dump(text, open(\"/content/drive/MyDrive/preproc_text_PROJECT2\",\"wb\"))\n",
        "pickle.dump(y, open(\"/content/drive/MyDrive/preproc_y_PROJECT2\",\"wb\"))\n",
        "pickle.dump(app_num, open(\"/content/drive/MyDrive/preproc_appno_PROJECT2\",\"wb\"))"
      ],
      "execution_count": null,
      "outputs": []
    },
    {
      "cell_type": "code",
      "metadata": {
        "id": "gjfKnOVao2O6"
      },
      "source": [
        "#import pickle\n",
        "#text = pickle.load(open(\"/content/drive/MyDrive/preproc_text_PROJECT2\",\"rb\"))\n",
        "#y = pickle.load(open(\"/content/drive/MyDrive/preproc_y_PROJECT2\",\"rb\"))\n",
        "#app_num = pickle.load(open(\"/content/drive/MyDrive/preproc_appno_PROJECT2\",\"rb\"))\n",
        "#train_appno = np.array(app_num[:1350])\n",
        "#test_appno = np.array(app_num[1350:])\n",
        "#train_y = np.array(y[:1350])\n",
        "#test_y = np.array(y[1350:])"
      ],
      "execution_count": null,
      "outputs": []
    },
    {
      "cell_type": "code",
      "metadata": {
        "id": "oaLhgUXFx-bJ"
      },
      "source": [
        "train_text = text[:1350]\n",
        "test_text = text[1350:]"
      ],
      "execution_count": null,
      "outputs": []
    },
    {
      "cell_type": "code",
      "metadata": {
        "id": "9nVUmG2FnBgV"
      },
      "source": [
        "from sklearn.feature_extraction.text import TfidfVectorizer\n",
        "Vect = TfidfVectorizer(ngram_range=(1,1), max_features=10000)\n",
        "Vect.fit(train_text)\n",
        "X = Vect.transform(train_text)\n",
        "X = X.toarray()\n",
        "#print(Vect.get_feature_names())"
      ],
      "execution_count": null,
      "outputs": []
    },
    {
      "cell_type": "code",
      "metadata": {
        "colab": {
          "base_uri": "https://localhost:8080/"
        },
        "id": "PPWR9gUG1zrW",
        "outputId": "00dbc30d-8d17-462e-f6cf-b054034e3e84"
      },
      "source": [
        "from sklearn.naive_bayes import MultinomialNB, GaussianNB\n",
        "mnb = MultinomialNB(alpha=0.5)\n",
        "mnb.fit(X,train_y)"
      ],
      "execution_count": null,
      "outputs": [
        {
          "output_type": "execute_result",
          "data": {
            "text/plain": [
              "MultinomialNB(alpha=0.5, class_prior=None, fit_prior=True)"
            ]
          },
          "metadata": {
            "tags": []
          },
          "execution_count": 103
        }
      ]
    },
    {
      "cell_type": "code",
      "metadata": {
        "colab": {
          "base_uri": "https://localhost:8080/"
        },
        "id": "1nHq3lnroZiY",
        "outputId": "4b492640-fa8b-449f-e41b-110aa73c053e"
      },
      "source": [
        "from sklearn.naive_bayes import GaussianNB\n",
        "gnb = GaussianNB(var_smoothing=1.0)\n",
        "gnb.fit(X,train_y)"
      ],
      "execution_count": null,
      "outputs": [
        {
          "output_type": "execute_result",
          "data": {
            "text/plain": [
              "GaussianNB(priors=None, var_smoothing=1.0)"
            ]
          },
          "metadata": {
            "tags": []
          },
          "execution_count": 104
        }
      ]
    },
    {
      "cell_type": "code",
      "metadata": {
        "id": "RbKz_Zgf5MJq",
        "colab": {
          "base_uri": "https://localhost:8080/"
        },
        "outputId": "f5df894e-7570-461f-c244-26780975ce1c"
      },
      "source": [
        "from sklearn.linear_model import SGDClassifier\n",
        "sgd = SGDClassifier(loss='hinge', penalty='l2',alpha=1e-3, random_state=42, max_iter=5, tol=None)\n",
        "sgd.fit(X,train_y)"
      ],
      "execution_count": null,
      "outputs": [
        {
          "output_type": "execute_result",
          "data": {
            "text/plain": [
              "SGDClassifier(alpha=0.001, average=False, class_weight=None,\n",
              "              early_stopping=False, epsilon=0.1, eta0=0.0, fit_intercept=True,\n",
              "              l1_ratio=0.15, learning_rate='optimal', loss='hinge', max_iter=5,\n",
              "              n_iter_no_change=5, n_jobs=None, penalty='l2', power_t=0.5,\n",
              "              random_state=42, shuffle=True, tol=None, validation_fraction=0.1,\n",
              "              verbose=0, warm_start=False)"
            ]
          },
          "metadata": {
            "tags": []
          },
          "execution_count": 105
        }
      ]
    },
    {
      "cell_type": "code",
      "metadata": {
        "colab": {
          "base_uri": "https://localhost:8080/"
        },
        "id": "LUjXanftOMEv",
        "outputId": "56421528-b955-4873-e189-8e2bbf1ac52e"
      },
      "source": [
        "from sklearn.svm import LinearSVC\n",
        "svmclf = LinearSVC(tol=1e-5)\n",
        "svmclf.fit(X,train_y)"
      ],
      "execution_count": null,
      "outputs": [
        {
          "output_type": "execute_result",
          "data": {
            "text/plain": [
              "LinearSVC(C=1.0, class_weight=None, dual=True, fit_intercept=True,\n",
              "          intercept_scaling=1, loss='squared_hinge', max_iter=1000,\n",
              "          multi_class='ovr', penalty='l2', random_state=None, tol=1e-05,\n",
              "          verbose=0)"
            ]
          },
          "metadata": {
            "tags": []
          },
          "execution_count": 106
        }
      ]
    },
    {
      "cell_type": "code",
      "metadata": {
        "colab": {
          "base_uri": "https://localhost:8080/"
        },
        "id": "5yUI1YRUUthL",
        "outputId": "f5b50fdf-3f50-4c83-9ff0-a98c9c7c21e3"
      },
      "source": [
        "from sklearn.ensemble import RandomForestClassifier\n",
        "rfclf = RandomForestClassifier(max_features='log2')\n",
        "rfclf.fit(X, train_y)"
      ],
      "execution_count": null,
      "outputs": [
        {
          "output_type": "execute_result",
          "data": {
            "text/plain": [
              "RandomForestClassifier(bootstrap=True, ccp_alpha=0.0, class_weight=None,\n",
              "                       criterion='gini', max_depth=None, max_features='log2',\n",
              "                       max_leaf_nodes=None, max_samples=None,\n",
              "                       min_impurity_decrease=0.0, min_impurity_split=None,\n",
              "                       min_samples_leaf=1, min_samples_split=2,\n",
              "                       min_weight_fraction_leaf=0.0, n_estimators=100,\n",
              "                       n_jobs=None, oob_score=False, random_state=None,\n",
              "                       verbose=0, warm_start=False)"
            ]
          },
          "metadata": {
            "tags": []
          },
          "execution_count": 107
        }
      ]
    },
    {
      "cell_type": "code",
      "metadata": {
        "colab": {
          "base_uri": "https://localhost:8080/"
        },
        "id": "VCsPd4MXVMfq",
        "outputId": "1e1ace14-b24a-4fee-919d-9c684e92367d"
      },
      "source": [
        "from sklearn.svm import SVC\n",
        "svcclf = SVC()\n",
        "svcclf.fit(X, train_y)"
      ],
      "execution_count": null,
      "outputs": [
        {
          "output_type": "execute_result",
          "data": {
            "text/plain": [
              "SVC(C=1.0, break_ties=False, cache_size=200, class_weight=None, coef0=0.0,\n",
              "    decision_function_shape='ovr', degree=3, gamma='scale', kernel='rbf',\n",
              "    max_iter=-1, probability=False, random_state=None, shrinking=True,\n",
              "    tol=0.001, verbose=False)"
            ]
          },
          "metadata": {
            "tags": []
          },
          "execution_count": 108
        }
      ]
    },
    {
      "cell_type": "code",
      "metadata": {
        "id": "J30qv3gVYbN4",
        "colab": {
          "base_uri": "https://localhost:8080/"
        },
        "outputId": "11a84c16-b7fc-4082-fce4-2b5c59be9c29"
      },
      "source": [
        "from sklearn.neural_network import MLPClassifier\n",
        "mlpclf = MLPClassifier(hidden_layer_sizes=(5000, 1000, 500), activation='relu', learning_rate_init=0.01)\n",
        "mlpclf.fit(X, train_y)"
      ],
      "execution_count": null,
      "outputs": [
        {
          "output_type": "execute_result",
          "data": {
            "text/plain": [
              "MLPClassifier(activation='relu', alpha=0.0001, batch_size='auto', beta_1=0.9,\n",
              "              beta_2=0.999, early_stopping=False, epsilon=1e-08,\n",
              "              hidden_layer_sizes=(5000, 1000, 500), learning_rate='constant',\n",
              "              learning_rate_init=0.01, max_fun=15000, max_iter=200,\n",
              "              momentum=0.9, n_iter_no_change=10, nesterovs_momentum=True,\n",
              "              power_t=0.5, random_state=None, shuffle=True, solver='adam',\n",
              "              tol=0.0001, validation_fraction=0.1, verbose=False,\n",
              "              warm_start=False)"
            ]
          },
          "metadata": {
            "tags": []
          },
          "execution_count": 109
        }
      ]
    },
    {
      "cell_type": "code",
      "metadata": {
        "id": "GrYo9S-Guaeu"
      },
      "source": [
        "import random\n",
        "queries = [\"nonconductive fibrous web substrate aqueous containing a conductive  wet add - on , and dried electrically conductive fabric\",\n",
        "           \"tubing pressure , control line activation , shunt tube activation , and mechanical activation latching tool\", \n",
        "           \"variety of conductors , including silver - plated aluminum or copper . the filter housing 10 could also be constructed of , or coated with , a high temperature superconductor\",\n",
        "           \"lumbar intervertebral expandable screw box 100 with two bdft screws \",\n",
        "           \"door frame upright at a point where it falls under the hand of the householder .pin attached ring 12\",\n",
        "           \"typical optical transponder comprising a client receiver transmitter line transmitter and devices\",\n",
        "           \"extrusion apparatus according to a preferred embodiment rotatable about its axis in the direction indicated by the arrow\",\n",
        "           \"pharmacological activity as inhibitors of the enzyme phospholipase, arachidonic acid from phospholipids\",\n",
        "           \"typical shape memory polymers incorporate hard and soft segments\",\n",
        "           \"supporting an individual in a prone position with upper frame with a pair of forward , transversely spaced , downwardly extending legs\",\n",
        "           \"air , nitrogen , carbon dioxide and mixtures thereof . the gas may be present in the fracturing fluid with stable foams\",\n",
        "           \"teos in the deposition vessel  higher deposition rateof oxide and greater deposition thickness than non - doped silicon\",\n",
        "           \"ethanol extractant liquid unsubstituted and substituted liquid secondary amines\",\n",
        "           \"fast fluidized bed reactor\",\n",
        "           \"rotatable roll jacket with antifriction bearing in a bearing bracket\"]\n",
        "queries_y = ['d','e','y','a','g','h','b','c','f','a','e','y','c','b','d']\n",
        "\n",
        "for i in range(100):\n",
        "  txt = test_text[i].split(\" \")\n",
        "  n = random.randint(6,18)\n",
        "  start = random.randint(4,800)\n",
        "  d1 = random.randint(start+1,start+n-2)\n",
        "  d2 = random.randint(d1,start+n-1)\n",
        "  q = txt[start:d1]+txt[d1+1:d2]+txt[d2+1:start+n]\n",
        "  q = \" \".join(q) \n",
        "  queries.append(q)\n",
        "  queries_y.append(test_y[i])\n"
      ],
      "execution_count": null,
      "outputs": []
    },
    {
      "cell_type": "code",
      "metadata": {
        "colab": {
          "base_uri": "https://localhost:8080/"
        },
        "id": "jqyDjv69pbaH",
        "outputId": "ef720024-ab6b-4047-8344-9254ac643dc4"
      },
      "source": [
        "from sklearn.metrics import accuracy_score\n",
        "queries = preprocess_data(queries)\n",
        "#queries_y = test_y\n",
        "query_X = Vect.transform(queries)\n",
        "query_X = query_X.toarray()\n",
        "query_X = Vect.transform(queries)\n",
        "query_X = query_X.toarray()\n",
        "\n",
        "nb_predict = gnb.predict(query_X)\n",
        "mnb_predict = mnb.predict(query_X)\n",
        "sgd_predict = sgd.predict(query_X)\n",
        "lsvc_predict = svmclf.predict(query_X)\n",
        "rfclf_predict = rfclf.predict(query_X)\n",
        "svc_predict = svcclf.predict(query_X)\n",
        "print(\"gaussian NB\",accuracy_score(queries_y,nb_predict))\n",
        "print(\"Multinomial NB\",accuracy_score(queries_y,mnb_predict))\n",
        "print(\"SGD\",accuracy_score(queries_y,sgd_predict))\n",
        "print(\"Linear SVC\",accuracy_score(queries_y,lsvc_predict))\n",
        "print(\"Random Forest\",accuracy_score(queries_y,rfclf_predict))\n",
        "print(\"SVM\",accuracy_score(queries_y,svc_predict))"
      ],
      "execution_count": null,
      "outputs": [
        {
          "output_type": "stream",
          "text": [
            "gaussian NB 0.26956521739130435\n",
            "Multinomial NB 0.391304347826087\n",
            "SGD 0.2956521739130435\n",
            "Linear SVC 0.3217391304347826\n",
            "Random Forest 0.0782608695652174\n",
            "SVM 0.3130434782608696\n"
          ],
          "name": "stdout"
        }
      ]
    },
    {
      "cell_type": "code",
      "metadata": {
        "colab": {
          "base_uri": "https://localhost:8080/"
        },
        "id": "6unD2Ko20ZHD",
        "outputId": "1bddf197-1165-43d0-9b5f-71d4fdb5a6b8"
      },
      "source": [
        "mlp_pred = mlpclf.predict(query_X)\n",
        "print(\"MLP\",accuracy_score(queries_y,mlp_pred))"
      ],
      "execution_count": null,
      "outputs": [
        {
          "output_type": "stream",
          "text": [
            "MLP 0.20869565217391303\n"
          ],
          "name": "stdout"
        }
      ]
    },
    {
      "cell_type": "markdown",
      "metadata": {
        "id": "IrpZhH_r2k8f"
      },
      "source": [
        "BM25"
      ]
    },
    {
      "cell_type": "code",
      "metadata": {
        "colab": {
          "base_uri": "https://localhost:8080/"
        },
        "id": "kz985KMmaRee",
        "outputId": "c26ba6af-ce8c-4d0a-8437-a9d261c94c31"
      },
      "source": [
        "!pip install rank_bm25"
      ],
      "execution_count": null,
      "outputs": [
        {
          "output_type": "stream",
          "text": [
            "Requirement already satisfied: rank_bm25 in /usr/local/lib/python3.7/dist-packages (0.2.1)\n",
            "Requirement already satisfied: numpy in /usr/local/lib/python3.7/dist-packages (from rank_bm25) (1.19.5)\n"
          ],
          "name": "stdout"
        }
      ]
    },
    {
      "cell_type": "code",
      "metadata": {
        "id": "z3IdhG_DdULS"
      },
      "source": [
        "patents = []\n",
        "for i in range(len(text)):\n",
        "  pat = [app_num[i],text[i]]\n",
        "  patents.append(pat)  "
      ],
      "execution_count": null,
      "outputs": []
    },
    {
      "cell_type": "code",
      "metadata": {
        "colab": {
          "base_uri": "https://localhost:8080/"
        },
        "id": "6-cxjbio2nvn",
        "outputId": "780e30cd-a563-41cb-e0a4-14d4845855a3"
      },
      "source": [
        "from sklearn.feature_extraction.text import TfidfVectorizer\n",
        "Vect = TfidfVectorizer(ngram_range=(1,1), max_features=10000, max_df=1000)\n",
        "Vect.fit(text)"
      ],
      "execution_count": null,
      "outputs": [
        {
          "output_type": "execute_result",
          "data": {
            "text/plain": [
              "TfidfVectorizer(analyzer='word', binary=False, decode_error='strict',\n",
              "                dtype=<class 'numpy.float64'>, encoding='utf-8',\n",
              "                input='content', lowercase=True, max_df=1.0, max_features=10000,\n",
              "                min_df=1, ngram_range=(1, 1), norm='l2', preprocessor=None,\n",
              "                smooth_idf=True, stop_words=None, strip_accents=None,\n",
              "                sublinear_tf=False, token_pattern='(?u)\\\\b\\\\w\\\\w+\\\\b',\n",
              "                tokenizer=None, use_idf=True, vocabulary=None)"
            ]
          },
          "metadata": {
            "tags": []
          },
          "execution_count": 41
        }
      ]
    },
    {
      "cell_type": "code",
      "metadata": {
        "id": "A2uO087dal0A",
        "colab": {
          "base_uri": "https://localhost:8080/"
        },
        "outputId": "265b164b-1d39-4d17-c7d3-69e8d7a1cf8e"
      },
      "source": [
        "query = \"cloth drying machine\"\n",
        "#query = preprocess_data(query)\n",
        "print(query)\n",
        "from rank_bm25 import BM25Okapi\n",
        "tokenized_text = [doc.split(\" \") for doc in text]\n",
        "tokenized_query = query.split(\" \")\n",
        "bm25 = BM25Okapi(tokenized_text)\n",
        "doc_scores = bm25.get_scores(tokenized_query)\n",
        "retrieved_docs = bm25.get_top_n(tokenized_query, patents, n=10)"
      ],
      "execution_count": null,
      "outputs": [
        {
          "output_type": "stream",
          "text": [
            "cloth drying machine\n"
          ],
          "name": "stdout"
        }
      ]
    },
    {
      "cell_type": "code",
      "metadata": {
        "colab": {
          "base_uri": "https://localhost:8080/"
        },
        "id": "s9PUcFDGeU2K",
        "outputId": "de8a08c3-c040-4f35-e40d-ce529c5ef7da"
      },
      "source": [
        "docs = []\n",
        "for doc in retrieved_docs:\n",
        "  print(doc)\n",
        "  docs.append(doc[1])"
      ],
      "execution_count": null,
      "outputs": [
        {
          "output_type": "stream",
          "text": [
            "['US-96926604-A', 'referring drawing fig1 show part whole cloth quilt 10 top fabric panel 12 meant generally viewed often bottom fabric panel 14 generally meant viewed le top panel intermediate batting 16 pattern stitch 18 forming sculptured effect 22 connecting three layer special care taken edge 28 quilt 10 insure surface panel 12 14 directly engaged along outer edge prevent batting visible edge insure batting panel 16 also secured surface panel scale 20 one inch increment shown appears quilt 10 fig1 indicate scale stitch pattern 18 top fabric panel 12 least perhaps bottom fabric panel 14 also dyed printed pigmented otherwise colored containing carrying solid color print pattern characteristic one surface fabric simply called colored vivid bright pale applied griege good applied yarn weaving printed dyed prepared print fabric quilt washed artificially faded inventive process explained later purpose invention achieve antiqued finish whole cloth quilt fabric antiqued effect worn faded appearance top surface fabric 12 surface fabric 12 14 quilt reference fig2 process follows step 1 three panel 12 16 14 layered batting layer 16 top bottom surface fabric 12 14 shown box 24 fig2 consideration 1 — fiber content surface fabric 12 14 following table give colorfastness wet strength abrasion resistance dimensional stability property certain fiber subjected commercial wash dry cycle research inventor show present invention work best rayon rayon blend exhibit damage property satisfactory extent namely low wet strength low abrasion resistance causing wear largely due nature fiber dye attraction fiber abrasion surface loss finish sizing among others subject fading laundering process type dye dye application method print method used also effect loss color although high degree shrinkage batting may also useful achieve puckering shrinkage property always needed significant depending type appearance desired addition rayon rayon blend lyocell also cellulosic fiber lyocell blend exhibit faded worn quality lyocell fiber fibrillates washed agitated splintering fiber random area surface cause faded worn effect desired effect prevalent lyocell fabric chemically treated prevent reduce fibrillation test conducted determine fading wear surface dimension quilted fabric aatcc american association textile chemist colorist test method used guideline conducting test obtain accurate reliable result specifically aatcc test method 61 2003 colorfastness laundering home commercial accelerated aatcc test method 96 2001 dimensional change commercial laundering woven knitted fabric except wool aatcc test meant used quilted fabric colorfastness test accelerated test used guideline provide best possible procedure considering difference usage test quilted sample sewn 8 ″× 8 ″ consisting top fabric bottom fabric inner layer batting square sewn grid quilt pattern using ½ ″ 1 ″ 1½ ″ spacing quilt line provide variation distance quilt line bench mark line made template drawn marking pen side quilted sample later used measuring quilt shrinkage sample laundered commercial washer cotton sturdy cycle temperature 140 degree f sample washed together one time load weighed 3 lb provide sufficient friction fabric detergent used amount indicated normal washing similar content aatcc standard reference detergent — without optical brighteners — would interfere color change total running time washing 30 minute including wash cycle fill time quilted sample dried commercial dryer — tumble dry — cotton sturdy cycle 160 degree f 30 minute sample completely dry cotton batting sample taking longer polyester batting sample dry sample graded 1 – 5 scale compared control sample laundered wear — surface attribute — one short fiber end hairy uneven thinning irregular texture scoffed stippled natural fiber cotton linen pure form blended rayon high wet strength therefore susceptible fade wear washing process pure silk although low wet strength medium moderate abrasion resistance form show almost fading wear washing process wool tested showed little wear fading fabric blend natural fiber rayon lyocell showed degree wear fading included invention hold synthetic fiber pure form polyester nylon acrylic high wet strength therefore included invention blended rayon lyocell exhibit degree wear fading surface minimum amount rayon lyocell needed part blend fabric natural synthetic 15 10 100 weight preferred range addition matter blended fabric made blended yarn fabric made pure fiber warp weft woven combination pure rayon lyocell warp weft also within designated fiber type rayon rayon blend degree wear fading related way fiber spun yarn type weave finishing fabric staple fiber looser weave jacquard weave minimal finishing resulted wear fading longer filament yarn tight weave plain weave heavy finishing process however rayon rayon blended fabric showed wear fading within grade range specified table 2 surface dimension strongly related batting fiber cotton batting produced rippled surface polyester batting smoother puffed surface type batting effect wear fading surface fabric since rippled surface often viewed vintage look invention improve enhance process addition invention also provide method antiquing want retain puffed sculptured look caused polyester batting stitched whole cloth quilted fabric cellulosic fiber addition rayon lyocell may also work achieve desired extent antiquing three different type rayon apparel home textile dominant form largest market share called “ regular rayon ” “ viscose ” regular viscose rayon produced widespread production process property applicable present invention main reason wet rayon fiber weak break surface abrasion applied washing process also fabric loses luster sheen degree color usually loss sizing used finishing fabric nature fiber effect abrasion surface also low dimensional stability washing contribute irregular texture fabric surface distressed effect two type rayon produced relatively much smaller quantity — hwm cupramonium rayon hwm machine washed dried high wet strength frequently called “ polynosic ” cupramonium rayon similar property regular viscose rayon included invention cupramonium rayon often referred trademark name “ bemberg ” 100 bemberg rayon included test showed comparable result regular viscose rayon object case select fabric contains least fiber susceptible damage aspect washing wetting agitation fiber fade appears worn washing fiber selected thus type counter intuitively washed inventor discovered produce new advantageous unexpected result namely attractive vintage antiqued appearance according present invention word “ damage ” mean fading wear distress caused aspect washing limited wetting agitation weight cotton batting 200 gram per square meter batting shrinkage 3 – 5 cotton batting invention average range 150 – 270 gram per square meter lighter heavier polyester used testing low loft high loft low loft polyester loft polyester used invention polyester shrink generally cause lightweight smooth puffy surface polyester retains sculptured effect quilt pattern whole cloth quilted fabric although much rarer wool batting used wool batting resin bonded machine washed dried without shrinkage causing similar appearance polyester wool batting provides warmth lightweight wool batting used whole cloth quilted fabric invention also silk rayon lyocell batting used invention blended fiber cotton polyester blended used batting addition combination aforementioned batting fiber choice batting quilt quilted fabric generally determined factor use quilt quilted fabric whether needed warmth desired fiber natural synthetic whether done machine hand distance stitch line appearance type batting fiber processed affect performance quilting process quilt batting made bonding needle punched process either process produce desired effect batting plain garneted require quilt line stitching pattern closer together generally ¼ 1 inch apart prevent bunching shifting applies quilt whole cloth quilt whole cloth quilt antiquing process present invention based inventor 39 research cotton batting polyester batting work invention surface effect different antiqued desired appearance “ rippled effect ” puckering also desired addition antiquing batting susceptible shrinkage meaning cotton like polyester used also wool silk rayon lyocell combination fiber used step 2 three layer stitched together hand machine stitching across surface fabric illustrated box 26 fig2 edge quilt 28 fig1 must finished top bottom panel 12 14 joined together batting also attached enclosed top bottom layer batting visible edge le 6 stitch per inch used average number stitch 10 14 stitch per inch generally 6 21 work invention higher number based machine used maximum amount must le would cause gathering fabric around stitch line machine stitched tension must adjusted stitching 18 smooth cotton thread used test general thread type match fiber content cotton thread generally used cotton linen rayon cellulosic even silk silk thread available however polyester thread used invention anticipated problem advisable due closer together stitch line 18 pattern defined pattern surface fabric 12 batting 16 confined space therefore stitch line next apart average distance ¼ 2 inch going beyond 4 square inch space without stitching diminish fullness sculptured effect batting space stitch line still viable part patent application distance stitch line pattern affect wear fading fabric step 3 washing quilt 30 fig2 quilt washed commercial washer washed hand temperature ranging 100 190 degree fahrenheit machine washing cycle heavy longer wash cycle agitation — agitator causing abrasion wet fabric washed hand surface fabric must rubbed minimum 50 time amount agitation automatically take place machine washing step 4 drying quilt 32 fig2 quilt machine dried commercial dryer warm hot setting antique vintage look gained popularity consumer desire item nostalgic feeling yearning product appear aged time trend many say grow particularly baby boomer generation continues mature addition decorating antique distressed furniture also increased popularity invention fit enhances decorating style useful product consumer decorating preference worn faded rippled surface whole cloth quilt offer vintage appeal product long history united state provides much authentic vintage look current process current process provides puckered look fabric still look new invention improvement process also give antique appearance fabric make item appear authentically vintage invention also allows different type surface effect — including original sculptured outlined look depending fiber content batting fig3 illustrates puckering effect whole cloth quilt present invention fig4 illustrates puffed sculptured effect fig5 upper left section actual size image quilt present invention subjected treatment according present invention upper right section fig5 actual size image quilt treatment show antiqued effect middle left right section show respective control treated quilt three time magnification × 3 bottom left right section show control treated quilt image six time magnification × 6 specific embodiment invention shown described detail illustrate application principle invention understood invention may embodied otherwise without departing principle']\n",
            "['US-33592589-A', 'preferred embodiment present invention described hereinafter reference accompanying drawing describing first basic technological arrangement invention referring fig2 anode side electrode roll 10 cathode side electrode roll 12 comprising electrical conductor opposedly disposed certian distance therebetween anode cathode dc power supply 14 respectively connected othe electrode roll 10 12 cloth 16 treated dipped treating solution squeezed manner roller 24 26 uniformly impregnated treating solution wet cloth 16 disposed least two electrode roll 10a 12a applying dc voltage dc power suppy 14 least two electrode rolls10a 12a cloth 16 imprengated treating solution electrical contact two electrode roll 10 12 dc current pass anode dc power supply 14 cathode thereof way anode side electrode roll 10a treating solution impregnated cloth 16 cathode side electrode roll 12 time temperature impregnated cloth 16 raised heat generation treating solution electric resistance solution thus temperature easily raised e g 90 ° c 100 ° c necessary dyeing controlling applied voltage dc power supply 14 fig1 schematic view one exmaple apparatus used embodying cloth treating method invention drawing cloth 16 treated dipped treating solution 22 treating solution tank 20 guide roll 18 squeezed pair squeezing roll 24 26 manner impregnated uniformly treating chamber 28 plurality anode side electrode roll 10a 10n horizontally disposed treating chamber 28 upper portion certain distance one mnner opposed respectively portion located one plurality cathode side electrode roll 12a 12n cloth 16 guided treating chamber 28 alternately wound round anode side electrode roll 10a 10n cathode side electrode roll 12a 12n conveyed direction arrow rotational drive torque motor illustrted finally sent outside treating chamber 28 anode side electrode roll 10a 10n cathode side electrode roll 12a 12n respectively connected anode cathode dc power supply dc voltage corresponding treatment speed may applied anode side electrode roll 10a 10n cathode side electrode roll 12a 12n anode side electrode roll 10 10n rotationally driven convey cloth 16 treating solution 22 cloth 16 impregnated experience electrical resistance heating described referring fig2 temperature cloth 16 raised accordingly treating substance dye resin contained treating solution 22 fixed cloth 16 electricity used heating source cloth 16 embodiment vapor needed different conventional treatment may also desirable provdie auxiliary heating certain amount vapor accelerate dyeing process cloth 16 wound round evh electrode roll 10a 10n 12a 12n spread state need troublesome work spreading cloth 16 treatment varieite sof cloth 16 continouosly treated number electrode roll 10a 10n 12a 12n engaged cloth may variably changed according condition cloth 16 inventor actually carried several experiment verify cloth treated method invention performance suitable condition normal use result experiment described hereinafte r bleached cotton cloth 130 g 2 weight dyeing solution 10 g l kasyarus spura browm gtl trade name produced nippon kayaku co ltd squeexed squeezing percentage 85 wet cotton cloth laid two electrode roller 10 12 illustrated fig2 load 100 g applied end cloth applying b 130 v 20 second form dc power supply 14 keeping cloth loaded state temperature cloth raised 90 ° c dyeing reaction took place thus cloth required color obtained washing water drying 100 acylic desized cloth 180 g 2 weight dipped mixed treating solution 10 g l kayacryl yellow 3rl ed trade name produced nippon kayaku co ltd 1 g l kayacryl red grl ed 0 5 g l kayacry blue grl ed 3 ml l naganol trade name organic acid produced sanpo chemical industry co ltd squeezed squeezing percentage 75 wet cloth laid two electrode roller 10 12 illustrated fig2 load 100 g applied end cloth applying b 120 v 20 second dc power supply 14 keeping cloth loaded state temperature cloth raised 95 ° c dyeing reaction took place thus cloth required color obtained polyester desized cloth 120 g 2 weight dipped mixed treating solution 250 g l caustic soda 3 ml l penetrant squeezed squeezing percentage 85 wet cloth laid two electrode roller 10 12 illustrated fig2 load 100 g applied end cloth applying 120 v 25 second dc power supply 14 keeping cloth loaded state temperature cloth raised 95 ° c turning electricity cloth subjected washing water neutralization dipping 2 ml l acetic acid 30 second washing water 1 minute dehydration squeezing squeezing percentage 75 mangle drying 120 ° c 3 minute order thus cloth 20 loss obtained yellow colored cotton cloth 150 g 2 weight dipped mixed treating solution thermo setting resin 10 sumitex resin n 19 trade name produced sumitomo chemical industry co ltd 3 accelerator x 80 0 1 accelerator x 100b 0 5 silicon softner n85 trade name produced matsumoto yushi co ltd squeezed squeezing percentage 80 wet cloth laid two electrode roller 10 12 illustrated fig2 load 100 g applied end cloth applying 120 v 20 second dc power supply 14 keeping cloth loaded state temperature cloth raised 90 ° c drying cloth 120 ° c 2 minute cloth subjected heat treatment heating 140 ° c 3 minute thus treated cloth low surface resin good elastic return obtained described specific example cloth treatment method believed obvious modification variation invention possible light teaching disclosure shown described preferred embodiment th einvention aforementioned understood invention capable use various combination environment capable change modification within scope inventive concept expressed herein']\n",
            "['US-31363589-A', 'referring fig1 numeral 1 4 first fourth sewing machine comprising sewing apparatus sewing machine 1 4 may represented first sewing machine explained fig3 fig4 fig3 4 numeral 101 bed 102 arm integrally set bed 101 upper surface bed 101 composed horizontal plane 101a forming rear side sloped plane slope 101b tilting downward toward near side arrow f side fig4 form front side needle location p sewing machine base end part 102a arm 102 formed shape section orthogonally crossing cloth feeding direction approximately z form estimated single dot chain line 1 fig3 time base end part 102a located nearer side arrow f side specified distance needle location p extension needle center line parallel cloth feeding direction passing needle location p word since base end part 102a located near side specified distance needle location p integrally connected bed 101 left end slope 101b bed 101 located left side avoiding needle center line base end part 102a approximately z form provided partition wall 102ab corresponding parallel portion upper surface bed 101 partition wall 102ab formed orthogonal cloth feeding direction upper surface may positioned plane horizontal plane 101a bed 101 since base end part 102a arm 102 constructed way first sewing machine 1 furnished lower cloth passage 1b lower side partition wall 102ab upper cloth passage 1a upper side partition wall 102ab shown fig2 front end arm 102 extended needle location p arm head 103 located part shown fig3 arm head part 103 needle location p side needle mounting part 104 mounting sewing needle shown front end project fig3 fixed upper face arm head 103 bobbin box 106 mounting needle thread bobbin 105 horizontal plane 101a bed 101 known throat plate 107 set portion including needle location p forming area shown fig6 boundary horizontal plane 101a slope 101b positioned rear side arrow b side behind base end part 102a opening 108 horizontal plane 101a side trapezoidal slope 101b side rectangular formed clear fig6 sewing machine used sewing equipment shown illustrate example opening 108 contact throat plate 107 horizontal plane 101a side throat plate 107 notched front side may trapezoidal opening 108 cover 109 level horizontal plane 101a slope 101b mounted state detachably inserted numeral 110 denotes pressor foot pressing cloth supplied throat plate 107 attached front end rod shown projecting arm head 103 designed moved operating lever 111 disposed side arm head 103 beneath throat plate 107 disposed plural looper 153 tilted front side lower side opening 108 mechanism disclosed japanese utility model 1 627 126 looper tilting mechanism described reference fig7 plural looper 153 mounted looper shaft 151 looper shaft 151 rotatably inserted bifurcated crank arm 154a 154a crank mechanism 154 bifurcated crank arm 154a 154a cam body 157 fixed looper shaft 151 disposed shown also fig6 bifurcated crank arm 154a 154a moreover columnar pin 158 penetrates rotatable state eccentric pin 159 disposed ahead pin 158 provided eccentric pin 159 rotatable locking position engaged engaging concave part 157b formed outer circumference cam body 157 pressed state unlocking position departing outer circumference cam body 157 eccentric pin 159 knob 159a projecting outwardly one crank arm 154a formed integrally manipulating knob 159b finger eccentric pin 159 rotated locking position unlocking position knob 159a turned eccentric pin 159 engaged engaging concave part 157b cam body 157 indicated solid line fig7 cam body 157 fixed specified position pin 158 eccentric pin 159 looper shaft 151 locked sewing position knob 159a turned reverse direction eccentric pin 159 departed outer circumference cam body 157 indicated single dot chain line fig6 confinement eccentric pin 159 released cam 157 fixed looper shaft 151 set free unlocked looper 153 affixed looper shaft 151 turn forward indicated single dot chain line coil spring 160 provides elastic force deviating eccentric pin 159 engaging concave part 157b cam body 157 compared thus constructed first sewing machine third sewing machine 3 exactly identical first sewing machine 1 hand second sewing machine 2 fourth sewing machine 4 illustrated detail formed base end part may symmetrical first third sewing machine 1 3 seen front side evident fig1 first third sewing machine 1 3 base end part 102a linked left side bed 101 relating needle location p seen front side front end arm 102 comprising arm head part 103 extended upward right side bed 101 across needle location p contrast second fourth sewing machine 2 4 base end part 202a coupled right side bed 201 sewing machine 2 4 respect needle location p 39 front end arm 202 extended upward left side bed 201 across needle location p 39 however unless otherwise specified part third sewing machine 3 fig1 identified reference number first sewing machine part second fourth sewing machine 2 4 corresponding part first sewing machine 1 provided reference number replacing first digit 1 2 first sewing machine seen fig1 first fourth sewing machine 1 4 arranged parallel lateral direction respective cloth feeding direction may parallel also evident description herein adjacent sewing machine first sewing machine 1 second sewing machine 2 second sewing machine 2 third sewing machine 3 third sewing machine 3 fourth sewing machine 4 arranged respective base part may symmetrical furthermore lower cloth path 1a 2a upper cloth path 1b 2b sewing machine 1 4 arranged height individually sewing machine configured described shown fig1 cloth c 1 taken one material roll stand shown pas lower cloth path 1a first sewing machine 1 lower cloth path 2a second sewing machine likewise cloth c 2 taken one material roll stand pas upper cloth path 2a second sewing machine 2 upper cloth path 1b third sewing machine 3 cloth c 3 taken one material roll stand pas lower cloth path 1a third sewing machine 3 lower cloth path 2a fourth sewing machine 4 therefore total five cloth including cloth c 0 passing upper cloth path 1b first sewing machine cloth c 4 passing upper cloth path 2b fourth sewing machine 4 simultaneously subjected relay sewing process vertically alternatley overlaid state accordingly product relay sewing process sewing apparatus way individual cloth c 0 c 4 sewn alternately side end part shown fig8 sewing apparatus since necessary plait cloth taken sewing machine example first sewing machine 1 shown fig2 sewing process done automatically taking cloth c 0 c 4 material roll r1 r2 take device 5 6 delivering clot sewing machine side sending cloth sewn sewing machine 1 4 next process side forward feeding device 7 disposed behind sewing machine sewing apparatus shown fig5 since upper surface partition wall 102ab composing upper cloth path 1b position plane horizontal plane 101a bed 101 upper cloth path 1b converges lower cloth path 1a composed slope 101b bed 101 needle location p side end part cloth c 0 c 1 mutually overlaid convergent point cloth path 1a 1b forwarded needle location p feeding operation accompanying sewing motion end part overlaid way sent needle location p cloth c 0 c 1 sequentially subjected relay sewing process word according sewing apparatus trouble plaiting cloth avoided also particular mechanism overlaying needed although cloth fed different position vertical direction therefore installing feeding device 5 6 forward feeding device 7 mentioned relay sewing process using plurality cloth done automatically furthermore construction example removing cover 109 positioned needle location p open opening 108 straddling horizontal plane 101a slope 101b bed 101 crank arm 154a 154a crank mechanism installed inside bed 101 exposed opening 108 since opening 108 formed slope 101b opposite front side operator easily put hand bed 101 opening 108 front side manipulate knob 159a eccentric pin 159 therefore easy cancel engagement eccentric pin 159 engaging concave part 157b cam body 157 however mechanism tilting looper may necessarily shown fig7 design may modified various manner looper 153 tilted front side way looper 153 move near corresponding part horizontal plane 101a opening 108 inserting hand bed 101 opening 108 case manipulation knob 159a noted looper thread may easily connected looper 153 case since opening 108 formed corresponding part slope 101b operator easily put hand bed 101 front side hence sewing machine composing sewing apparatus loop thread connecting work done spontaneous position beside looper 153 looper thread connection work knob 159a operated eccentric pin 159 engaged engaging concave 157b cam body 157 cam body 157 fixed eccentric pin 159 pin 158 hence looper 153 locked crank arm 154a 154a sewing operation ready sewing machine lock stitch provided looper opening 108 needed case cloth sewn overlaid without particular mechanism cloth fed smoothly sewing apparatus least two sewing machine configured coupling part bed connected partition wall base end part may positioned opposedly right left side line segment parallel cloth feeding direction passing needle location sewing machine sewing machine may share bed bed sewing machine may coupled using member furthermore number sewing machine may either equal unequal']\n",
            "['US-81050485-A', 'discussing preferred embodiment detail helpful understand background invention reference fig5 illustrates conventional sewing machine present invention could applied fig5 plan view conventional sewing machine item b sewing head equipped sewing needle item work surface along cloth material slide pair base press c c move along work surface predetermined distance direction sewing right left fig5 moveable upwardly return back initial starting position fabric pressed onto work surface base press c c starting position shown fig5 pocket cloth e placed base press c c bridge space therebetween center press f shape move base press c c press pocket cloth e folding device shown projecting toward side shaped press adapted approach fold pocket cloth e timing provides automatic start series operation pocket forming cycle cycle includes forward movement base press c c according sewing program together appropriately placed cloth material e meantime sewing needle head b line cut knife shown end cut triangle knife shown pocket edge removal sewn cloth stacker shown take place successively described example u pat 4 416 204 press c c return noted finish operation cycle noted setting material e performed manually sewing operator press c c starting position manual setting cloth creates disadvantage overcome present invention setting cloth preparatory stage take six second well trained operator sewing machine take seven second consequently total time twelve thirteen second portion machine operation portion operator sitting idle low operator efficiency represents significant defect conventional sewing machine even though enhancement machine speed invention hereinafter explained detail respect preferred embodiment disclosed drawing comparison conventional sewing machine illustrated herein invention construed limiting disclosure drawing first noted forward direction sewing right left fig2 fig4 fig5 backward direction opposite left right description start embodiment shown fig1 fig2 fig1 2 2 preparatory device adapted reciprocate slidably work surface guide rail 2 39 also guide pipe g sewing direction lie horizontal fig2 fig5 reciprocating distance thereof may adequate 30 40 cm instance said preparatory device provided device pressing fabric adapted move along certain determined route defined cam 3 39 also provided device holding tray carry pocket cloth supported two arm 4 39 4 34 move angle wherein alternating motion adapted take place mutually sequence noted hereinbefore air cylinder 5 6 equipped actuate motion two device respectively stand 1 independently inventive device stand operation box 7 equipped two arm holding marking lamp 8 8 39 monitor spot work surface around backward position preparatory station suit fabric set correct location 9 indicates optional air blow pipe set upward along edge line stand 1 blow pipe 9 prevent sewing material undesirable slip offset operational move cloth material series operation preparatory device 2 start moving backward position forward position accordance instance electrical signal interconnected operation device belonging main sewing station namely said signal received moment shaped press f moved following forwarding move base press c c therefore manual placement cloth material e work surface preparatory device desirably finished operation cycle come stage noted series operation carried preparatory device described detail reference operation part sewing station 1 preparatory device resides backward position right side square fig5 pocket cloth e loaded tray 4 2 suit fabric set aid marking lamp 8 8 39 prescribed laying position work surface word front preparatory device residing backward position 3 preparatory device set standby pedal action wait start signal main sewing mechanism transmission system meantime preparatory device remains pressing suit fabric press 3 backward position suit fabric slid forward work surface position shown fig5 see next step 4 4 main station permit base press c c move forward previous cycle immediately shaped press f start moving upward signal transmitted preparatory side whereby preparatory device 2 start moving forward sewing cycle blow pipe 9 actuated equipped noted 5 base press c c release sewn cloth material forward point move height starting position 6 starting position next fabric already set pressed preparatory press 3 preparatory device reached forward position corresponds left hand side square base press c c come land striding press 3 aground whereby press c c join press action onto fabric 7 press 3 departs upward avoiding shaped press f existing alternately pocket cloth tray 4 come certain point base press c c await removal cloth shaped press 8 shaped press come onto pocket cloth loaded tray 4 push cloth groove 4a see fig1 onto laid fabric aid folder plate noted hereinafter shown fold pocket formation produced preparatory device 2 move forward position backward position 9 completion pocket fold signal generated start next cycle base press c c start moving forward starting position 10 simultaneously preparatory device 2 start moving forward backward position bringing cloth material e starting position way noted step 3 4 embodiment described preparatory device contributes sewing operation bringing fabric starting position work surface action press 3 bringing pocket cloth certain point laid fabric action tray 4 therefore understood fabric direct preparative work allowed activity preparatory device however pocket cloth e direct contributive work always possible time loading cloth onto tray 4 allowed situation improved next embodiment embodiment shown fig3 4 detailed follows fig3 4 11 pocket cloth feeder newly introduced installed immovably independently preparatory device 2 support arm 12 disposed tray 4 preparatory device 2 resides backward position 13 reciprocable pusher soft headed tip 13 39 14 actuator cylinder therefor element 13 13 39 14 new addition embodiment pusher 13 may push downwardly pocket cloth loaded feeder 11 groove 11 39 see fig3 onto tray 4 therefore manual loading pocket cloth required onto feeder 11 present embodiment thereafter pocket cloth carried forward press pusher tip 13 39 render correct placement thereof starting position le time operative modification result introduction feeder 11 pusher 13 relative element explained reference sequence step made embodiment fig1 2 described hereinbefore step 1 pocket cloth e loaded feeder 11 pusher 13 extends downwardly push cloth onto tray 4 cloth captively held pusher head 13 39 b step 7 pocket cloth tray 4 come certain point base press c c pusher 13 retracts whereby cloth e released wait next handling shaped press f evident preceeding discussion preparatory device present invention provided addition conventional sewing machine advantage enabling adequate setting pocket sewing material seven second like sewing cycle consequently since setting fabric accomplished seven eight second sewing cycle rather addition thereto requiring total cycle time twelve thirteen second overall operation far efficient hence task demand high level skill effective reduction overall cycle time approximately 160']\n",
            "['US-201313788928-A', 'hereinafter embodiment present disclosure explained reference drawing configuration sewing machine 1 explained reference fig1 2 top side bottom side left side right side fig2 respectively correspond top side bottom side left side right side sewing machine 1 side operation switch 21 provided defined front side sewing machine 1 sewing machine 1 includes bed 11 pillar 12 arm 13 head 14 bed 11 base portion sewing machine 1 bed 11 extends left right direction pillar 12 extends upward right end portion bed 11 arm 13 extends left upper end pillar 12 arm 13 opposite bed 11 head 14 located left end arm 13 needle plate 34 refer fig2 disposed top face bed 11 feed dog shown drawing feed mechanism shown drawing shuttle mechanism shown drawing feed adjustment motor 83 refer fig6 provided underneath needle plate 34 inside bed 11 feed dog may driven feed mechanism move work cloth specified feed amount feed amount feed dog may adjusted feed adjustment motor 83 note feed dog operated case embroidery device 2 mounted sewing machine 1 used described later needle bar 29 presser bar 31 extend downward lower end head 14 sewing needle shown drawing attached lower end needle bar 29 presser foot 30 attached lower end presser bar 31 presser foot 30 may press work cloth 100 needle bar mechanism shown drawing swinging mechanism shown drawing swinging motor 80 refer fig6 provided head 14 needle bar mechanism may move needle bar 29 sewing machine motor 79 refer fig6 may drive needle bar mechanism swinging mechanism may swing needle bar 29 left right swinging motor 80 may drive swinging mechanism present disclosure sewing machine 1 used state embroidery device 2 mounted sewing machine 1 embroidery device 2 mounted removed bed 11 sewing machine 1 embroidery device 2 includes body 51 carriage 52 embroidery device 2 mounted sewing machine 1 embroidery device 2 sewing machine 1 electrically connected carriage 52 provided top side body 51 carriage 52 rectangular shape long front rear direction carriage 52 includes frame holder 55 axis moving mechanism shown drawing axis motor 87 refer fig6 frame holder 55 holder embroidery frame 35 refer fig1 removably mounted embroidery frame size shape different embroidery frame 35 also mounted removed frame holder 55 example embroidery frame 36 refer fig1 different smaller size mounted removed frame holder 55 instead embroidery frame 35 frame holder 55 provided right side face carriage 52 shown fig1 embroidery frame 35 known structure embroidery frame 35 configured hold work cloth 100 clamping work cloth 100 inner frame outer frame although shown detail drawing work cloth 100 held embroidery frame 35 may positioned top side bed 11 needle bar 29 presser foot 30 axis moving mechanism may move frame holder 55 front rear direction axis direction moving frame holder 55 front rear direction cause embroidery frame 35 move work cloth 100 front rear direction axis motor 87 may drive axis moving mechanism cpu 61 refer fig6 sewing machine 1 control axis motor 87 x axis moving mechanism shown drawing x axis motor 86 refer fig6 may move carriage 52 left right direction x axis direction provided interior body 51 moving carriage 52 left right direction cause embroidery frame 35 move work cloth 100 left right direction x axis motor 86 may drive x axis moving mechanism cpu 61 sewing machine 1 control x axis motor 86 shown fig2 receiver 94 95 provided rear portion lower end head 14 receiver 94 receiver 95 identical structure receiver 94 provided rear part bottom face head 14 lower left edge head 14 receiver 95 provided rear part bottom face head 14 lower right edge head 14 receiver 94 95 separated one another length head 14 left right direction receiver 94 95 configured detect ultrasonic wave receiver 94 95 described detail later shown fig1 cover 16 opened closed provided upper portion arm 13 spool 20 may accommodated cover 16 approximately central portion inside arm 13 upper thread shown drawing wound around spool 20 may supplied spool 20 sewing needle attached needle bar 29 way thread guard portion shown drawing provided head 14 operation switch 21 include start stop switch provided lower portion front face arm 13 liquid crystal display hereinafter called lcd 15 provided front face pillar 12 screen includes various type item command illustration setting value message like may displayed lcd 15 touch panel 26 provided front face lcd 15 using finger special touch pen touch location touch panel 26 corresponds item displayed lcd 15 operator select pattern sewn command executed hereinafter operation operator performs using touch panel 26 referred panel operation shown fig2 connector 39 40 provided right side face pillar 12 external storage device shown drawing memory card like connected connector 39 sewing machine 1 may acquire embroidery pattern data various type program external storage device connected connector 39 connector 916 configured connected connector 40 connector 916 configured connected cable 912 extends ultrasound pen 91 described later sewing machine 1 may supply electric power ultrasound pen 91 connector 40 connector 916 cable 912 sewing machine 1 may also acquire electrical signal output ultrasound pen 91 ultrasound pen 91 explained ultrasound pen 91 includes pen body 910 pen tip 911 shape pen body 910 bar shape pen tip 911 provided one end pen body 910 tip pen tip 911 pointed pen tip 911 able move projecting position retracted position projecting position position pen tip 911 project slightly outside pen body 910 state external force acting pen tip 911 pen tip 911 positioned projecting position force act 911 projecting position direction toward pen body 910 pen tip 911 move pen body 910 pen tip 911 shift retracted position force acting pen tip 911 cease pen tip 911 return projecting position switch 913 refer fig6 signal output circuit 914 refer fig6 ultrasound transmitter 915 refer fig6 provided inside pen body 910 switch 913 may switch state state accordance position pen tip 911 switch 913 may switch output state signal output circuit 914 ultrasound transmitter 915 pen tip 911 positioned projecting position switch 913 state case switch 913 state signal output circuit 914 output electrical signal ultrasound transmitter 915 transmit ultrasonic wave hand pen tip 911 shifted retracted position operator 39 pressing pen tip 911 desired position work cloth 100 example switch 913 switched state positioning pen tip 911 retracted position switch 913 state signal output circuit 914 output electrical signal sewing machine 1 cable 912 ultrasound transmitter 915 transmits ultrasonic wave note sewing machine 1 may use receiver 94 95 detect receive ultrasonic wave transmitted ultrasound pen 91 although described detail later based detected ultrasonic wave sewing machine 1 may specify position transmission source ultrasonic wave ultrasound transmitter 915 provided ultrasound pen 91 sewing machine 1 may perform sewing based specified position receiver 94 explained reference fig3 5 receiver 95 identical structure receiver 94 therefore explanation receiver 95 omitted lower left side upper right side upper left side lower right side top side bottom side fig3 respectively define front side rear side left side right side top side bottom side receiver 94 shown fig3 4 shape receiver 94 rectangular parallelepiped shape slightly longer direction receiver 94 provided opening 941 center lower portion front face receiver 94 shape opening 941 ellipse whose long axis extends left right direction surrounding portion 942 portion surround opening 941 tapered surface inclined surface becomes larger toward front side shown fig5 panel 943 microphone 944 provided interior receiver 94 microphone 944 positioned inner side opening 941 shown fig5 connector 945 mounted rear face upper end panel 943 connector 945 configured connected connector shown drawing provided sewing machine 1 electrical configuration sewing machine 1 explained reference fig6 control portion 60 sewing machine 1 includes cpu 61 rom 62 ram 63 eeprom 64 input output interface 65 cpu 61 rom 62 ram 63 eeprom 64 input output interface 65 connected one another bus 67 program cpu 61 may use perform processing data plurality type sewing pattern sewing machine 1 may use perform sewing well data like stored rom 62 data indicate setting sewing machine 1 like stored eeprom 64 operation switch 21 touch panel 26 drive circuit 71 72 74 75 76 84 85 electrically connected input output interface 65 drive circuit 71 72 74 75 76 84 85 may respectively drive feed adjustment motor 83 sewing machine motor 79 swinging motor 80 lcd 15 receiver 94 95 x axis motor 86 axis motor 87 amplifier circuit included drive circuit 76 may amplify transmit cpu 61 ultrasonic wave signal detected receiver 94 95 electrical configuration ultrasound pen 91 explained ultrasound pen 91 includes switch 913 signal output circuit 914 ultrasound transmitter 915 switch 913 configured connected signal output circuit 914 ultrasound transmitter 915 signal output circuit 914 configured connected input output interface 65 signal output circuit 914 may output electrical signal cpu 61 input output interface 65 method specifying position work cloth 100 designated ultrasound pen 91 explained reference fig7 pressing pen tip 911 ultrasound pen 91 work cloth 100 operator designate specific position work cloth 100 hereinafter position work cloth 100 pen tip 911 ultrasound pen 91 pressed referred designated position note described later sewing machine 1 specify designated position specifying position transmission source ultrasonic wave therefore precise sense position specified designated position position work cloth 100 pen tip 911 pressed position ultrasound transmitter 915 provided ultrasound pen 91 however pen tip 911 ultrasound transmitter 915 located extremely close one another therefore present embodiment position ultrasound transmitter 915 regarded position work cloth 100 pen tip 911 pressed designated position hereinafter left right direction front rear direction direction sewing machine 1 respectively defined x axis direction axis direction z axis direction left right direction direction fig7 respectively equivalent x axis direction axis direction sewing machine 1 may specify designated position form coordinate information x coordinate coordinate z coordinate present embodiment example used origin point 0 0 0 coordinate system center point hole needle hole sewing needle may pas needle hole formed needle plate 34 refer fig2 plane z coordinate zero equivalent top face needle plate 34 coordinate b indicate position receiver 94 defined xb yb zb coordinate c indicate position receiver 95 defined xc yc zc coordinate e indicate designated position defined xe ye ze respective z coordinate receiver 94 95 indicate height receiver 94 95 relation top face needle plate 34 coordinate b xb yb zb coordinate c xc ye zc stored rom 62 advance hereinafter coordinate e referred designated coordinate e distance designated coordinate e coordinate b referred distance eb distance designated coordinate e coordinate c referred distance ec based pythagorean theorem distance eb ec described coordinate b c e relationship distance eb coordinate b c e described equation 1 manner relationship distance ec coordinate b c e described equation 2 note equation 1 identical equation spherical surface radius distance eb coordinate b define origin point intersects designated coordinate e manner equation 2 identical equation spherical surface radius distance ec coordinate c define origin point intersects designated coordinate e velocity ultrasonic wave travel referred velocity sound v time required ultrasonic wave transmitted ultrasound pen 91 designated coordinate e arrive receiver 94 referred transmission time tb time required ultrasonic wave transmitted ultrasound pen 91 designated coordinate e arrive receiver 95 referred transmission time tc case distance eb ec respectively described equation 3 4 substituting equation 3 4 equation 1 2 yield equation 5 6 equation 5 6 coordinate b xb yb zb coordinate c xc ye zc velocity sound v known value value stored rom 62 transmission time tb tc may specified computing difference time ultrasonic wave transmitted ultrasound transmitter 915 ultrasound pen 91 time ultrasonic wave detected receiver 94 95 hereinafter time ultrasonic wave transmitted ultrasound transmitter 915 ultrasound pen 91 referred transmission time 1 pair time ultrasonic wave detected receiver 94 95 respectively referred detection time 2 among designated coordinate e xe ye ze ze value determined thickness work cloth 100 therefore range value ze smaller range value xe ye respectively therefore present embodiment value ze regarded zero accordingly respective value xe ye computed solving simultaneous equation 5 6 manner designated coordinate e xe ye ze 0 operator used ultrasound pen 91 designate work cloth 100 may computed present embodiment designated position sewing machine 1 capable specifying accurately method described lie within specification enabled area 101 work cloth 100 held embroidery frame 35 reason explained received strength ultrasonic wave attenuate increasing distance position ultrasound pen 91 ultrasound transmitter 915 receiver 94 95 therefore depending distance position ultrasound pen 91 receiver 94 95 case may occur receiver 94 95 unable receive ultrasonic wave sufficient accuracy furthermore receiving sensitivity receiver 94 95 directionality specific direction therefore case may occur receiver 94 95 unable receive ultrasonic wave sufficient accuracy depending position ultrasound pen 91 ultrasound transmitter 915 case receiver 94 95 unable receive ultrasonic wave sufficient accuracy sewing machine 1 able specify designated position accurately specification enabled area 101 shown fig8 14 specification enabled area 101 area defined area within sewing machine 1 able specify designated position accurately present embodiment specification enabled area 101 defined square area coordinate information indicates position four vertex specification enabled area 101 stored rom 62 fig8 14 order facilitate explanation sewing machine 1 shown embroidery device 2 embroidery frame 35 mounted sewing machine 1 shown case position within specification enabled area 101 designated ultrasound pen 91 receiver 94 95 able receive ultrasonic wave sufficient accuracy case sewing machine 1 able specify designated position accurately hand case position outside specification enabled area 101 designated ultrasound pen 91 receiver 94 95 able receive ultrasonic wave sufficient accuracy case sewing machine 1 specify designated position accurately needle drop point 102 position within specification enabled area 101 needle drop point 102 positioned near rear edge specification enabled area 101 approximately center left right direction portion specification enabled area 101 front needle drop point 102 larger portion rear needle drop point 102 front area front side boundary line shown drawing larger rear area rear side boundary line boundary line line pass needle drop 102 point extends left right direction hereinafter order facilitate explanation specification enabled area 101 also referred front side area includes needle drop point 102 needle drop point 102 point sewing needle may pierce work cloth 100 center point needle hole formed needle plate 34 needle drop point 102 coincident center needle bar 29 length specification enabled area 101 front rear direction slightly shorter one half length embroidery frame 35 front rear direction length specification enabled area 101 left right direction slightly shorter length embroidery frame 35 left right direction reason specification enabled area 101 front side area includes needle drop point 102 explained shown fig1 operation switch 21 lcd 15 like provided front face sewing machine 1 therefore operator may operate sewing machine 1 front side sewing machine 1 operator may bring ultrasound pen 91 close work cloth 100 front side sewing machine 1 press pen tip 911 work cloth 100 case specification enabled area 101 positioned rear needle drop point 102 operator use ultrasound pen 91 designate position within specification enabled area 101 avoiding needle bar 29 presser bar 31 addition head 14 arm 13 interfere operator 39 view specification enabled area 101 word case specification enabled area 101 positioned rear needle drop point 102 extremely difficult operator designate position within specification enabled area 101 hand present embodiment specification enabled area 101 front side area includes needle drop point 102 therefore present embodiment position work cloth 100 designated ultrasound pen 91 position located front needle drop point 102 thus comparing case specification enabled area 101 positioned rear needle drop point 102 operator easily designate position within specification enabled area 101 square area bounded dashed dotted line shown work cloth 100 held embroidery frame 35 indicates sewing enabled area 110 refer fig8 sewing enabled area 110 area sewing machine 1 able perform sewing embroidery pattern work cloth 100 held embroidery frame 35 sewing enabled area 110 defined size sewing enabled area 110 slightly smaller embroidery frame 35 coordinate information describes sewing enabled area 110 stored rom 62 association information indicates type embroidery frame 35 example cpu 61 specifies type embroidery frame 35 mounted sewing machine 1 example specifies coordinate information describes sewing enabled area 110 stored association information indicates specified type embroidery frame 35 method specifying type embroidery frame 35 mounted sewing machine 1 described later coordinate information indicates position sewing enabled area 110 may example coordinate information indicates position four vertex sewing enabled area 110 embroidery frame 35 positioned initial position initial position described later length one half length sewing enabled area 110 front rear direction shorter length specification enabled area 101 front rear direction length sewing enabled area 110 left right direction slightly longer length specification enabled area 101 left right direction sewing enabled area 110 divided four sub area line segment 117 118 line segment 117 118 line segment connect midpoint opposite side sewing enabled area 110 among four sub area right rear sub area right front sub area left rear sub area left front sub area respectively defined sub area 111 112 113 114 fig8 needle drop point 102 located point intersection line segment 117 118 center embroidery frame 35 hereinafter position embroidery frame 35 state needle drop point 102 located center embroidery frame 35 defined initial position portion sub area 112 114 overlap portion specification enabled area 101 right edge sub area 112 positioned right right edge specification enabled area 101 similarly left edge sub area 114 positioned left left edge specification enabled area 101 state shown fig8 case operator us ultrasound pen 91 designate position within sub area 111 example sub area 111 located outside specification enabled area 101 therefore receiver 94 95 able accurately receive ultrasonic wave transmitted designated position within sub area 111 case operator may use panel operation designate sub area 111 includes position operator designates using ultrasound pen 91 sewing machine 1 may control embroidery device 2 move embroidery frame 35 designated sub area 111 accommodated within specification enabled area 101 accordingly receiver 94 95 receive sufficient accuracy ultrasonic wave ultrasound pen 91 transmits position within sub area 111 accordingly sewing machine 1 accurately specify designated position explained detail case example operator designated sub area 111 area includes position designated ultrasound pen 91 sewing machine 1 operating x axis motor 86 control x axis moving mechanism embroidery frame 35 moved left initial position also operating axis motor 87 sewing machine 1 control axis moving mechanism embroidery frame 35 moved toward front initial position embroidery frame 35 thus moved obliquely left toward front initial position refer fig8 sub area 111 accommodated within specification enabled area 101 refer fig9 furthermore case operator us panel operation designate one sub area 112 113 114 area includes position designated ultrasound pen 91 embroidery frame 35 moved manner designated one sub area 112 113 114 accommodated within specification enabled area 101 refer fig1 12 sub area includes position operator want position designated position positioned within specification enabled area 101 moving embroidery frame 35 described operator us pen tip 911 ultrasound pen 91 designate position work cloth 100 operator want position designated position pen tip 911 ultrasound pen 91 pressed work cloth 100 ultrasound transmitter 915 transmits ultrasonic wave time ultrasonic wave transmitted within specification enabled area 101 therefore receiver 94 95 able receive ultrasonic wave sufficient accuracy accordingly sewing machine 1 specifies designated position accurately performs sewing based specified designated position described using ultrasound pen 91 operator easily accurately perform designating desired position work cloth 100 controlling embroidery device 2 accordance command issued panel operation sewing machine 1 may move embroidery frame 35 receiver 94 95 able receive ultrasonic wave sufficient accuracy thus sewing machine 1 able specify designated position accurately perform sewing case position within sewing enabled area 110 work cloth 100 designated ultrasound pen 91 next case explained reference fig1 14 embroidery frame 36 smaller embroidery frame 35 mounted embroidery device 2 used shown fig1 length embroidery frame 36 front rear direction left right direction respectively two third length embroidery frame 35 refer fig8 like front rear direction left right direction length specification enabled area 101 front rear direction longer one half length embroidery frame 36 front rear direction length specification enabled area 101 left right direction longer length embroidery frame 36 left right direction rectangular sewing enabled area 120 work cloth 100 held embroidery frame 36 shown fig1 14 length sewing enabled area 120 front rear direction slightly shorter length specification enabled area 101 front rear direction length sewing enabled area 120 left right direction shorter length specification enabled area 101 left right direction specification enabled area 101 larger area sewing enabled area 120 therefore unlike case embroidery frame 35 mounted embroidery device 2 sewing machine 1 control embroidery device 2 move embroidery frame 36 entire sewing enabled area 120 accommodated within specification enabled area 101 shown fig1 accommodating entire sewing enabled area 120 within specification enabled area 101 make possible receiver 94 95 receive sufficient accuracy ultrasonic wave transmitted ultrasound pen 91 regardless position within sewing enabled area 120 designated designated position therefore sewing machine 1 able specify designated position accurately case embroidery frame 36 used size sewing enabled area 120 smaller specification enabled area 101 described necessary establish sub area word acceptable establishing sub area determined accordance size embroidery frame furthermore described detail later sewing machine 1 may provided determination portion determines size type embroidery frame mounted embroidery device 2 sewing machine 1 may also configured perform processing determines whether embroidery frame requires establishing sub area control embroidery device 2 based determination main processing explained reference fig1 cpu 61 performs main processing accordance program stored rom 62 cpu 61 start main processing example panel operation performing sewing work cloth 100 detected cpu 61 determines whether panel operation detected shift sewing machine 1 ultrasound mode step 11 ultrasound mode operating mode sewing machine 1 able detect ultrasonic wave transmitted ultrasound pen 91 case panel operation shift ultrasound mode detected step 11 cpu 61 return processing step 11 case panel operation shift ultrasound mode detected yes step 11 cpu 61 determines type embroidery frame mounted frame holder 55 embroidery device 2 specifically plurality projecting portion shown drawing example may formed plurality projecting portion lined attachment portion shown drawing embroidery frame attached frame holder 55 frame holder 55 side plurality switch shown drawing provided plurality switch lined position correspond individual one plurality projecting portion state embroidery frame attached frame holder 55 plurality projecting portion formed attachment portion come contact corresponding one plurality switch provided frame holder 55 number arrangement plurality projecting portion different type embroidery frame therefore case embroidery frame mounted frame holder 55 number arrangement switch among plurality switch projecting portion come contact different type embroidery frame embroidery frame mounted frame holder 55 cpu 61 determines type embroidery frame detecting contact state individual one plurality switch contact state state projecting portion contact switch note method described example cpu 61 may also determine type embroidery frame method use various type sensor cpu 61 determines whether embroidery frame mounted frame holder 55 embroidery device 2 large embroidery frame step 13 case based type embroidery frame cpu 61 determined example entire sewing enabled area mounted embroidery frame accommodated within specification enabled area 101 cpu 61 determines mounted embroidery frame small embroidery frame contrast case entire sewing enabled area mounted embroidery frame accommodated within specification enabled area 101 cpu 61 determines mounted embroidery frame large embroidery frame case embroidery frame mounted frame holder 55 embroidery device 2 large embroidery frame 35 yes step 13 cpu 61 display selection screen lcd 15 step 15 selection screen screen operator able select one sub area 111 114 refer fig8 like cpu 61 determines whether panel operation detected selects one sub area 111 114 step 17 ease panel operation detected step 17 cpu 61 return processing step 17 case panel operation selects one sub area 111 114 detected yes step 17 cpu 61 specifies post move position embroidery frame 35 step 18 present embodiment position embroidery frame 35 moved also referred prescribed position method specifying prescribed position case panel operation selects one sub area 111 114 detected explained fig1 show table 641 stored eeprom 64 identification information item stored table 641 association coordinate information item x coordinate coordinate identification information item identification information item information item identifies one sub area 111 114 coordinate information item information item indicates position embroidery frame 35 case one sub area 111 114 selected example coordinate information item may coordinate information indicates position center point embroidery frame embroidery frame positioned prescribed position center point embroidery frame point intersection line segment 117 118 present embodiment sewing machine 1 direction left right direction front rear positive direction x axis axis respectively cpu 61 selects coordinate information item associated identification information item identifies sub area selected panel operation detected step 17 refer fig1 cpu 61 specifies prescribed position position specified selected coordinate information item example prescribed position specified coordinate information px py corresponds sub area 111 equivalent position embroidery frame 35 shown fig9 manner prescribed position specified coordinate information qx qy corresponds sub area 112 equivalent position embroidery frame 35 shown fig1 prescribed position specified coordinate information rx ry corresponds sub area 113 equivalent position embroidery frame 35 shown fig1 prescribed position specified coordinate information sx sy corresponds sub area 114 equivalent position embroidery frame 35 shown fig1 coordinate information specifying prescribed position thus stored sewing machine 1 advance eeprom 64 sub area 111 114 therefore cpu 61 able specify post move position embroidery frame 35 move embroidery frame 35 prescribed position prescribed position specified cpu 61 display warning message lcd 15 step 19 warning message may example message say “ embroidery frame move ” warning message may displayed five second example displaying message sewing machine 1 prompt operator pay attention fact embroidery frame 35 move cpu 61 operates x axis motor 86 axis motor 87 embroidery frame 35 moved specified prescribed position manner cpu 61 cause embroidery device 2 move embroidery frame 35 prescribed position step 20 cpu 61 advance processing step 21 step 13 case embroidery frame mounted frame holder 55 embroidery device 2 small embroidery frame 36 step 13 cpu 61 specifies prescribed position position embroidery frame 36 entire sewing enabled area 120 refer fig1 accommodated within specification enabled area 101 step 14 note case embroidery frame mounted frame holder 55 embroidery device 2 small embroidery frame 36 coordinate information indicates prescribed position stored eeprom 64 advance cpu 61 specifies prescribed position reading coordinate information eeprom 64 cpu 61 display warning message lcd 15 step 19 cpu 61 operates x axis motor 86 axis motor 87 embroidery frame 36 moved specified prescribed position manner cpu 61 cause embroidery device 2 move embroidery frame 36 prescribed position step 20 cpu 61 advance processing step 21 cpu 61 determines whether ultrasonic wave detected receiver 94 95 step 21 case ultrasonic wave detected receiver 94 95 step 21 cpu 61 return processing step 21 case operator pressed pen tip 911 ultrasound pen 91 work cloth 100 signal output circuit 914 ultrasound pen 91 output electrical signal cable 912 time ultrasound transmitter 915 ultrasound pen 91 transmits ultrasonic wave cpu 61 detects electrical signal output ultrasound pen 91 cable 912 cpu 61 specifies time electrical signal detected transmission time 1 specifying transmission time 1 cpu 61 detects ultrasonic wave receiver 94 95 cpu 61 specifies time ultrasonic wave detected detection time 2 case ultrasonic wave detected receiver 94 95 yes step 21 cpu 61 specifies designated position computing designated coordinate e based transmission time 1 pair detection time 2 step 23 cpu 61 determines whether among operation switch 21 operation start stop switch starting sewing detected step 25 case operation start stop switch detected step 25 cpu 61 return processing step 25 case operation start stop switch detected yes step 25 cpu 61 performs control starting sewing designated position control starting sewing designated position may hereinafter described example operating x axis motor 86 axis motor 87 cpu 61 operates x axis moving mechanism axis moving mechanism position indicated x coordinate xe coordinate ye computed designated coordinate e becomes coincident needle drop point 102 refer fig8 like embroidery frame held carriage 52 moved work cloth 100 held embroidery frame moved designated position disposed directly sewing needle directly needle drop point 102 cpu 61 cause needle bar 29 move operating sewing machine motor 79 cpu 61 move embroidery frame controlling embroidery device 2 manner cpu 61 cause sewing machine 1 start sewing embroidery pattern designated position work cloth 100 held embroidery frame step 27 cpu 61 terminates main processing explained moving embroidery frame prescribed position sewing machine 1 able specify position work cloth 100 designated using ultrasound pen 91 sewing machine specify designated position note present disclosure limited embodiment described various type modification made explanation sewing machine 1 used state embroidery device 2 mounted removed mounted however sewing machine 1 may also embroidery sewing machine provided integral embroidery device 2 function sewing machine 1 may also embroidery sewing machine provided plurality needle bar embodiment described sewing machine 1 specifies designated position based transmission time 1 pair detection time 2 ultrasonic wave method specifying designated position may also different method example sewing machine 1 may specify designated position based transmission time 1 ultrasonic wave note sewing machine 1 may also provided two receiver although detailed explanation omitted sewing machine 1 specify designated position specifying pair detection time 2 ultrasonic wave detected receiver explanation case embroidery frame 35 mounted embroidery device 2 sewing machine 1 determines prescribed position corresponds one sub area 111 114 operator established panel operation sewing machine 1 move embroidery frame 35 accordingly however also acceptable sewing machine 1 establish sub area advance example operator may also use panel operation select position within sewing enabled area 110 operator want designate using ultrasound pen 91 sewing machine 1 may also move embroidery frame 35 selected position area includes area around selected position accommodated within specification enabled area 101 example sewing machine 1 may move embroidery frame 35 selected position positioned center specification enabled area 101 example sewing machine 1 specifies coordinate information indicates position center specification enabled area 101 based coordinate information indicates position four vertex specification enabled area 101 sewing machine 1 may specify prescribed position based coordinate information indicates selected position specified coordinate information indicates position center specification enabled area 101 sewing machine 1 may specify prescribed position based positional relationship specification enabled area 101 area includes area around selected position positioning specification enabled area 101 relation needle drop point 102 limited example described example specification enabled area 101 may also defined needle drop point 102 positioned center specification enabled area 101 shape specification enabled area 101 limited square shape specification enabled area 101 may also one circle ellipse polygon explanation sewing enabled area 110 divided four sub area 111 114 however number sub area limited four number sub area may also one two three four shape sub area also limited rectangle shape sub area may defined shape accordance shape embroidery frame 35 apparatus method described reference various embodiment merely example go without saying confined depicted embodiment various feature described conjunction example outlined various alternative modification variation improvement feature example may possible accordingly example set forth intended illustrative various change may made without departing broad spirit scope underlying principle']\n",
            "['US-37237789-A', 'referring fig1 machine according present invention comprises automatic feeding station 1 connected many identical module 2 3 4 exit evacuation station 5 put fibrous cloth homogeneous one time thickness density upon entire width machine usable width 6 shown fig5 8 practically equal axial length tearing drum 7 module 2 3 4 tearing drum 7 disposed within housing 60 larger example equal several meter automatic feeding station 1 comprises vertical stack 8 textile scrap opening poured height stack 8 arrow 9 fig2 stack 8 extends entire width 6 housing 60 machine interior stack 8 comprises two approximately vertical partition wall 10 11 pneumatic transport piping 12 pours scrap opening least one wall 10 11 vibrates vibrating wall 11 preferably perforated let air pneumatic transport 12 arrow 13 escape suction extractor 14 scrap supplied pneumatic transport 31 received bottom stack 8 arrow 15 time recovered poured fiber received along arrow 9 due arrangement fiber scrap fall feeding conveyor 17 form approximately uniform cloth entire width machine forwarded arrow 15 toward drum point teeth first module 2 cloth 18 question end known manner feeding roller 19 reserve trough 20 shown fig3 trough 20 formed one piece structure entire width machine divided form constituted placing several pedal treadle shape side side fiber opened point rotary drum 7 fixed adjustable deflecting sheet metal 21 separate material two stream shown fig4 first stream consists light textile fiber adequately open flow along direction indicated arrow 22 stream consists solid scrap scrap insufficiently open 23 fall horizontal valve 24 bushel sieve valve 24 extends entire width machine turn periodically example every 10 second following 180 ° angle around transverse horizontal axle 25 fixed receiving trough 26 kept permanently horizontal valve 24 suction returning solid scrap pneumatic transport shaft 27 extending entire length machine fig1 rear part shaft 27 returning toward piping 28 situated upper part feeding station 1 piping 28 emerges tangentially tank centrifugal separator 29 lower part tank one recovers arrow 30 hard heavy scrap contrary upper part separator 29 reusable fiber deducted advance piping 31 recycles toward feed piping 12 downstream drum 7 fiber 22 fall perforated conveyor strip 32 fig4 5 circulates continuously roller 33 fixed suction loading device 34 provided conveyor strip 32 extending entire width machine seen fig7 fixed suction loading device 34 divided many compartment 35 36 37 38 39 disposed one next entire width 6 machine compartment 35 36 37 38 39 connected common lateral suction 40 thus keep interior space loading device 34 hollow consequently space perforated conveyor strip 32 kept clear due disposition fiber forwarded along direction arrow 22 form conveyor strip 32 fibrous cloth 41 whose homogeneity stay satisfactorily uniform entire width 6 machine far thickness density concerned cloth 41 sent toward following module 3 4 finally exit machine evacuation station 5 provides fibrous cloth evacuation conveyor belt 42 fig1 fibrous cloth desired quality perfect homogeneity entire width machine even width equal several meter module 2 3 4 drum point 7 raisable cover lid 43 mounted fig4 6 lid 43 raised fig6 machine rest one conduct sharpening point needle corresponding drum 7 accomplish sharpening invention provides side upper part machine two longitudinal rotating stack 44 extremity cross piece 45 rotate length cross piece meaning transversely comparison entirety machine double arrow 46 fig8 displace groove 47 sharpener 48 lower extremity carry rotation millstone 49 type known way cross piece sharpening bridge 45 stopped drum 7 sufficient displace alternatively length groove 47 order sharpen point drum 7 situated corresponding generator rotation drum 7 permit way sharpening totality point due arrangement one see single sharpening bridge 45 allows sharpening point drum 7 machine mean provided selectively regulating amplitude frequency movement wall 11 eventually wall 10 automatic feeding station 1 assures good discharge majority scrap 16 provides even density lower part passage transfer arrow 15 toward feeding apparatus tearer opener disintegrator like referring fig4 suction 50 comprises pneumatic piping 51 52 formed assembly loading device 34 perforated strip 32 support part 33 drive part block 53 one take fashion drawer lateral sliding see fig9 arrow 54 considerably facilitates maintenance operation machine understood foregoing description merely exemplary limitative true scope invention defined following claim']\n",
            "['US-60823390-A', 'sewing unit shown fig1 2 case automatic sewing unit stand 1 sewing machine 2 rigidly arranged consists customary manner base plate 3 standard 4 upper arm 5 mounted arm 5 sewing machine customary manner arm shaft 6 driven electric sewing machine drive motor 7 drive needle bar 8 needle 9 addition drive hook shown drawing situated base plate 3 derived customary manner arm shaft 6 bearing plate 11 upper side defining sewing plane 12 arranged stand 1 upper side 10 latter bearing plate 11 supported -- least partly -- supporting plate 13 supported stand 1 way support 14 bearing plate 11 also supported base plate 3 sewing machine 2 path movement needle bar 8 needle 9 defined z direction stitch hole 15 permit passage needle 9 hook bearing plate 11 provided guiding device 16 guiding workpiece sewn together explained even detail device -- seen operator 39 side 19 -- arranged behind sewing machine 2 upper base plate 20 rearward area 21 stand 1 opposite operator 39 side 19 supported -- seen operator 39 side -- behind bearing plate 11 stand 1 way vertical supporting wall 22 attached underside base plate 20 guide rod 23 run parallel one another x direction carriage 24 mounted slidable x direction carriage 24 driven electric motor 25 case geared motor via timing belt pulley 26 endless timing belt 27 motor 25 timing belt pulley 26 supported base plate 20 deflection pulley 28 likewise mounted base plate 20 timing belt 27 arranged base plate 20 guide rod 23 run parallel latter connected carriage 24 mean securing device 29 case clamping device mounted underside carriage 24 designated x carriage pair guide rod 30 run direction e perpendicular x direction parallel one another carriage 31 slidably guided direction carriage 31 therefore designated carriage carriage 24 31 therefore guided suspended respective guide rod 23 30 carriage 31 driven way electric motor 32 -- necessary likewise form geared motor -- attached x carriage 24 rearward area 21 timing belt pulley 33 carriage 31 driven via endless timing belt 34 timing belt 34 guided parallel guide rod 30 via deflection pulley 35 mounted underside carriage 31 secured underside carriage mean securing device 36 x direction perpendicular one another perpendicular z direction x z direction therefore form standard cartesian coordinate system x direction parallel sewing plane 12 x direction run parallel main longitudinal direction sewing machine 2 e parallel arm shaft 6 workpiece holder 37 mounted underside carriage 31 pivotable tilt axle 38 running parallel direction purpose workpiece holder 37 attached end angle lever 39 end mounted tilt axle 38 shown fig1 2 angle lever 39 bent twice firstly away workpiece holder 37 direction towards rear area 21 secondly upwards z direction bearing plate 11 towards underside carriage 31 tilt axle 38 workpiece holder 37 provided lift press drive 40 one hand engages angle lever 39 hand carriage 31 drive case linear drive customarily form pneumatically operatable piston cylinder drive evident preceding text entire guiding device 16 arranged together associated component bearing plate 11 therefore arranged close sewing machine 2 workpiece holder 37 least one slot 41 follows course least one seam produced mean two workpiece sewn together sewing machine 2 guiding device 16 associated preparatory station 42 workpiece brought position relative one another necessary sewing preparatory station 42 folding device 43 workpiece case trouser forepart brought together folded correctly positioned second workpiece case strip cloth zip fastener component also previously folded folding device 43 cover like carrier 44 arranged bearing plate 11 project partly latter towards rear side 45 stand 1 rear side 45 meaning side opposite operator 39 side 19 rear end carrier 44 downwardly projecting lever arm 46 area pass lever arm 46 carrier 44 mounted pivotable tilt axle 47 extends x direction supported two bearing arm 48 mounted rear side 45 stand 1 project stand towards rear side 45 upward direction engaging lower end lever arm 46 tilt drive 49 case pneumatically operatable four position piston cylinder drive therefore apart two end position positioned two intermediate position result carrier 44 thus trouser part zip fastener folding device 50 supported carrier positioned four different tilt position tilt drive 49 supported rear side 45 stand 1 two guide rod 51 parallel one another extend perpendicularly x direction folding device 50 slidably guided mean sliding bearing 52 arranged carrier 44 carrier 44 upward rearward pivoted position shown fig3 guide rod 51 extend direction approximately parallel bearing plate 11 displacing drive 53 folding device 50 drive engages slide bearing 52 arranged carrier 44 guide rod 51 displacing drive 53 therefore linear drive case example pneumatic cylinder without piston rod commercially available name origa mean displacing drive 53 folding device 50 brought position fully extended carrier 44 towards operator 39 side 19 -- shown left side fig3 -- position fully retracted carrier 44 -- shown right side fig3 zip fastener receiving carrier 54 arranged essentially cover like carrier 44 particularly guide rod 51 sliding bearing 52 likewise mounted pivotably tilt axle 47 rear end carrier 54 formed downwardly extending arm 55 arranged essentially inside lever arm 46 engaging lower end arm 55 tilt drive 56 mean zip fastener receiving carrier 54 pivoted tilt axle 47 tilt drive 56 designed pneumatic three position piston cylinder drive positioned position corresponding three lower position folding device 50 carrier 54 arranged -- seen fig2 3 -- two guide rod 57 parallel one another extend essentially direction reception 58 mounted slidable mean sliding bearing 59 reception 58 displaced way reception displacing drive 60 arranged receiving carrier 54 designed identically displacing drive 53 displacement take place two end position extended position shown left fig3 whereas retracted position indicated right fig3 part sliding bearing 59 represented dot dash line zip fastener reception 58 bearing plate 61 extends longitudinally essentially direction provided folding edge 62 zip fastener guiding rail 63 longitudinal slot bottom side facing bearing plate 61 arranged bearing plate 61 little distance bearing plate 61 guiding rail 63 provided u profile cut open case profile serf take toothed strip 65 zip fastener component 67 sewn strip cloth 66 folding device 50 bearing plate 68 bottom side trouser sliding plate 69 arranged slidable x direction two end position mean sliding plate drive 70 arranged bearing plate 68 drive 70 consists pneumatically operatable two position piston cylinder drive cylinder 71 supported abutment 72 arranged bearing plate 68 piston rod 73 secured free end strip shaped carriage 74 carriage 74 slidable two parallel guiding rail 75 extending x direction supported abutment 72 one hand end support 76 hand carriage 74 project cranked opening 76a bearing plate 68 bear trouser sliding plate 69 bearing plate 68 trouser sliding plate 69 provided folding edge 77 running parallel folding edge 62 bearing plate 61 zip fastener reception 58 folding edge 77 congruent folding edge 62 trouser sliding plate 69 extended working position seen particular fig5 6 cylinder 71 connected source compressed air shown way compressed air connection 78 79 cloth strip side slider 80 arranged bearing plate 68 mean slider 80 rim 81 strip cloth 66 sewn together zip fastener component 67 folded around folding edge 62 bearing plate 61 side slider 80 c shaped lower arm 82 sliding rim 81 around folding edge 62 see fig5 6 cloth strip side slider 80 connected pneumatically operatable displacing module 84 mean supporting bar 83 pneumatically operatable displacing module 84 movable two end position lower arm 82 cloth strip side slider 80 either engages bearing plate 61 -- shown fig5 6 -- free one another e moved apart x direction trouser side slider 85 provided bearing plate 68 slider 85 slidable inner outer end position equally mean displacing module 86 supporting bar 87 extending cloth strip side slider 80 secured displacing module 86 trouser side slider 85 consisting flat substantially rectangular plate secured supporting bar 87 vertically slidable manner mean two vertical guide rod 88 pre tensioned helical coil compression spring 89 surround guide rod 88 mean power exercised downwards direction side slider 85 provided supporting bar 87 side slider 85 sliding path limited adjustable upper stop 90 secured guide rod 88 bear top side supporting bar 87 pressure drive 91 formed pneumatically operatable piston cylinder drive arranged centrally two guide rod 88 supporting bar 87 cylinder 92 drive secured supporting bar 87 piston rod 93 moved downwards towards side slider 85 whereby moved end position piston rod 93 side slider 80 fixed blocked lower position relative supporting bar 87 position stop 90 bear supporting bar 87 alternatively side slider 80 fixed position downwards arrested pressure drive 91 lift bearing plate 68 upwards force tilt drive 49 cloth strip corner slider 94 provided bearing plate 68 slidable angle 45 ° relative x direction direction namely cooperation cloth strip corner folding edge 95 provided bearing plate 61 corner slider 94 slidable two end position mean displacing module 96 arranged bearing plate 68 fig8 moved position shown pass opening 94a bearing plate 68 position shown fig8 9 corner slider 94 moved folding edge 95 thus folding corner 97 strip cloth 66 -- according fig9 displacing module 84 86 96 pneumatically operatable commercially available bearing plate 68 recess 98 receiving zip fastener guiding rail 63 bearing plate 68 may also lowered via latter side recess 98 resilient bar 99 made example foamed rubber secured bottom side bearing plate 68 bear strip cloth 66 held zip fastener reception 58 lie bearing plate 61 press bearing plate 61 suction device 100 provided bearing plate 11 suction opening 101 leading top side bearing plate 11 connected vacuum source shown mean one vacuum line 102 case thus sewing workpiece trouser forepart 103 positioned held position bearing plate mean underpressure blowing device 104 arranged adjacent folding edge 77 touser sliding plate 69 namely latter moved working position connected top side bearing plate 11 way blowing opening 105 connected source compressed air shown mean compressed air pipe 106 rim 107 trouser forepart 103 associated folding edge 77 lifted mean blowing device 104 prior detailed explanation mode operation described sewing unit method thus applied basic problem sewing technique outlined help fig1 12 left strip cloth 66 shown left zip fastener component 67 sewn double seam 108 one hand realized way left zip fastener component 67 already connected right zip fastener component 109 e stop 110 slider 111 shown fig1 fig6 hand also possible sew endless left zip fastener component 67 left cloth strip 66 mean double seam 108 separate processed still remains described shown fig1 b rim 112 cloth strip 66 folded e opposite rim 81 provided finishing seam 113 left strip cloth 66 left zip fastener component 67 whole zip fastener respectively also designated fly lining fly strip sewn left trouser forepart 103 sewing sewing respectively right zip fastener component 109 right strip cloth 114 right trouser forepart 115 described sewn together left trouser forepart 103 right trouser forepart 115 form pair foretrousers shown fig1 connection two trouser hindparts shown make total pair trouser two trouser forepart 103 115 provided pocket mouth 116 116 39 pocket pouch 117 117 39 along longitudinal edge trouser forepart 103 115 substantially finished mean finishing seam 118 118 39 following sewing left strip cloth 66 left zip fastener component 67 left trouser forepart 103 described whenever left strip cloth 66 mentioned mean left strip cloth associated zip fastener component 67 start position preparatory station 42 folding device 50 zip fastener reception 58 position facing away operator 39 side 19 towards rear side 45 first left trouser forepart 103 put bearing plate 11 aligned example mean mark bearing plate 11 suction device 100 put operation trouser forepart 103 held positioned zip fastener reception 58 moved position towards operator 39 side 19 namely upper position shown fig3 solid line actuation displacing drive 60 left strip cloth 66 introduced zip fastener reception 58 rest bearing plate 61 zip fastener component 67 pulled longitudinal slot 64 guiding rail 63 position shown fig1 bearing plate moved upper position towards operator 39 side 19 shown fig3 top left distance zip fastener reception 58 bearing plate lowered middle position e upper intermediate position corresponding actuation tilt drive 49 shown fig3 middle left thus lower arm 82 cloth strip side slider 80 take position bearing plate 61 folding rim 81 strip cloth 66 around folding edge 62 shown fig1 b compressed air admitted displacing module 84 cloth strip side slider 80 lower arm 82 latter drawn bearing plate rim 81 strip cloth 66 folded around folding edge 62 bearing plate 61 shown fig1 c time cloth strip corner slider 94 moved corresponding actuation displacing module 96 corner 97 strip cloth 66 folded around cloth strip corner folding edge 95 bearing plate 61 trouser sliding plate 69 moved direction towards trouser side slider 85 corresponding actuation drive 70 folding edge 77 trouser side slider 85 take position folding edge 62 bearing plate 61 bearing plate 68 zip fastener reception 58 lowered take intermediate position closely bearing plate 11 corresponding actuation tilt drive 49 56 shown fig1 thus trouser sliding plate 69 come contact trouser forepart 103 lying bearing plate 11 compressed air admitted pressure drive 91 trouser side slider 85 fixed lower position relative bearing plate 68 compressed air admitted blowing device 104 rim 107 trouser forepart 103 blown upwards e lifted shown fig1 displacing module 86 trouser side slider 85 actuated compressed air way rim 107 trouser forepart 103 folded around folding edge 77 trouser sliding plate 69 flowing device 104 switched mean corresponding actuation tilt drive 49 56 bearing plate 68 zip fastener reception 58 brought lowest position position shown fig1 e lowering bearing plate 68 zip fastener reception 58 piston rod 93 pressure drive 91 relieved e trouser side slider 85 longer fixed trouser side slider 85 take position stop 90 longer bear supporting bar 87 indicated fig5 lifted supporting bar 87 dimension cloth thickness rim 107 mean corresponding inverse actuation drive 70 trouser sliding plate 69 retracted displacing module 86 actuated way trouser side slider 85 moved outwards displacing module 84 96 actuated way clothstrip side slider 80 cloth strip corner slider 94 respectively moved folding position part located bearing plate 68 free trouser forepart strip cloth 66 bearing plate 68 tilted upwards uppermost position corresponding actuation tilt drive 49 zip fastener reception 58 however still rest lower position taken fig1 f workpiece holder 37 might well designated transfer plate still sewing position 119 sewing machine 2 moving carriage 31 simultaneously actuating lift press drive 40 workpiece holder 37 moved direction towards operator 39 side 19 lifted finished workpiece namely trouser forepart 103 may taken away workpiece holder 37 moved towards preparatory station 42 moving x carriage e folded trouser forepart 103 folded strip cloth 66 mean inverse actuation lift press drive 40 workpiece holder lowered folded trouser forepart 103 slot 41 workpiece holder dimensioned may take zip fastener guiding rail 63 zip fastener reception 58 resilient pressure bar 120 project slot 41 bear strip cloth 66 area folded rim 81 guiding rail 63 zip fastener reception 58 moved rear position e direction towards rear side 45 corresponding actuation reception displacing drive trouser forepart 103 strip cloth 66 zip fastener component 67 held workpiece holder 37 bearing plate 11 corresponding moving x carriage 24 carriage 31 trouser forepart 103 strip cloth 66 moved transfer position sewing position 119 sewing machine 2 proceeding seam starting point n upper outer corner n strip cloth 66 trouser forepart 103 sewn together along folded rim 81 107 straight line seam 122 lower outer seam point area rim 112 strip cloth 66 sewn mean j shaped seam 123 upper inner seam point p corner 97 strip cloth 66 trouser forepart 103 sewn short seam 124 sewn direction towards seam starting point n point q j seam 125 parallel j seam 123 sewn seam end point r seam 122 section r q sewn taken outlined sewing trouser forepart 103 done behind e sight seam lying outwards according fig1 formed looper thread sewing machine 2 seam lying inwards fig1 formed needle thread sewing described seam may still followed sewing seam trouser forepart 103 -- workpiece designed effect example pocket pouch 117 may secured seam block 126 order avoid slipping trouser forepart 103 strip cloth 66 zip fastener component 67 positioned forepart 103 movement mean guiding device 16 bearing plate 11 relative workpiece holder 37 serving transfer plate latter provided usual manner adhesion mean foamed rubber strip like side facing trouser forepart 103 purpose automatization work cycle described computer 127 provided mean various drive triggered sequence initial triggering operator']\n",
            "['US-201113167863-A', 'order make structure characteristic well effectiveness present invention understood recognized detailed description present invention provided follows along preferred embodiment accompanying figure present invention us nonwoven yarn weave yarn material produce cloth fig1 show manufacturing flowchart according preferred embodiment present invention shown figure present invention us nonwoven different material produce yarn comprises step step 10 taking nonwoven nonwoven made different material polyester polypropylene polyethene polyvinyl ester polyolefin step 12 performing slitting process nonwoven obtaining plurality nonwoven thread due nonwoven made different material nonwoven yarn get good mechanical characteristic textile strength stress step 14 twisting nonwoven thread obtain plurality nonwoven yarn otherwise step comprises step 16 18 wherein step 16 performing weaving procedure plurality nonwoven yarn producing cloth wherein weaving procedure performed tatting knitting plain weaving mesh weaving step 18 performing appearance working process cloth produced nonwoven yarn cloth dyed printed least one pattern least one stamp dyeing printing flower pattern gear pattern block stamp cloud stamp cloth appearance working process dyed cloth get different color effect due nonwoven yarn made nonwoven made different material different rendering property otherwise cloth also able coated water resistant material appearance working process adding water resistant property cloth due nonwoven made different material shape pattern stamp would contoured obviously example appearance effect cloth determined different depth stamp cloth hand solid impression cloth would enhanced different depth stamp caused different material arranged cross nonwoven physical characteristic softness using yarn increase usability cloth addition taking advantage softness characteristic nonwoven along various weaving scheme different appearance application provided nonwoven described fabric manufactured bonding needle punching water mangling heat melting spunbonding meltblowing using different material raw material nonwoven described present invention technological characteristic present invention thereby cloth manufactured wetlaid drylaid polymer extrusion used well furthermore weaving method according present invention include tatting knitting plain weaving mesh weaving taking tatting example referring fig2 weaving method comprises following step step 20 warping organize yarn install beam step 21 sizing strength yarn sufficient hence yarn immerse thick amylum liquid step 22 leasing healding divide thread beam odd even thread install heald frame step 23 reeding installing heald frame weaving machine step 24 weaving warp yarn carried depending odd even numbering weft yarn carried shuttle back forth weave two set yarn step 25 examination examine flaw exist woven cloth mending performed required step 26 finishing deliver finished textile perform dyeing finishing fig3 show manufacturing flowchart according another preferred embodiment present invention shown figure manufacturing process according another preferred embodiment present invention comprises step step 30 taking nonwoven nonwoven also made different material step 32 performing slitting process nonwoven obtaining plurality nonwoven yarn step 34 performing twisting procedure plurality nonwoven thread obtain plurality nonwoven yarn step comprises step 36 38 wherein step 36 performing weaving procedure plurality nonwoven yarn thread yarn producing cloth weaving procedure performed tatting knitting plain weaving mesh weaving step 38 performing appearance working process cloth produced nonwoven yarn wherein cloth dyed printed least one pattern least one stamp flower pattern gear pattern block stamp cloud stamp appearance working process yarn different material includes polymer metal nonmetal material woven nonwoven yarn according present invention textile various functionality produced besides tatting knitting plain weaving mesh weaving applied weaving furthermore light shielding characteristic cloth made plain weaving mesh weaving accordingly present invention conforms legal requirement owing novelty non obviousness utility however foregoing description preferred embodiment present invention used limit scope range present invention equivalent change modification made according shape structure feature spirit described claim present invention included appended claim present invention']\n",
            "['US-42300289-A', 'component vinyl acetate vinyl propionate vinyl isobutyrate vinyl 2 ethylhexanoate vinyl versatate vinyl laurate example preferably vinyl acetate employed component preferably employed amount 70 98 weight hard binder system preferably amount 40 80 weight soft binder system component b employed amount 1 6 weight preferably contains methyl radical alkyl radical methoxy ethoxy methoxyethylene ethoxyethylene methoxypropylene glycol ether ethoxypropylene glycol ether radical alkoxy radical particular vinyl trimethoxysilane vinyl triethoxysilane used component b preferably copolymerized amount 1 4 weight component c ethylene preferably employed soft binder system amount 5 35 weight component hydroxyethyl acrylate hydroxypropyl acrylate hydroxypropyl methacrylate hydroxymethacrylate preferably employed component preferably copolymerized amount 0 7 5 weight component e preferably cover monocarboxylic acid acrylic acid methacrylic acid crotonic acid ethylenically unsaturated dicarboxylic acid monoesters thereof maleic acid fumaric acid itaconic acid preferred content e polymer 0 5 weight component f acrylamide n methylolacrylamide n iso butoxymethyl acrylamide preferred f preferably employed amount 0 5 2 5 weight particular formaldehyde free polymer dispersion contain compound f component g difunctional trifunctional unsaturated compound allyl methacrylate divinyl adipate triallyl cyanurate preferably employed component g preferably employed amount 0 75 weight spite high reactivity silanoloxy silanoalkoxy group dispersion containing copolymer according invention coagulate free low degree premature crosslinking accordingly high stability storage surprisingly high degree self crosslinking even exceeds n methylolamide containing copolymer obtained using vinyl silanes mean extremely high degree crosslinking accordingly good value mechanical strength solvent resistance obtained significantly lower content using n methylolamide containing comonomers decisive factor making substantial complete substitution n methylolamide containing comonomers vinyl silane unit possible advantage significantly milder crosslinking temperature vinyl silanes compared customary self crosslinking comonomers temperature considerably reduces thermal load crosslinking drying fiber non wovens finally due advantageous copolymerization parameter non woven binder based vinyl acetate polymerization carried significantly economical condition n methylolamide comonomers substituted vinyl silanes broad applicational spectrum fiber non wovens strengthened crosslinking binder system various demand placed hardness polymer system known skilled art term 34 hard soft hand 34 directly related called glass transition temperature base polymer used thus hard polymer system desired example strengthening cotton non wovens polyester non wovens roof sheeting coating achieved using large amount vinyl acetate copolymer soft system desired production non wovens hygiene sector example cleaning cloth diaper achieved using copolymer system glass transition temperature 0 ° c possible example using vinyl ester carboxylic acid four carbon atom vinyl versatate vinyl laurate principal copolymer component copolymerization ethylene vinyl ester carboxylic acid le four carbon atom vinyl ester copolymer dispersion claimed according invention prepared customary method emulsion polymerization monomer may introduced aqueous dispersant beginning polymerization may alternatively metered partially completely polymerization dispersants used may emulsifier protective colloid conventionally used emulsion polymerization possible use mixture protective colloid emulsifier protective colloid emulsifier may employed alone emulsifier employed anionic cationic nonionic emulsifier polymerization carried temperature range 0 100 ° c using water soluble free radical forming catalyst customary emulsion polymerization appropriate together reducing agent solid content dispersion 45 60 weight comonomer composition contain copolymerized vinyl silane unit claimed according invention used produce fiber non wovens strengthened application drying good mechanical property solvent resistance compared customary polymer composition containing example n methylolacrylamide unit advantage containing formaldehyde also due milder crosslinking condition silanol condensation crosslinking occurs film formation even low temperature 50 ° c -- milder drying condition chosen strengthening non wovens reduces discoloration non wovens undesirable practice caused high thermal load customary crosslinking drying binder applied non wovens manner known per se impregnation foam impregnation spraying padding printing squeezing binder impregnated non woven dried 100 150 ° c binder content dried conditioned non woven generally 20 40 weight conditioned film heated 6 hour refluxing ethyl acetate ethyl acetate evaporated residue remaining weighted proportion insoluble residue relative total sample weight ethyl acetate ______________________________________copolymers degree crosslinking______________________________________96 vac 92 4 nma98 vac 96 2 visi96 vac 98 5 4 visi98 vac 96 1 nma 1 visi______________________________________ vac vinyl acetate nma nmethylolacrylamide visi vinyl trimethoxysilane cellulose polyester non wovens strengthened using dispersion containing copolymer described amount binder applied 30 weight relative total weight fiber binder maximum tensile force n determined dry wet state water perchloroethylene __________________________________________________________________________example 2 cellulose non woven polyester non wovencopolymer 1 min 1 min composition original h sub 2 dry wet original h sub 2 dry wet__________________________________________________________________________hard binder systemsvac 96 17 7 17 8 14 11 16 7nma 4 vac 98 nma 1 20 8 17 8 12 8 16 7visi 1 vac 97 hea 1 14 6 17 7 11 7 14 7visi 2 soft binder systemsvac 71 e 25 13 8 11 2 15 11 14 1 5nma 4 vac 83 e 15 13 6 13 2 14 9 14 1 5visi 2 __________________________________________________________________________ e ethylene hea hydroxyethyl acrylate']\n",
            "['US-201214353751-A', 'embodiment present invention described detail reference drawing technical solution invention illustrated however scope invention limited embodiment embodiment integrated window front back window frame shown fig1 12 front back window frame structural principle structure window frame specifically described follows two front frame body 2 symmetrically located side front window frame front frame body 2 front support portion 2 front guide portion 2 b front frame body configured elongated l shape say front support portion 2 vertically connected front guide portion 2 b indentation 2 e formed front support portion 2 front guide portion 2 b upper end front support portion located higher front guide portion embodiment front support portion 2 integrated front guide portion 2 b front window cover 1 mounted front frame body 2 indentation 2 e formed front guide portion 2 b front support portion 2 width identical window cover process mounting front window cover fixed said front indentation 2 e front window cover 1 lonely exposed projected external environment front portion window e portion exposed external wall configured square shape provides window overall attractive appearance upper slide 9 provided upper end support portion front frame body side lower slide 10 provided lower end thereof upper lower slide provided corresponding slide way mainly used facilitate horizontal movement sliding window left right bottom surface lower slide 10 covered outer window frame sealing plate 23 two back frame body 3 symmetrically located side back window frame back frame body 3 back support portion 3 back guide portion 3 b back frame body configured elongated l shape say back support portion 3 vertically connected back guide portion 3 b indentation 3 e formed front support portion 3 front guide portion 23 b upper end back support portion located higher back guide portion embodiment back support portion 3 integrated back guide portion 3 b back window cover 17 mounted back frame body 3 indentation 3 e formed back guide portion 3 b back support portion 3 width smaller back window cover 17 back frame body 3 faced interior room back frame body 3 extend wall purpose attraction harmony whole product back window cover 17 shall relatively large area tubular motor 11 mounted within back window cover 17 therefore width indentation 3 e formed back guide portion 3 b back support portion 3 configured smaller width back window cover 17 back frame body 3 back window cover 17 could individually extend beyond wall upper slide 9 provided upper end support portion back frame body side lower slide 10 provided lower end thereof upper lower slide provided corresponding slide way mainly used facilitate horizontal movement sliding window left right bottom surface lower slide 10 covered inner window frame sealing plate 24 embodiment front window cover 1 back window cover 17 respectively fixed upper part front frame body lower part back frame body bolt front support portion 2 fixedly connected back support portion 3 mean plastic bar 5 particular first groove 2 c set one side front support portion 2 second groove 3 c set one side back support portion 3 corresponding first groove 2 c two long lateral edge plastic bar respectively inserted fixed first groove 2 c second groove 3 c plastic bar 5 shape section process mounting front frame body 2 firstly aligned back frame body 3 plastic bar 5 aligned inserted first groove 2 c second groove 3 c two long lateral edge plastic bar 5 fixed within first groove 2 c second groove 3 c connect front frame body 2 back frame body 3 front frame body 2 readily mounted back frame body 3 window frame integrally made aluminum alloy material front support portion 2 front frame body 2 back support portion 3 back frame body 3 made hollow plate transversely circumferentially closed opening longitudinal end one hand reliability whole product could guaranteed hand production cost could saved also good heat insulating performance could obtained front back window frame connected using plastic bar corresponding upper lower slide thereof fixedly connected well particularly said two upper slide connected via plastic bar heat insulating said two lower slide connected via another plastic bar heat insulating front frame body limiting element 2 located inner side one front support portion 2 positioning sliding window back frame body limiting element 3 located inner side back support portion 3 opposite side positioning another sliding window sliding window could conveniently mounted positioned using said two limiting element front window cover 1 back window cover 17 curtain cloth rolling mechanism located therein embodiment curtain cloth rolling mechanism tubular motor 11 mounted within aluminum made reel pipe 16 upper edge said piece curtain cloth 4 respectively fixedly connected wall corresponding aluminum pipe 16 curtain cloth 4 wound around outer surface aluminum pipe 16 way reel pipe 16 could driven rotate actuating tubular motor 11 automatically move curtain cloth 4 curtain cloth 4 unwound wound end cap 12 provided end front back window cover rotatably matched reel pipe 16 extension element 12 b provided end cap 12 end cap 12 could fixedly connected window frame support portion inserting extension element 12 b window frame support portion overall reliability curtain could guaranteed curtain cloth 4 mounted front window cover 1 located exterior wall made sun shading material curtain cloth 4 mounted back window cover 17 located within room made screen window cloth therefore said two piece curtain cloth 4 could respectively pulled required could respectively act prevent sunshine entering room shield mosquito wind heat dissipation hole could provided end cap 12 front guide portion 2 b front frame body 2 back guide portion 3 b back frame body 3 track 7 located therein particular track 7 integrated corresponding guide portion facilitate manufacturing process longitudinal opening located side guide portion 2 b facing curtain cloth 4 track 7 form open slot longitudinal direction opening open slot face one side curtain cloth 4 upper opening open slot communication window cover 1 guide rod 7 located within open slot longitudinal direction two symmetrically disposed seal plug 8 mounted within front guide portion 2 b back guide portion 3 b adjacent end track 7 gap 8 formed said two seal plug 8 diameter smaller outer diameter guide rod 6 lateral edge curtain cloth 4 respectively pas longitudinal opening guide portion 2 b opening open slot side extend open slot 21 transversely positioned guide rod 6 lateral edge said two piece window cloth 4 fixedly connected hem 4 pass gap 8 two seal plug 8 covered guide rod 6 move along guide rod 6 hem 4 cloth made ordinary nylon composite material ordinary chemical fiber material tensible feature thus tend broken hem 4 folded two form circumferentially closed space guide rod 6 inserted guide rod 6 connected curtain cloth 4 hem 4 wound curtain cloth 4 hem 4 flattened thickness identical curtain cloth 4 constantly remains flat prevent window cloth 4 displaced wind blow window cloth 4 curtain cloth 4 caught two guide rod 6 hem 4 pulled straight ensures guide rod 6 always restricted within track 7 prevent removed curtain cloth 4 hem 4 welded together using heat sealing device temperature 200 400 ° c sewed using sewing machine bottom plug 13 mounted lower end face window frame guide portion guide plug 14 mounted upper end face guide portion positioning element 15 mounted within bottom plug 13 one end guide rod 6 inserted positioning element 15 end thereof pass guide plug 14 impurity dust prevented entering window frame guide portion bottom plug 13 guide plug 14 track 7 within window frame guide portion kept tidy prevent many impurity blocking track 7 make difficult move curtain cloth 4 elliptical groove 15 disposed positioning element 1 guide rod 6 inserted elliptical groove 15 distance said two guide rod 6 varied locating guide rod 6 different position within elliptical groove 15 curtain cloth 4 different width mounted meanwhile wind strong movement said two guide rod 6 within corresponding elliptical groove 15 ensures curtain cloth 4 smoothly moved curtain cloth 4 slightly appropriately projected prevent torn wind straightening reason lower edge curtain cloth connected lower rod 20 passing longitudinal opening guide portion opening open slot side end lower rod 20 slidably extend open slot length lower rod 20 coincides distance guide rod side lower rod hollow end thereof sealed rod plug 2 respectively rubber strip 21 mounted lower surface lower rod 20 along length concave slot formed lower surface lower rod 20 along length slot embedded rubber strip 21 rubber strip 21 partially project lower surface lower rod 20 embodiment different first embodiment one window frame window cover curtain cloth part structure second embodiment described shown fig1 17 support portion 2 fixedly connected lateral seal via plastic bar 5 particular first groove 2 provided side support portion 2 second groove 4 provided side lateral seal 4 corresponding first groove 2 end plastic bar 5 inserted fixed first groove 2 second groove 4 respectively plastic bar 5 shape section process mounting lateral seal 4 firstly aligned frame body 2 plastic bar 5 aligned inserted first groove 2 second groove 4 two long lateral edge plastic bar 5 fixed within first groove 2 second groove 4 respectively connect lateral seal 4 frame body 2 case lateral seal conveniently mounted frame body window frame lateral seal made aluminum alloy material front support portion 2 frame body 2 lateral seal made hollow plate transversely circumferentially closed opening longitudinal end one hand reliability whole product could guaranteed hand production cost could saved also good heat insulating performance could obtained lateral seal limiting element 4 b located inner side one lateral seal 4 positioning sliding window frame body limiting element 2 e located inner side support portion 2 frame body 2 opposite side positioning another sliding window sliding window could conveniently mounted positioned using said two limiting element upper slide 9 provided upper end lateral seal side lower slide 10 provided lower end thereof upper lower slide provided corresponding slide way mainly used facilitate horizontal movement sliding window left right window frame connected lateral seal using plastic bar corresponding upper lower slide thereof fixedly connected others well particularly said two upper slide connected via plastic bar heat insulating said two lower slide connected via another plastic bar heat insulating embodiment window frame window cover mainly applied outer sun shading window thus lateral seal 4 located within room frame body 2 located outside room word window cover 1 positioned room curtain cloth 7 made sun shading material case sunshine effectively prevented entering room curtain cloth 7 pulled aspect second embodiment could refer described first embodiment shown fig1 19 structure principle third embodiment substantially second embodiment third embodiment merely different second embodiment indentation 3 formed guide portion 2 b support portion 2 width smaller window cover 1 window frame embodiment mainly applied inner sun shading window frame body 2 located within room lateral seal located outside room word window cover 1 positioned inside room third embodiment lateral seal 4 frame body 2 mounted within wall frame body 2 extend beyond wall purpose attraction harmony whole product meanwhile area window cover 1 overly small provided tubular motor consequently width indentation 3 formed guide portion 2 b support portion 2 must smaller width window cover 1 window cover 1 individually extends beyond wall meantime order prevent mosquito entering room window opened circulate air window cloth 7 made screen window cloth embodiment aspect third embodiment could refer described second embodiment fourth embodiment different first second third embodiment windproof component window frame employ different positioning element particular positioning element fourth embodiment implemented flexible tape lateral edge curtain cloth respectively fixedly connected flexible tape side lateral edge respectively covered exterior flexible tape side upper end flexible tape wound around reel pipe hook provided bottom plug lower end guide portion curtain cloth unwound lower end flexible tape engaged hook bottom plug keep curtain cloth constantly straightened condition lower end flexible tape disengaged hook bottom plug curtain cloth could driven reel pipe wind upwards aspect third embodiment could refer described first second third embodiment fifth embodiment different first second third fourth embodiment reel pipe driven different manner particular rope manually pulled drive curtain cloth instead aforesaid driving component example tubular motor embodiment bead plate externally secured one end reel pipe driven rotate pull bead thereby driving reel pipe rotate synchronously sixth embodiment different first second third fourth embodiment reel pipe driven different manner particular rocker manually turned drive curtain cloth instead aforesaid driving component example tubular motor driving mode manually turning rocker well known person ordinary skill art thus omitted herein brevity aspect third embodiment could refer described first second third fourth embodiment 1 front back window cover provided curtain cloth meet demand sun shading outside window purpose prevention mosquito sun shading curtain cloth could multiple us meet multiple demand cost efficiency 2 present invention reasonable configuration guide portion positioning guide rod guide curtain cloth move integrated support portion locating sliding window addition front frame body back frame body respectively provided sliding window connected via plastic bar good heat insulating performance could achieved window could conveniently manufactured mounted invention 3 window frame made aluminum alloy plastic steel material long use life 4 position connection front frame body relative back frame body could modified required actual circumstance window frame could classified inner sun shading window frame outer sun shading window frame window frame could widely employed 5 wind strong guide rod located hem covered guide rod move along guide rod ensures strengthens overall windproof intensity window frame one hand guarantee smoothness movement curtain cloth hand 6 piece cloth folded two form hem circumferentially closed space hem wound tubular motor together curtain cloth hem pressed flat hem thickness curtain cloth always remain flat curtain cloth entirely flatly wound around aluminium tube overcomes problem curtain cloth displaced windproof curtain wound specific embodiment described herein merely illustrative spirit invention various variation modification amendment made embodiment ordinary skill art without departing spirit scope defined appended claim']\n"
          ],
          "name": "stdout"
        }
      ]
    },
    {
      "cell_type": "code",
      "metadata": {
        "id": "CG6pAG-O1tG1"
      },
      "source": [
        "query_vec = Vect.transform([query])\n",
        "query_vec = query_vec.toarray()\n",
        "\n",
        "docs_vec = Vect.transform(docs)\n",
        "docs_vec = docs_vec.toarray()"
      ],
      "execution_count": null,
      "outputs": []
    },
    {
      "cell_type": "code",
      "metadata": {
        "colab": {
          "base_uri": "https://localhost:8080/"
        },
        "id": "2bEPRUmA3zt1",
        "outputId": "3ddc5309-711b-450a-ea7f-39549d3e81d9"
      },
      "source": [
        "from sklearn.metrics.pairwise import cosine_similarity\n",
        "\n",
        "for vec in docs_vec:\n",
        "  print(cosine_similarity(query_vec, [vec]))"
      ],
      "execution_count": null,
      "outputs": [
        {
          "output_type": "stream",
          "text": [
            "[[0.08089284]]\n",
            "[[0.50667065]]\n",
            "[[0.35337601]]\n",
            "[[0.32754831]]\n",
            "[[0.12061753]]\n",
            "[[0.26255299]]\n",
            "[[0.16880851]]\n",
            "[[0.21370825]]\n",
            "[[0.06039437]]\n",
            "[[0.23878558]]\n"
          ],
          "name": "stdout"
        }
      ]
    },
    {
      "cell_type": "code",
      "metadata": {
        "id": "dR7zRFzN2Dra"
      },
      "source": [
        "from sklearn.model_selection import GridSearchCV\n",
        "mnb_clf = MultinomialNB()\n",
        "#params_NB = {'var_smoothing': np.logspace(0,-9, num=100)}\n",
        "params_multi = {'alpha':np.linspace(0.5,1.5,6)}\n",
        "gs_NB = GridSearchCV(estimator=mnb_clf, \n",
        "                 param_grid=params_multi,\n",
        "                 verbose=1, \n",
        "                 scoring='accuracy') \n",
        "gs_NB.fit(X, train_y)\n",
        "print(gs_NB.best_params_)\n",
        "print(gs_NB.best_score_)"
      ],
      "execution_count": null,
      "outputs": []
    }
  ]
}