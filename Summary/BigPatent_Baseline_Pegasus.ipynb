{
  "nbformat": 4,
  "nbformat_minor": 0,
  "metadata": {
    "colab": {
      "name": "BigPatent_Baseline_Pegasus.ipynb",
      "provenance": [],
      "collapsed_sections": [],
      "include_colab_link": true
    },
    "kernelspec": {
      "display_name": "Python 3",
      "language": "python",
      "name": "python3"
    },
    "language_info": {
      "codemirror_mode": {
        "name": "ipython",
        "version": 3
      },
      "file_extension": ".py",
      "mimetype": "text/x-python",
      "name": "python",
      "nbconvert_exporter": "python",
      "pygments_lexer": "ipython3",
      "version": "3.9.2"
    }
  },
  "cells": [
    {
      "cell_type": "markdown",
      "metadata": {
        "id": "view-in-github",
        "colab_type": "text"
      },
      "source": [
        "<a href=\"https://colab.research.google.com/github/vibhu18116/IR-Project-Group23-PatentPal/blob/main/Summary/BigPatent_Baseline_Pegasus.ipynb\" target=\"_parent\"><img src=\"https://colab.research.google.com/assets/colab-badge.svg\" alt=\"Open In Colab\"/></a>"
      ]
    },
    {
      "cell_type": "code",
      "metadata": {
        "colab": {
          "base_uri": "https://localhost:8080/"
        },
        "id": "4lFg19kFd7UU",
        "outputId": "9be4175d-bbe9-4764-e579-72c6a03bf9b7"
      },
      "source": [
        "from google.colab import drive\n",
        "drive.mount('/content/drive')"
      ],
      "execution_count": 7,
      "outputs": [
        {
          "output_type": "stream",
          "text": [
            "Mounted at /content/drive\n"
          ],
          "name": "stdout"
        }
      ]
    },
    {
      "cell_type": "code",
      "metadata": {
        "id": "oDc2_OrMelnZ"
      },
      "source": [
        "import pickle\n",
        "data = pickle.load(open(\"/content/drive/MyDrive/bigPatentData/data_pik\", 'rb'))"
      ],
      "execution_count": 8,
      "outputs": []
    },
    {
      "cell_type": "code",
      "metadata": {
        "id": "lFniCPHten-t"
      },
      "source": [
        "import pandas as pd\n",
        "df = pd.DataFrame(data[400:500])"
      ],
      "execution_count": 9,
      "outputs": []
    },
    {
      "cell_type": "code",
      "metadata": {
        "colab": {
          "base_uri": "https://localhost:8080/"
        },
        "id": "Gxl7vTgCp_5T",
        "outputId": "8a76ec53-725d-48ae-fc0f-255dbef4bf12"
      },
      "source": [
        "!pip install torch==1.2.0 torchvision==0.4.0 -f https://download.pytorch.org/whl/torch_stable.html"
      ],
      "execution_count": null,
      "outputs": [
        {
          "output_type": "stream",
          "text": [
            "Looking in links: https://download.pytorch.org/whl/torch_stable.html\n",
            "Collecting torch==1.2.0\n",
            "\u001b[?25l  Downloading https://download.pytorch.org/whl/cu92/torch-1.2.0%2Bcu92-cp37-cp37m-manylinux1_x86_64.whl (663.1MB)\n",
            "\u001b[K     |████████████████████████████████| 663.1MB 25kB/s \n",
            "\u001b[?25hCollecting torchvision==0.4.0\n",
            "\u001b[?25l  Downloading https://download.pytorch.org/whl/cu92/torchvision-0.4.0%2Bcu92-cp37-cp37m-manylinux1_x86_64.whl (8.8MB)\n",
            "\u001b[K     |████████████████████████████████| 8.8MB 24.1MB/s \n",
            "\u001b[?25hRequirement already satisfied: numpy in /usr/local/lib/python3.7/dist-packages (from torch==1.2.0) (1.19.5)\n",
            "Requirement already satisfied: six in /usr/local/lib/python3.7/dist-packages (from torchvision==0.4.0) (1.15.0)\n",
            "Requirement already satisfied: pillow>=4.1.1 in /usr/local/lib/python3.7/dist-packages (from torchvision==0.4.0) (7.0.0)\n",
            "\u001b[31mERROR: torchtext 0.9.0 has requirement torch==1.8.0, but you'll have torch 1.2.0+cu92 which is incompatible.\u001b[0m\n",
            "Installing collected packages: torch, torchvision\n",
            "  Found existing installation: torch 1.8.0+cu101\n",
            "    Uninstalling torch-1.8.0+cu101:\n",
            "      Successfully uninstalled torch-1.8.0+cu101\n",
            "  Found existing installation: torchvision 0.9.0+cu101\n",
            "    Uninstalling torchvision-0.9.0+cu101:\n",
            "      Successfully uninstalled torchvision-0.9.0+cu101\n",
            "Successfully installed torch-1.2.0+cu92 torchvision-0.4.0+cu92\n"
          ],
          "name": "stdout"
        }
      ]
    },
    {
      "cell_type": "code",
      "metadata": {
        "colab": {
          "base_uri": "https://localhost:8080/"
        },
        "id": "KmHmsSBaq5R6",
        "outputId": "4962a444-d80f-4699-f6e8-39fb6d55ebbe"
      },
      "source": [
        "!pip install -U sentence-transformers"
      ],
      "execution_count": null,
      "outputs": [
        {
          "output_type": "stream",
          "text": [
            "Collecting sentence-transformers\n",
            "\u001b[?25l  Downloading https://files.pythonhosted.org/packages/6f/4d/9fb1028b0b4645c77401417151d06122d745c7a874fda6a4d5e6bb7bebc6/sentence-transformers-1.0.3.tar.gz (74kB)\n",
            "\r\u001b[K     |████▍                           | 10kB 13.1MB/s eta 0:00:01\r\u001b[K     |████████▊                       | 20kB 13.6MB/s eta 0:00:01\r\u001b[K     |█████████████▏                  | 30kB 7.0MB/s eta 0:00:01\r\u001b[K     |█████████████████▌              | 40kB 6.3MB/s eta 0:00:01\r\u001b[K     |█████████████████████▉          | 51kB 4.8MB/s eta 0:00:01\r\u001b[K     |██████████████████████████▎     | 61kB 5.0MB/s eta 0:00:01\r\u001b[K     |██████████████████████████████▋ | 71kB 5.4MB/s eta 0:00:01\r\u001b[K     |████████████████████████████████| 81kB 3.8MB/s \n",
            "\u001b[?25hRequirement already satisfied, skipping upgrade: transformers<5.0.0,>=3.1.0 in /usr/local/lib/python3.7/dist-packages (from sentence-transformers) (4.4.2)\n",
            "Requirement already satisfied, skipping upgrade: tqdm in /usr/local/lib/python3.7/dist-packages (from sentence-transformers) (4.41.1)\n",
            "Collecting torch>=1.6.0\n",
            "\u001b[?25l  Downloading https://files.pythonhosted.org/packages/94/99/5861239a6e1ffe66e120f114a4d67e96e5c4b17c1a785dfc6ca6769585fc/torch-1.8.0-cp37-cp37m-manylinux1_x86_64.whl (735.5MB)\n",
            "\u001b[K     |████████████████████████████████| 735.5MB 24kB/s \n",
            "\u001b[?25hRequirement already satisfied, skipping upgrade: numpy in /usr/local/lib/python3.7/dist-packages (from sentence-transformers) (1.19.5)\n",
            "Requirement already satisfied, skipping upgrade: scikit-learn in /usr/local/lib/python3.7/dist-packages (from sentence-transformers) (0.22.2.post1)\n",
            "Requirement already satisfied, skipping upgrade: scipy in /usr/local/lib/python3.7/dist-packages (from sentence-transformers) (1.4.1)\n",
            "Requirement already satisfied, skipping upgrade: nltk in /usr/local/lib/python3.7/dist-packages (from sentence-transformers) (3.2.5)\n",
            "Requirement already satisfied, skipping upgrade: sentencepiece in /usr/local/lib/python3.7/dist-packages (from sentence-transformers) (0.1.95)\n",
            "Requirement already satisfied, skipping upgrade: regex!=2019.12.17 in /usr/local/lib/python3.7/dist-packages (from transformers<5.0.0,>=3.1.0->sentence-transformers) (2019.12.20)\n",
            "Requirement already satisfied, skipping upgrade: sacremoses in /usr/local/lib/python3.7/dist-packages (from transformers<5.0.0,>=3.1.0->sentence-transformers) (0.0.43)\n",
            "Requirement already satisfied, skipping upgrade: tokenizers<0.11,>=0.10.1 in /usr/local/lib/python3.7/dist-packages (from transformers<5.0.0,>=3.1.0->sentence-transformers) (0.10.1)\n",
            "Requirement already satisfied, skipping upgrade: packaging in /usr/local/lib/python3.7/dist-packages (from transformers<5.0.0,>=3.1.0->sentence-transformers) (20.9)\n",
            "Requirement already satisfied, skipping upgrade: importlib-metadata; python_version < \"3.8\" in /usr/local/lib/python3.7/dist-packages (from transformers<5.0.0,>=3.1.0->sentence-transformers) (3.7.2)\n",
            "Requirement already satisfied, skipping upgrade: requests in /usr/local/lib/python3.7/dist-packages (from transformers<5.0.0,>=3.1.0->sentence-transformers) (2.23.0)\n",
            "Requirement already satisfied, skipping upgrade: filelock in /usr/local/lib/python3.7/dist-packages (from transformers<5.0.0,>=3.1.0->sentence-transformers) (3.0.12)\n",
            "Requirement already satisfied, skipping upgrade: typing-extensions in /usr/local/lib/python3.7/dist-packages (from torch>=1.6.0->sentence-transformers) (3.7.4.3)\n",
            "Requirement already satisfied, skipping upgrade: joblib>=0.11 in /usr/local/lib/python3.7/dist-packages (from scikit-learn->sentence-transformers) (1.0.1)\n",
            "Requirement already satisfied, skipping upgrade: six in /usr/local/lib/python3.7/dist-packages (from nltk->sentence-transformers) (1.15.0)\n",
            "Requirement already satisfied, skipping upgrade: click in /usr/local/lib/python3.7/dist-packages (from sacremoses->transformers<5.0.0,>=3.1.0->sentence-transformers) (7.1.2)\n",
            "Requirement already satisfied, skipping upgrade: pyparsing>=2.0.2 in /usr/local/lib/python3.7/dist-packages (from packaging->transformers<5.0.0,>=3.1.0->sentence-transformers) (2.4.7)\n",
            "Requirement already satisfied, skipping upgrade: zipp>=0.5 in /usr/local/lib/python3.7/dist-packages (from importlib-metadata; python_version < \"3.8\"->transformers<5.0.0,>=3.1.0->sentence-transformers) (3.4.1)\n",
            "Requirement already satisfied, skipping upgrade: certifi>=2017.4.17 in /usr/local/lib/python3.7/dist-packages (from requests->transformers<5.0.0,>=3.1.0->sentence-transformers) (2020.12.5)\n",
            "Requirement already satisfied, skipping upgrade: idna<3,>=2.5 in /usr/local/lib/python3.7/dist-packages (from requests->transformers<5.0.0,>=3.1.0->sentence-transformers) (2.10)\n",
            "Requirement already satisfied, skipping upgrade: urllib3!=1.25.0,!=1.25.1,<1.26,>=1.21.1 in /usr/local/lib/python3.7/dist-packages (from requests->transformers<5.0.0,>=3.1.0->sentence-transformers) (1.24.3)\n",
            "Requirement already satisfied, skipping upgrade: chardet<4,>=3.0.2 in /usr/local/lib/python3.7/dist-packages (from requests->transformers<5.0.0,>=3.1.0->sentence-transformers) (3.0.4)\n",
            "Building wheels for collected packages: sentence-transformers\n",
            "  Building wheel for sentence-transformers (setup.py) ... \u001b[?25l\u001b[?25hdone\n",
            "  Created wheel for sentence-transformers: filename=sentence_transformers-1.0.3-cp37-none-any.whl size=114277 sha256=d6c5a78aa969f4b21d4d00fcc0a8a23a2cc42862f69e2ff8c89ddfbfa5a24636\n",
            "  Stored in directory: /root/.cache/pip/wheels/c8/0d/fa/4e28cf045da4781344e7972befb2fdf306051b225bfc290187\n",
            "Successfully built sentence-transformers\n",
            "\u001b[31mERROR: torchvision 0.4.0+cu92 has requirement torch==1.2.0, but you'll have torch 1.8.0 which is incompatible.\u001b[0m\n",
            "Installing collected packages: torch, sentence-transformers\n",
            "  Found existing installation: torch 1.2.0+cu92\n",
            "    Uninstalling torch-1.2.0+cu92:\n",
            "      Successfully uninstalled torch-1.2.0+cu92\n",
            "Successfully installed sentence-transformers-1.0.3 torch-1.8.0\n"
          ],
          "name": "stdout"
        }
      ]
    },
    {
      "cell_type": "code",
      "metadata": {
        "colab": {
          "base_uri": "https://localhost:8080/"
        },
        "id": "S46ex4f7fg3l",
        "outputId": "9c42c53c-32fc-49f6-e630-6193c75fd320"
      },
      "source": [
        "!pip install transformers"
      ],
      "execution_count": null,
      "outputs": [
        {
          "output_type": "stream",
          "text": [
            "Requirement already satisfied: transformers in /usr/local/lib/python3.7/dist-packages (4.4.2)\n",
            "Requirement already satisfied: requests in /usr/local/lib/python3.7/dist-packages (from transformers) (2.23.0)\n",
            "Requirement already satisfied: packaging in /usr/local/lib/python3.7/dist-packages (from transformers) (20.9)\n",
            "Requirement already satisfied: numpy>=1.17 in /usr/local/lib/python3.7/dist-packages (from transformers) (1.19.5)\n",
            "Requirement already satisfied: tqdm>=4.27 in /usr/local/lib/python3.7/dist-packages (from transformers) (4.41.1)\n",
            "Requirement already satisfied: tokenizers<0.11,>=0.10.1 in /usr/local/lib/python3.7/dist-packages (from transformers) (0.10.1)\n",
            "Requirement already satisfied: filelock in /usr/local/lib/python3.7/dist-packages (from transformers) (3.0.12)\n",
            "Requirement already satisfied: importlib-metadata; python_version < \"3.8\" in /usr/local/lib/python3.7/dist-packages (from transformers) (3.7.2)\n",
            "Requirement already satisfied: regex!=2019.12.17 in /usr/local/lib/python3.7/dist-packages (from transformers) (2019.12.20)\n",
            "Requirement already satisfied: sacremoses in /usr/local/lib/python3.7/dist-packages (from transformers) (0.0.43)\n",
            "Requirement already satisfied: chardet<4,>=3.0.2 in /usr/local/lib/python3.7/dist-packages (from requests->transformers) (3.0.4)\n",
            "Requirement already satisfied: idna<3,>=2.5 in /usr/local/lib/python3.7/dist-packages (from requests->transformers) (2.10)\n",
            "Requirement already satisfied: certifi>=2017.4.17 in /usr/local/lib/python3.7/dist-packages (from requests->transformers) (2020.12.5)\n",
            "Requirement already satisfied: urllib3!=1.25.0,!=1.25.1,<1.26,>=1.21.1 in /usr/local/lib/python3.7/dist-packages (from requests->transformers) (1.24.3)\n",
            "Requirement already satisfied: pyparsing>=2.0.2 in /usr/local/lib/python3.7/dist-packages (from packaging->transformers) (2.4.7)\n",
            "Requirement already satisfied: zipp>=0.5 in /usr/local/lib/python3.7/dist-packages (from importlib-metadata; python_version < \"3.8\"->transformers) (3.4.1)\n",
            "Requirement already satisfied: typing-extensions>=3.6.4; python_version < \"3.8\" in /usr/local/lib/python3.7/dist-packages (from importlib-metadata; python_version < \"3.8\"->transformers) (3.7.4.3)\n",
            "Requirement already satisfied: joblib in /usr/local/lib/python3.7/dist-packages (from sacremoses->transformers) (1.0.1)\n",
            "Requirement already satisfied: six in /usr/local/lib/python3.7/dist-packages (from sacremoses->transformers) (1.15.0)\n",
            "Requirement already satisfied: click in /usr/local/lib/python3.7/dist-packages (from sacremoses->transformers) (7.1.2)\n"
          ],
          "name": "stdout"
        }
      ]
    },
    {
      "cell_type": "code",
      "metadata": {
        "id": "NedZdL1IgKrz",
        "colab": {
          "base_uri": "https://localhost:8080/"
        },
        "outputId": "c9428aba-b2ab-47f7-a5ab-9a3b4c06ae9c"
      },
      "source": [
        "!pip install rouge_score"
      ],
      "execution_count": 1,
      "outputs": [
        {
          "output_type": "stream",
          "text": [
            "Collecting rouge_score\n",
            "  Downloading https://files.pythonhosted.org/packages/1f/56/a81022436c08b9405a5247b71635394d44fe7e1dbedc4b28c740e09c2840/rouge_score-0.0.4-py2.py3-none-any.whl\n",
            "Requirement already satisfied: absl-py in /usr/local/lib/python3.7/dist-packages (from rouge_score) (0.10.0)\n",
            "Requirement already satisfied: six>=1.14.0 in /usr/local/lib/python3.7/dist-packages (from rouge_score) (1.15.0)\n",
            "Requirement already satisfied: numpy in /usr/local/lib/python3.7/dist-packages (from rouge_score) (1.19.5)\n",
            "Requirement already satisfied: nltk in /usr/local/lib/python3.7/dist-packages (from rouge_score) (3.2.5)\n",
            "Installing collected packages: rouge-score\n",
            "Successfully installed rouge-score-0.0.4\n"
          ],
          "name": "stdout"
        }
      ]
    },
    {
      "cell_type": "code",
      "metadata": {
        "id": "8u4RXf8fgFoR"
      },
      "source": [
        "import random\n",
        "from rouge_score import rouge_scorer\n",
        "\n",
        "def calc_rouge_scores(pred_summaries, gold_summaries, \n",
        "                                 keys=['rouge1', 'rouge2', 'rougeL'], use_stemmer=True):\n",
        "    #Calculate rouge scores\n",
        "    scorer = rouge_scorer.RougeScorer(keys, use_stemmer= use_stemmer)\n",
        "    \n",
        "    n = len(pred_summaries)\n",
        "    \n",
        "    scores = [scorer.score(pred_summaries[j], gold_summaries[j]) for \n",
        "              j in range(n)] \n",
        "    \n",
        "    dict_scores={}                                                            \n",
        "    for key in keys:\n",
        "        dict_scores.update({key: {}})\n",
        "        \n",
        "    \n",
        "    for key in keys:\n",
        "        \n",
        "        precision_list = [scores[j][key][0] for j in range(len(scores))]\n",
        "        recall_list = [scores[j][key][1] for j in range(len(scores))]\n",
        "        f1_list = [scores[j][key][2] for j in range(len(scores))]\n",
        "\n",
        "        precision = np.mean(precision_list)\n",
        "        recall = np.mean(recall_list)\n",
        "        f1 = np.mean(f1_list)\n",
        "        \n",
        "        dict_results = {'recall': recall, 'precision': precision, 'f1': f1}\n",
        "        \n",
        "        dict_scores[key] = dict_results\n",
        "        \n",
        "    return dict_scores"
      ],
      "execution_count": 11,
      "outputs": []
    },
    {
      "cell_type": "code",
      "metadata": {
        "id": "RZQH8JBzj13G"
      },
      "source": [
        "myfile = open('pegasus-opt.txt', 'w')"
      ],
      "execution_count": null,
      "outputs": []
    },
    {
      "cell_type": "code",
      "metadata": {
        "colab": {
          "base_uri": "https://localhost:8080/",
          "height": 429,
          "referenced_widgets": [
            "f2270891bd634355a9f38fd8be626f7a",
            "6ad48ec14d32498aa165cff8bae27ac0",
            "5ea9465f8d8d448289bf9a046e1ca00d",
            "6da4d060842b4202ab3e4f84b203a90a",
            "c326593e488e4b2b9c25dda841b430ea"
          ]
        },
        "id": "WVkfWyMwe8ox",
        "outputId": "44a9ca28-5f46-49dd-9463-24c70cf6a5b2"
      },
      "source": [
        "from transformers import PegasusForConditionalGeneration, PegasusTokenizer, AutoTokenizer\n",
        "import torch\n",
        "# src_text = [\n",
        "#     \"\"\" PG&E stated it scheduled the blackouts in response to forecasts for high winds amid dry conditions. The aim is to reduce the risk of wildfires. Nearly 800 thousand customers were scheduled to be affected by the shutoffs which were expected to last through at least midday tomorrow.\"\"\"\n",
        "# ]\n",
        "\n",
        "src_text = df['description'][0]\n",
        "model_name = 'google/pegasus-big_patent'\n",
        "device = 'cuda' if torch.cuda.is_available() else 'cpu'\n",
        "tokenizer = PegasusTokenizer.from_pretrained(model_name)\n",
        "model = PegasusForConditionalGeneration.from_pretrained(model_name).to(device)\n",
        "\n",
        "batch = tokenizer.prepare_seq2seq_batch(src_text, truncation=True, padding='longest', return_tensors='pt').to(device)\n",
        "translated = model.generate(**batch)\n",
        "tgt_text = tokenizer.batch_decode(translated, skip_special_tokens=True)\n",
        "print(tgt_text)\n",
        "# assert tgt_text[0] == \"California's largest electricity provider has turned off power to hundreds of thousands of customers.\""
      ],
      "execution_count": null,
      "outputs": [
        {
          "output_type": "display_data",
          "data": {
            "application/vnd.jupyter.widget-view+json": {
              "model_id": "f2270891bd634355a9f38fd8be626f7a",
              "version_major": 2,
              "version_minor": 0
            },
            "text/plain": [
              "HBox(children=(HTML(value='Downloading'), FloatProgress(value=0.0, max=1912529.0), HTML(value='')))"
            ]
          },
          "metadata": {
            "tags": []
          }
        },
        {
          "output_type": "stream",
          "text": [
            "\n"
          ],
          "name": "stdout"
        },
        {
          "output_type": "display_data",
          "data": {
            "application/vnd.jupyter.widget-view+json": {
              "model_id": "6ad48ec14d32498aa165cff8bae27ac0",
              "version_major": 2,
              "version_minor": 0
            },
            "text/plain": [
              "HBox(children=(HTML(value='Downloading'), FloatProgress(value=0.0, max=65.0), HTML(value='')))"
            ]
          },
          "metadata": {
            "tags": []
          }
        },
        {
          "output_type": "stream",
          "text": [
            "\n"
          ],
          "name": "stdout"
        },
        {
          "output_type": "display_data",
          "data": {
            "application/vnd.jupyter.widget-view+json": {
              "model_id": "5ea9465f8d8d448289bf9a046e1ca00d",
              "version_major": 2,
              "version_minor": 0
            },
            "text/plain": [
              "HBox(children=(HTML(value='Downloading'), FloatProgress(value=0.0, max=88.0), HTML(value='')))"
            ]
          },
          "metadata": {
            "tags": []
          }
        },
        {
          "output_type": "stream",
          "text": [
            "\n"
          ],
          "name": "stdout"
        },
        {
          "output_type": "display_data",
          "data": {
            "application/vnd.jupyter.widget-view+json": {
              "model_id": "6da4d060842b4202ab3e4f84b203a90a",
              "version_major": 2,
              "version_minor": 0
            },
            "text/plain": [
              "HBox(children=(HTML(value='Downloading'), FloatProgress(value=0.0, max=1120.0), HTML(value='')))"
            ]
          },
          "metadata": {
            "tags": []
          }
        },
        {
          "output_type": "stream",
          "text": [
            "\n"
          ],
          "name": "stdout"
        },
        {
          "output_type": "display_data",
          "data": {
            "application/vnd.jupyter.widget-view+json": {
              "model_id": "c326593e488e4b2b9c25dda841b430ea",
              "version_major": 2,
              "version_minor": 0
            },
            "text/plain": [
              "HBox(children=(HTML(value='Downloading'), FloatProgress(value=0.0, max=2275327883.0), HTML(value='')))"
            ]
          },
          "metadata": {
            "tags": []
          }
        },
        {
          "output_type": "stream",
          "text": [
            "\n"
          ],
          "name": "stdout"
        },
        {
          "output_type": "stream",
          "text": [
            "/home/vibhu_iiitd/.local/lib/python3.9/site-packages/transformers/tokenization_utils_base.py:3216: FutureWarning: `prepare_seq2seq_batch` is deprecated and will be removed in version 5 of 🤗 Transformers. Use the regular `__call__` method to prepare your inputs and the tokenizer under the `with_target_tokenizer` context manager to prepare your targets. See the documentation of your specific tokenizer for more details\n",
            "  warnings.warn(\n"
          ],
          "name": "stderr"
        },
        {
          "output_type": "stream",
          "text": [
            "['An apparatus for the treatment of small quantities of material, the apparatus comprising a container of near- spherical form, the container being mounted on a base which is inclined to the vertical by an angle of between 5  and 20.']\n"
          ],
          "name": "stdout"
        }
      ]
    },
    {
      "cell_type": "code",
      "metadata": {
        "id": "cXghspoZe8_Z",
        "outputId": "2069f6ce-a763-40f7-aa7b-584dac1baa03"
      },
      "source": [
        "df['abstract'][0]"
      ],
      "execution_count": null,
      "outputs": [
        {
          "output_type": "execute_result",
          "data": {
            "text/plain": [
              "'the invention relates to an apparatus for mincing and / or beating , comminuting , chopping , pulverizing , emulsifying , mixing , kneading , whisking and the like of materials , particularly edible materials , such as meat , starchy foods , fruit and vegetables which comprises a near - spherical container , at least one knife mounted for rotation within the container , coupled with safety features to prevent injuries to the operators .'"
            ]
          },
          "metadata": {
            "tags": []
          },
          "execution_count": 5
        }
      ]
    },
    {
      "cell_type": "code",
      "metadata": {
        "id": "Q9ItjDTSe9D-",
        "outputId": "bb02a72d-e11d-47e9-c235-06b7b1830912"
      },
      "source": [
        "df['description'][0]"
      ],
      "execution_count": null,
      "outputs": [
        {
          "output_type": "execute_result",
          "data": {
            "text/plain": [
              "'the apparatus illustrated in fig1 and 2 has a container 1 , which is of near - spherical form and which has a removable cover 2 , enabling material to be treated to be introduced into the container . the container 1 is mounted on or in a base or frame 12 , by means of two interfitting rings or rims 13 and 14 , ring 13 being integral with base 12 and ring 14 being integral with container 1 . base 12 forms a casing for an electric motor 5 having a drive shaft 4 , and is so constructed that shaft 4 is inclined to the vertical by an angle ω , when the apparatus is located upon a horizontal table t . the inventor conducted a considerable amount of experiments and ascertained that the near - spherical container must be tilted to the optimum angle which is preferably between 5 ° to 20 °. it will be understood that the motor housing encompasses the control circuitry subsequently described in connection with fig1 . container 1 is formed at its base with an inwardly - extending protuberance 3 which as shown is in the form of a truncated cone and through which extends the shaft 4 of motor 5 . mounted on the upper end of the shaft by means of a retainer ring 8 , are two knives 6 and 7 . knife 6 is flat and as shown extends at right angles to the axis of the shaft . the blade of knife 7 comprises two portions or parts . first part 9 which is substantially planar or flat , closely conforms to the conical surface of protuberance 3 when the appliance is in operation . the other part 10 has a form which as shown upon fig1 extends arcuately upwardly from a point at the outer or distal end of part 9 closely contiguous to the circular intersection of the base of protuberance 3 and the spherical surface of the container , to a point indicated at &# 34 ; d ,&# 34 ; lying in a plane intermediate a plane through the upper end of shaft 4 and another through the geometrical center of the container , all planes being parallel and normal to the axis of rotation of the shaft . part 10 as shown lies closely adjacent the wall of the container . also referring to fig2 it is noted that the blade of knife 7 , in plan , has the form of an &# 34 ; s ,&# 34 ; symmetrical with the axis of the shaft , the cutting edges being on and along the convex edges . that is , the blade rotates counterclockwise as viewed upon the figure . an annular space 11 - 11 &# 39 ; is defined between protuberance 3 and the adjacent wall of the container . it is in that space that the material accumulates when the quantity is small , it being noted that material within the space thus defined , is not subject to the action of blade 6 but , because of the particular form thereof , is subject to the action of blade 7 . the apparatus as described and illustrated is capable of being used for domestic and industrial purposes , only the dimensions varying according to the use for which it is intended . there is no dead space in which material can accumulate , without being treated . the material is thoroughly worked by the knives 6 , 7 , any material rising up the wall of the container being caused to fall back , as explained above , into the path of the knives . because of the absence of any dead space , the apparatus can be used for the treatment of small quantities of material , the entire volume at the bottom of the container being swept by knife 7 . although an electric motor 5 is shown for driving the blade 6 , 7 , it will be understood that other drive means may be employed , such as a hand driven mechanism . in the preferred embodiment illustrated in fig3 and in the following figures an apparatus according to the invention comprises a base 15 , a removable container 16 , above which is a cover 17 . the base 15 encloses an electric motor ( not shown ) which drives an inclined shaft 18 , which has a frustoconical base 19 . the shaft 18 has splines 20 . the container 16 has a base having a frustoconical protuberant portion 21 surmounted by a hollow column 22 . the frustoconical shape of the protuberant portion 21 matches that of the base 19 , and the height of the hollow column 22 matches the height of the shaft 18 . also , the upper part of the base 15 is in the form of a dished portion 23 , which matches the shape of the lower spherical part of the container 16 . thus , when the container 16 has been placed in position , the frustoconical portion 21 and the column 22 surmount , and closely follow the shape of , the base 19 and shaft 18 . the apparatus comprises a device for attaching the removable container 16 to the base 15 so that , during operation , the container 16 and base 15 cannot be separated from each other . the fastening device comprises means for ensuring that the container 16 will be fast in rotation with the base 15 , and means for locking the container 16 and base 15 to one another . the means for making the container and base fast in rotation with one another are constituted by , firstly , two ribs 24 and 25 on the upper part of the base 15 , this upper part being shaped as a dished part 23 . the ribs 24 and 25 stand out from the wall 26 of the dished part 23 , and lie diametrically opposite one another . these ribs 24 , 25 are each constituted by a first , gently inclined face , 27 and 28 , and by a second , more steeply inclined face 29 and 30 . container 16 also has two ribs 31 and 32 , which are diametrically opposed , on its lower wall . when the container 16 is placed on to the base 15 and the container 16 is turned in the direction in which the ribs 31 and 32 first meet the faces 27 and 28 ( that is to say in the direction of arrows f 1 and f 2 of fig9 a and 9b ) it is easy , by continuing this rotation , to cause ribs 31 and 32 to pass ribs 24 and 25 . the container 16 will then be in position for operation . the container cannot become disengaged through rotation in the opposite direction from that described above , because it would require the exertion of greater force to cause ribs 31 and 32 to pass ribs 24 and 25 , as ribs 31 and 32 would then first have to cross the more steeply - inclined faces 29 and 30 . the means for locking the container 16 to the base 15 comprises two lugs 36 , which belong to the base 15 , are diametrically opposite one another relative to the shaft 18 , and jut out in two recesses 37 formed in the outer wall of the base 15 . provided for co - operation with the lug 36 are two slots 38 formed in two symmetrically disposed faces 39 on the wall of the container 16 , close to the bottom of the latter . these faces 39 are constituted by two cheeks 40 and 41 , which are offset relative to one another and interconnected by a shoulder 42 . when , prior to use and when the container 16 is positioned on the stand , the container 16 is turned so as to bring the ribs 31 and 32 in contact with ribs 24 and 25 , in the manner described above , lug 36 lies behind cheek 41 and directly behind the part of the slot 38 formed in this cheek 41 . by rotating container 16 in the direction of arrow f 3 in fig1 ribs 31 and 32 are caused to pass ribs 24 and 25 , and lug 36 is brought into the part of slot 38 formed in the cheek 40 . the front face 43 of lug 36 comes into contact with the end 44 of slot 38 , thereby preventing any continuation of rotation of container 16 relative to the base 15 . the lug 36 then participates in making the container fast in rotation with the base . further , the lug 36 locks the container to the base , as this lug 36 is completely engaged in the part of the slot lying in cheek 40 , and prevents any upward movement of the container relative to the base . fig4 a and 4b illustrate a cover which is similar to cover 17 illustrated in fig3 . it comprises an upper part 45 which is in the form of a spherical cap having a long projecting ridge 46 and two shorter ridges 47 and 48 . the three ridges enable the cover to be easily manipulated . the top of the spherical cap comprises a funnel 49 by means of which materials to be treated can be introduced into the container 16 , in particular liquids . at the base of the spherical cap a lower cylindrical extension 50 corresponds to an upper projection 51 belonging to the container , the extension 50 lying within the extension 51 when the cover is in position . the cover also comprises a circular rim 52 having two segments bent over to define a hook - like portion 53 which is intended to engage under two arcuate protuberances 54 of the upper extension 51 of the container 16 . rotating the cover relative to the container causes the protuberances 54 to engage in the hook - shaped segments 53 , so that the cover is locked on to the container . the cover 17 is equipped with a tongue 55 which is extended by a cranked part 56 composed of two flat segments 57 and 58 which together include a right angle . segment 58 is cut across to define a bevel , and the two sides 59 and 60 of its lower portion together include an obtuse angle . the base 15 ( fig3 ), which encloses the motor , comprises an upper extension 61 which forms a hood for a contact for starting the motor of the apparatus . the hood 61 is formed with a slot 62 in which the crank parts 56 can enter . the slot 62 itself defines an elbow bend and is constituted by a first , substantially horizontal slot 63 , which merges into a second , substantially vertical slot 64 . during the turning movement by means of which cover 17 is locked to container 16 , the segment 57 enters the slot 63 , and segment 58 enters slot 64 . during the turning movement of the cover 17 ( fig1 ) in the direction of arrow f 4 the side 59 of segment 58 comes into contact with a spring - loaded push knob 65 . this knob or button 65 is pressed down in the direction of arrow f 5 until it abuts against the edge 60 , thus closing a switch 66 serving to start the apparatus motor 67 . switch 66 is described with more details in conjunction with fig1 . this reveals a notable feature of the apparatus , that is to say the rotation of the cover relative to the container thus causes this cover to be locked to the container and also causes the motor to be started . as soon as the items of food have been treated rotation of the cover in the opposite direction disengages the push button 65 , thereby opening contact 66 and stopping the motor ; at the end of the rotation of the cover the hook - shaped segments 53 disengage from the protuberant portions 54 and the cover can be raised . fig5 illustrates another cover 68 which can be fitted on the container 16 . cover 68 comprises the same means as cover 45 for securing it to the container , viz . rims and hook - shaped segments , and also the same means ( as cover 45 ) for actuating the push button ( a cranked tongue ). in place of a funnel , cover 68 comprises a spout 69 by means of which the products to be treated can be introduced ; cover 68 also comprises a plug or stopper 70 . fig1 , 13 and 14 , 15 respectively show discs 71 and 72 , which can be fitted on the shaft 18 of the apparatus motor . disc 71 is extended by an internally splined column or stem , which can engage on the splines 20 of shaft 18 . stem 73 is connected to disc 71 by three ribs 74 each of which carries a stud 75 , in which a screw 76 makes the disc fast with the corresponding rib 74 . disc 71 is formed with a substantially radial slot 77 ; a toothed blade 78 is spot - welded ( 79 ) slightly above , and set back from , slot 77 . disc 72 is also extended by a stem 80 , which is internally splined in the same manner as stem 73 . stem 80 is secured to disc 72 in the same way as stem 73 is secured to disc 71 . disc 72 is formed with a number of substantially circular , small orifices 81 , and a part 82 of the edge of each orifice 81 is upwardly raised so as to form a number of small knives . fig6 shows two knives 92 and 93 mounted on a ring 94 . these knives 92 , 93 each has a blade which is identical to the blade of knives 6 and 7 of fig1 and 2 . ring 94 is provided with a central tube 95 which is internally splined in such a way that splines exactly fit on the splines of shaft 18 . the space defined between the ring 94 and the inner tube 95 corresponds to the column 22 , so that the ring can fit over this column 22 when the apparatus is to be used with the knives . knife 92 comprises , like knife 7 , two parts , viz . a planar portion 92 a and an arcuate portion 92 b . as is clear from fig7 in which knife 92 is indicated by dashed line , the length of part 92 b is such that its end lies below the plane p . p &# 39 ;, which extends perpendicularly of the shaft 18 passing through the centre of the spherical container . the two latches of the base and the combination of the two first ribs on the external surface of the ball with the two ribs on the base having a special profile of a gentle slope upwardly and a steep slope downwardly facilitate the anticlockwise rotation necessary to lock the ball and ensures that a clockwise rotation of the ball cannot occur such as from an occasional shock . referring to fig1 , motor 5 is indicated by dot - dash lines . although the control parts are or may be enclosed within the motor casing , they are , for clarity of illustration and description , shown apart from the motor , enclosed within the dot - dash rectangle 5a . the motor is a single - phase machine equipped with two field coils 115 and 116 , a relay or coupler 117 and a starting condenser 118 . coils 115 and 116 are connected to the neutral n of an a . c . supply . when connected through one pair of terminals 119 of an on - off switch 66 ( see also fig1 ), the motor is supplied by way of a terminal b . as will be noted from fig1 , switch 66 includes three pairs of terminals , namely , terminals 119 previously identified , 120 and 121 . when in the &# 34 ; off &# 34 ; position shown upon the figure , terminals 120 are bridged . when in the &# 34 ; on &# 34 ; position , terminals 120 are opened and terminals 119 and 121 are closed . passage of &# 34 ; off &# 34 ; to &# 34 ; on &# 34 ; position is due to the pressing down of spring - loaded push knob 65 by segment 58 as explained previously in connection with fig1 . contacts or terminals 120 connect phase u and the anode of thyristor t 1 , the cathode of which is connected directly to motor terminal a , and to the anode of diode d 1 . the cathode of d 1 is connected through terminals 121 , to motor terminal a . terminals 121 are shunted by a time - constant circuit comprising resistors r 1 and r 2 , and condenser c 1 . one terminal of the condenser is also connected to the trigger of tyristor t 1 . when terminals 120 are bridged , this time circuit is supplied by diode d 1 , with a half - wave current . when switch 66 is in the &# 34 ; off &# 34 ; position of fig1 , terminals 119 are open and the motor is de - energized . terminals 120 being closed at this time , condenser c 1 is charged . the voltage on the trigger of t 1 is then equal to that on its cathode and t 1 is blocked . when switch 66 is moved to its &# 34 ; on &# 34 ; position , terminals 120 are opened and 119 and 121 are closed . the motor is energized through terminals 119 . as terminals 121 are also bridged at this time , condenser c 1 is discharged , t 1 becomes unblocked but is not supplied since terminals 120 are open at this time . when switch 66 is again moved to the &# 34 ; off &# 34 ; position of fig1 , terminals 119 are opened and motor 5 is no longer supplied . t 1 being then unblocked , is supplied through presently - closed terminals 120 . terminals 121 are also open at this time . thus motor terminal a is supplied with a half - wave current as indicated at 123 , thus producing an instantaneous induction braking . but c 1 is then progressively charged through diode d 1 and resistances r 1 and r 2 . when thus charged , c 1 blocks t 1 , motor terminal a is no longer supplied and the motor is immediately brought to rest . the combination of the circuitry of fig1 with the ball mount to the base and the safety interlock controlled by the rotation of the cover ensures that the electric circuit is open when the cover is not locked . when the motor is shut off by the unlocking of the cover it stops immediately the shaft and leaves it free to rotate about its axis .'"
            ]
          },
          "metadata": {
            "tags": []
          },
          "execution_count": 7
        }
      ]
    },
    {
      "cell_type": "code",
      "metadata": {
        "id": "V2pjAlIufJEV"
      },
      "source": [
        "for i in df['description']:\n",
        "    src_text = i\n",
        "    batch = tokenizer.prepare_seq2seq_batch(src_text, truncation=True, padding='longest', return_tensors='pt').to(device)\n",
        "    translated = model.generate(**batch)\n",
        "    tgt_text = tokenizer.batch_decode(translated, skip_special_tokens=True)\n",
        "    print(tgt_text)\n",
        "    myfile.write(\"%s\\n\" % tgt_text[0])\n",
        "myfile.close()"
      ],
      "execution_count": null,
      "outputs": []
    },
    {
      "cell_type": "code",
      "metadata": {
        "id": "SQPh2Q4dfJEV"
      },
      "source": [
        "f = open(\"pegasus-opt.txt\", \"r\")\n",
        "pred_summaries = f.readlines()"
      ],
      "execution_count": 5,
      "outputs": []
    },
    {
      "cell_type": "code",
      "metadata": {
        "id": "gn103Pw8f5de"
      },
      "source": [
        "import numpy as np\n",
        "scores_pegasus = calc_rouge_scores(pred_summaries, df['abstract'].tolist())"
      ],
      "execution_count": 13,
      "outputs": []
    },
    {
      "cell_type": "code",
      "metadata": {
        "colab": {
          "base_uri": "https://localhost:8080/"
        },
        "id": "gydgxlkNgk3O",
        "outputId": "06bdbc29-997b-4393-e329-b61d9d3ee90a"
      },
      "source": [
        "scores_pegasus"
      ],
      "execution_count": 14,
      "outputs": [
        {
          "output_type": "execute_result",
          "data": {
            "text/plain": [
              "{'rouge1': {'f1': 0.36411618641995963,\n",
              "  'precision': 0.28941894511726557,\n",
              "  'recall': 0.5772498951793764},\n",
              " 'rouge2': {'f1': 0.15732418417547966,\n",
              "  'precision': 0.12402870466732557,\n",
              "  'recall': 0.25435794525959343},\n",
              " 'rougeL': {'f1': 0.2570086670250988,\n",
              "  'precision': 0.20381150084147137,\n",
              "  'recall': 0.41320167910601263}}"
            ]
          },
          "metadata": {
            "tags": []
          },
          "execution_count": 14
        }
      ]
    }
  ]
}