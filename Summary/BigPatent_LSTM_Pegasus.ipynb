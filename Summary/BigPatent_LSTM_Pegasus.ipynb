{
  "nbformat": 4,
  "nbformat_minor": 0,
  "metadata": {
    "colab": {
      "name": "BigPatent_LSTM-Pegasus.ipynb",
      "provenance": [],
      "collapsed_sections": []
    },
    "kernelspec": {
      "display_name": "Python 3",
      "language": "python",
      "name": "python3"
    },
    "language_info": {
      "codemirror_mode": {
        "name": "ipython",
        "version": 3
      },
      "file_extension": ".py",
      "mimetype": "text/x-python",
      "name": "python",
      "nbconvert_exporter": "python",
      "pygments_lexer": "ipython3",
      "version": "3.9.2"
    },
    "widgets": {
      "application/vnd.jupyter.widget-state+json": {
        "5ad5c1a0aade4a60839e3cbfcea513c9": {
          "model_module": "@jupyter-widgets/controls",
          "model_name": "HBoxModel",
          "state": {
            "_view_name": "HBoxView",
            "_dom_classes": [],
            "_model_name": "HBoxModel",
            "_view_module": "@jupyter-widgets/controls",
            "_model_module_version": "1.5.0",
            "_view_count": null,
            "_view_module_version": "1.5.0",
            "box_style": "",
            "layout": "IPY_MODEL_28ddfb930c6744d8a9ed3bac6fa0bfdd",
            "_model_module": "@jupyter-widgets/controls",
            "children": [
              "IPY_MODEL_3efa477d38974c95b342d01cd19268d4",
              "IPY_MODEL_59a3b4043ef245558204663c5b6fdf13"
            ]
          }
        },
        "28ddfb930c6744d8a9ed3bac6fa0bfdd": {
          "model_module": "@jupyter-widgets/base",
          "model_name": "LayoutModel",
          "state": {
            "_view_name": "LayoutView",
            "grid_template_rows": null,
            "right": null,
            "justify_content": null,
            "_view_module": "@jupyter-widgets/base",
            "overflow": null,
            "_model_module_version": "1.2.0",
            "_view_count": null,
            "flex_flow": null,
            "width": null,
            "min_width": null,
            "border": null,
            "align_items": null,
            "bottom": null,
            "_model_module": "@jupyter-widgets/base",
            "top": null,
            "grid_column": null,
            "overflow_y": null,
            "overflow_x": null,
            "grid_auto_flow": null,
            "grid_area": null,
            "grid_template_columns": null,
            "flex": null,
            "_model_name": "LayoutModel",
            "justify_items": null,
            "grid_row": null,
            "max_height": null,
            "align_content": null,
            "visibility": null,
            "align_self": null,
            "height": null,
            "min_height": null,
            "padding": null,
            "grid_auto_rows": null,
            "grid_gap": null,
            "max_width": null,
            "order": null,
            "_view_module_version": "1.2.0",
            "grid_template_areas": null,
            "object_position": null,
            "object_fit": null,
            "grid_auto_columns": null,
            "margin": null,
            "display": null,
            "left": null
          }
        },
        "3efa477d38974c95b342d01cd19268d4": {
          "model_module": "@jupyter-widgets/controls",
          "model_name": "FloatProgressModel",
          "state": {
            "_view_name": "ProgressView",
            "style": "IPY_MODEL_7a11405d757b495696a250b3f11a9834",
            "_dom_classes": [],
            "description": "Downloading: 100%",
            "_model_name": "FloatProgressModel",
            "bar_style": "success",
            "max": 1912529,
            "_view_module": "@jupyter-widgets/controls",
            "_model_module_version": "1.5.0",
            "value": 1912529,
            "_view_count": null,
            "_view_module_version": "1.5.0",
            "orientation": "horizontal",
            "min": 0,
            "description_tooltip": null,
            "_model_module": "@jupyter-widgets/controls",
            "layout": "IPY_MODEL_66254ef422104f73bf354b0c5ecfad15"
          }
        },
        "59a3b4043ef245558204663c5b6fdf13": {
          "model_module": "@jupyter-widgets/controls",
          "model_name": "HTMLModel",
          "state": {
            "_view_name": "HTMLView",
            "style": "IPY_MODEL_cd830be67b974eb1b026ccc3099a9e90",
            "_dom_classes": [],
            "description": "",
            "_model_name": "HTMLModel",
            "placeholder": "​",
            "_view_module": "@jupyter-widgets/controls",
            "_model_module_version": "1.5.0",
            "value": " 1.91M/1.91M [01:04&lt;00:00, 29.6kB/s]",
            "_view_count": null,
            "_view_module_version": "1.5.0",
            "description_tooltip": null,
            "_model_module": "@jupyter-widgets/controls",
            "layout": "IPY_MODEL_7614b028ce42408b9f668d49a5d5e7c8"
          }
        },
        "7a11405d757b495696a250b3f11a9834": {
          "model_module": "@jupyter-widgets/controls",
          "model_name": "ProgressStyleModel",
          "state": {
            "_view_name": "StyleView",
            "_model_name": "ProgressStyleModel",
            "description_width": "initial",
            "_view_module": "@jupyter-widgets/base",
            "_model_module_version": "1.5.0",
            "_view_count": null,
            "_view_module_version": "1.2.0",
            "bar_color": null,
            "_model_module": "@jupyter-widgets/controls"
          }
        },
        "66254ef422104f73bf354b0c5ecfad15": {
          "model_module": "@jupyter-widgets/base",
          "model_name": "LayoutModel",
          "state": {
            "_view_name": "LayoutView",
            "grid_template_rows": null,
            "right": null,
            "justify_content": null,
            "_view_module": "@jupyter-widgets/base",
            "overflow": null,
            "_model_module_version": "1.2.0",
            "_view_count": null,
            "flex_flow": null,
            "width": null,
            "min_width": null,
            "border": null,
            "align_items": null,
            "bottom": null,
            "_model_module": "@jupyter-widgets/base",
            "top": null,
            "grid_column": null,
            "overflow_y": null,
            "overflow_x": null,
            "grid_auto_flow": null,
            "grid_area": null,
            "grid_template_columns": null,
            "flex": null,
            "_model_name": "LayoutModel",
            "justify_items": null,
            "grid_row": null,
            "max_height": null,
            "align_content": null,
            "visibility": null,
            "align_self": null,
            "height": null,
            "min_height": null,
            "padding": null,
            "grid_auto_rows": null,
            "grid_gap": null,
            "max_width": null,
            "order": null,
            "_view_module_version": "1.2.0",
            "grid_template_areas": null,
            "object_position": null,
            "object_fit": null,
            "grid_auto_columns": null,
            "margin": null,
            "display": null,
            "left": null
          }
        },
        "cd830be67b974eb1b026ccc3099a9e90": {
          "model_module": "@jupyter-widgets/controls",
          "model_name": "DescriptionStyleModel",
          "state": {
            "_view_name": "StyleView",
            "_model_name": "DescriptionStyleModel",
            "description_width": "",
            "_view_module": "@jupyter-widgets/base",
            "_model_module_version": "1.5.0",
            "_view_count": null,
            "_view_module_version": "1.2.0",
            "_model_module": "@jupyter-widgets/controls"
          }
        },
        "7614b028ce42408b9f668d49a5d5e7c8": {
          "model_module": "@jupyter-widgets/base",
          "model_name": "LayoutModel",
          "state": {
            "_view_name": "LayoutView",
            "grid_template_rows": null,
            "right": null,
            "justify_content": null,
            "_view_module": "@jupyter-widgets/base",
            "overflow": null,
            "_model_module_version": "1.2.0",
            "_view_count": null,
            "flex_flow": null,
            "width": null,
            "min_width": null,
            "border": null,
            "align_items": null,
            "bottom": null,
            "_model_module": "@jupyter-widgets/base",
            "top": null,
            "grid_column": null,
            "overflow_y": null,
            "overflow_x": null,
            "grid_auto_flow": null,
            "grid_area": null,
            "grid_template_columns": null,
            "flex": null,
            "_model_name": "LayoutModel",
            "justify_items": null,
            "grid_row": null,
            "max_height": null,
            "align_content": null,
            "visibility": null,
            "align_self": null,
            "height": null,
            "min_height": null,
            "padding": null,
            "grid_auto_rows": null,
            "grid_gap": null,
            "max_width": null,
            "order": null,
            "_view_module_version": "1.2.0",
            "grid_template_areas": null,
            "object_position": null,
            "object_fit": null,
            "grid_auto_columns": null,
            "margin": null,
            "display": null,
            "left": null
          }
        },
        "cfe9edc080e0469fb3ddb8fa86f68a58": {
          "model_module": "@jupyter-widgets/controls",
          "model_name": "HBoxModel",
          "state": {
            "_view_name": "HBoxView",
            "_dom_classes": [],
            "_model_name": "HBoxModel",
            "_view_module": "@jupyter-widgets/controls",
            "_model_module_version": "1.5.0",
            "_view_count": null,
            "_view_module_version": "1.5.0",
            "box_style": "",
            "layout": "IPY_MODEL_f251c7e7cab043fba8594db74c9914e0",
            "_model_module": "@jupyter-widgets/controls",
            "children": [
              "IPY_MODEL_8fcc73b62961426d92f822bc781dd718",
              "IPY_MODEL_fc584e4367ee4df19cd7e72f9550565a"
            ]
          }
        },
        "f251c7e7cab043fba8594db74c9914e0": {
          "model_module": "@jupyter-widgets/base",
          "model_name": "LayoutModel",
          "state": {
            "_view_name": "LayoutView",
            "grid_template_rows": null,
            "right": null,
            "justify_content": null,
            "_view_module": "@jupyter-widgets/base",
            "overflow": null,
            "_model_module_version": "1.2.0",
            "_view_count": null,
            "flex_flow": null,
            "width": null,
            "min_width": null,
            "border": null,
            "align_items": null,
            "bottom": null,
            "_model_module": "@jupyter-widgets/base",
            "top": null,
            "grid_column": null,
            "overflow_y": null,
            "overflow_x": null,
            "grid_auto_flow": null,
            "grid_area": null,
            "grid_template_columns": null,
            "flex": null,
            "_model_name": "LayoutModel",
            "justify_items": null,
            "grid_row": null,
            "max_height": null,
            "align_content": null,
            "visibility": null,
            "align_self": null,
            "height": null,
            "min_height": null,
            "padding": null,
            "grid_auto_rows": null,
            "grid_gap": null,
            "max_width": null,
            "order": null,
            "_view_module_version": "1.2.0",
            "grid_template_areas": null,
            "object_position": null,
            "object_fit": null,
            "grid_auto_columns": null,
            "margin": null,
            "display": null,
            "left": null
          }
        },
        "8fcc73b62961426d92f822bc781dd718": {
          "model_module": "@jupyter-widgets/controls",
          "model_name": "FloatProgressModel",
          "state": {
            "_view_name": "ProgressView",
            "style": "IPY_MODEL_663b61e15cab4b2cb7bce8f10bb1ffd9",
            "_dom_classes": [],
            "description": "Downloading: 100%",
            "_model_name": "FloatProgressModel",
            "bar_style": "success",
            "max": 65,
            "_view_module": "@jupyter-widgets/controls",
            "_model_module_version": "1.5.0",
            "value": 65,
            "_view_count": null,
            "_view_module_version": "1.5.0",
            "orientation": "horizontal",
            "min": 0,
            "description_tooltip": null,
            "_model_module": "@jupyter-widgets/controls",
            "layout": "IPY_MODEL_748f0298117e43d7a5450424179b86dc"
          }
        },
        "fc584e4367ee4df19cd7e72f9550565a": {
          "model_module": "@jupyter-widgets/controls",
          "model_name": "HTMLModel",
          "state": {
            "_view_name": "HTMLView",
            "style": "IPY_MODEL_60401e6527f347249638679c1210dca6",
            "_dom_classes": [],
            "description": "",
            "_model_name": "HTMLModel",
            "placeholder": "​",
            "_view_module": "@jupyter-widgets/controls",
            "_model_module_version": "1.5.0",
            "value": " 65.0/65.0 [00:00&lt;00:00, 99.9B/s]",
            "_view_count": null,
            "_view_module_version": "1.5.0",
            "description_tooltip": null,
            "_model_module": "@jupyter-widgets/controls",
            "layout": "IPY_MODEL_64eb92389afc43bba2ab40eb43b89a54"
          }
        },
        "663b61e15cab4b2cb7bce8f10bb1ffd9": {
          "model_module": "@jupyter-widgets/controls",
          "model_name": "ProgressStyleModel",
          "state": {
            "_view_name": "StyleView",
            "_model_name": "ProgressStyleModel",
            "description_width": "initial",
            "_view_module": "@jupyter-widgets/base",
            "_model_module_version": "1.5.0",
            "_view_count": null,
            "_view_module_version": "1.2.0",
            "bar_color": null,
            "_model_module": "@jupyter-widgets/controls"
          }
        },
        "748f0298117e43d7a5450424179b86dc": {
          "model_module": "@jupyter-widgets/base",
          "model_name": "LayoutModel",
          "state": {
            "_view_name": "LayoutView",
            "grid_template_rows": null,
            "right": null,
            "justify_content": null,
            "_view_module": "@jupyter-widgets/base",
            "overflow": null,
            "_model_module_version": "1.2.0",
            "_view_count": null,
            "flex_flow": null,
            "width": null,
            "min_width": null,
            "border": null,
            "align_items": null,
            "bottom": null,
            "_model_module": "@jupyter-widgets/base",
            "top": null,
            "grid_column": null,
            "overflow_y": null,
            "overflow_x": null,
            "grid_auto_flow": null,
            "grid_area": null,
            "grid_template_columns": null,
            "flex": null,
            "_model_name": "LayoutModel",
            "justify_items": null,
            "grid_row": null,
            "max_height": null,
            "align_content": null,
            "visibility": null,
            "align_self": null,
            "height": null,
            "min_height": null,
            "padding": null,
            "grid_auto_rows": null,
            "grid_gap": null,
            "max_width": null,
            "order": null,
            "_view_module_version": "1.2.0",
            "grid_template_areas": null,
            "object_position": null,
            "object_fit": null,
            "grid_auto_columns": null,
            "margin": null,
            "display": null,
            "left": null
          }
        },
        "60401e6527f347249638679c1210dca6": {
          "model_module": "@jupyter-widgets/controls",
          "model_name": "DescriptionStyleModel",
          "state": {
            "_view_name": "StyleView",
            "_model_name": "DescriptionStyleModel",
            "description_width": "",
            "_view_module": "@jupyter-widgets/base",
            "_model_module_version": "1.5.0",
            "_view_count": null,
            "_view_module_version": "1.2.0",
            "_model_module": "@jupyter-widgets/controls"
          }
        },
        "64eb92389afc43bba2ab40eb43b89a54": {
          "model_module": "@jupyter-widgets/base",
          "model_name": "LayoutModel",
          "state": {
            "_view_name": "LayoutView",
            "grid_template_rows": null,
            "right": null,
            "justify_content": null,
            "_view_module": "@jupyter-widgets/base",
            "overflow": null,
            "_model_module_version": "1.2.0",
            "_view_count": null,
            "flex_flow": null,
            "width": null,
            "min_width": null,
            "border": null,
            "align_items": null,
            "bottom": null,
            "_model_module": "@jupyter-widgets/base",
            "top": null,
            "grid_column": null,
            "overflow_y": null,
            "overflow_x": null,
            "grid_auto_flow": null,
            "grid_area": null,
            "grid_template_columns": null,
            "flex": null,
            "_model_name": "LayoutModel",
            "justify_items": null,
            "grid_row": null,
            "max_height": null,
            "align_content": null,
            "visibility": null,
            "align_self": null,
            "height": null,
            "min_height": null,
            "padding": null,
            "grid_auto_rows": null,
            "grid_gap": null,
            "max_width": null,
            "order": null,
            "_view_module_version": "1.2.0",
            "grid_template_areas": null,
            "object_position": null,
            "object_fit": null,
            "grid_auto_columns": null,
            "margin": null,
            "display": null,
            "left": null
          }
        },
        "985dfd7fe4b3465b918ba06e01fe6d8e": {
          "model_module": "@jupyter-widgets/controls",
          "model_name": "HBoxModel",
          "state": {
            "_view_name": "HBoxView",
            "_dom_classes": [],
            "_model_name": "HBoxModel",
            "_view_module": "@jupyter-widgets/controls",
            "_model_module_version": "1.5.0",
            "_view_count": null,
            "_view_module_version": "1.5.0",
            "box_style": "",
            "layout": "IPY_MODEL_710c80ccde8d42408fa3c78dbd9afe0a",
            "_model_module": "@jupyter-widgets/controls",
            "children": [
              "IPY_MODEL_8b92635fa1b6435a8accb95d3ed33dc8",
              "IPY_MODEL_3d990b3ccfab465b8ad5b058164a7388"
            ]
          }
        },
        "710c80ccde8d42408fa3c78dbd9afe0a": {
          "model_module": "@jupyter-widgets/base",
          "model_name": "LayoutModel",
          "state": {
            "_view_name": "LayoutView",
            "grid_template_rows": null,
            "right": null,
            "justify_content": null,
            "_view_module": "@jupyter-widgets/base",
            "overflow": null,
            "_model_module_version": "1.2.0",
            "_view_count": null,
            "flex_flow": null,
            "width": null,
            "min_width": null,
            "border": null,
            "align_items": null,
            "bottom": null,
            "_model_module": "@jupyter-widgets/base",
            "top": null,
            "grid_column": null,
            "overflow_y": null,
            "overflow_x": null,
            "grid_auto_flow": null,
            "grid_area": null,
            "grid_template_columns": null,
            "flex": null,
            "_model_name": "LayoutModel",
            "justify_items": null,
            "grid_row": null,
            "max_height": null,
            "align_content": null,
            "visibility": null,
            "align_self": null,
            "height": null,
            "min_height": null,
            "padding": null,
            "grid_auto_rows": null,
            "grid_gap": null,
            "max_width": null,
            "order": null,
            "_view_module_version": "1.2.0",
            "grid_template_areas": null,
            "object_position": null,
            "object_fit": null,
            "grid_auto_columns": null,
            "margin": null,
            "display": null,
            "left": null
          }
        },
        "8b92635fa1b6435a8accb95d3ed33dc8": {
          "model_module": "@jupyter-widgets/controls",
          "model_name": "FloatProgressModel",
          "state": {
            "_view_name": "ProgressView",
            "style": "IPY_MODEL_2d962ff7106a4b8d8fe6a18b76cd9c64",
            "_dom_classes": [],
            "description": "Downloading: 100%",
            "_model_name": "FloatProgressModel",
            "bar_style": "success",
            "max": 88,
            "_view_module": "@jupyter-widgets/controls",
            "_model_module_version": "1.5.0",
            "value": 88,
            "_view_count": null,
            "_view_module_version": "1.5.0",
            "orientation": "horizontal",
            "min": 0,
            "description_tooltip": null,
            "_model_module": "@jupyter-widgets/controls",
            "layout": "IPY_MODEL_e2c85bed9942455991fb522f65a08418"
          }
        },
        "3d990b3ccfab465b8ad5b058164a7388": {
          "model_module": "@jupyter-widgets/controls",
          "model_name": "HTMLModel",
          "state": {
            "_view_name": "HTMLView",
            "style": "IPY_MODEL_a9ab7d3e34ba4a128f482f40cfaed348",
            "_dom_classes": [],
            "description": "",
            "_model_name": "HTMLModel",
            "placeholder": "​",
            "_view_module": "@jupyter-widgets/controls",
            "_model_module_version": "1.5.0",
            "value": " 88.0/88.0 [00:00&lt;00:00, 201B/s]",
            "_view_count": null,
            "_view_module_version": "1.5.0",
            "description_tooltip": null,
            "_model_module": "@jupyter-widgets/controls",
            "layout": "IPY_MODEL_1bdda8f0c24a48a493a28a01eb68f171"
          }
        },
        "2d962ff7106a4b8d8fe6a18b76cd9c64": {
          "model_module": "@jupyter-widgets/controls",
          "model_name": "ProgressStyleModel",
          "state": {
            "_view_name": "StyleView",
            "_model_name": "ProgressStyleModel",
            "description_width": "initial",
            "_view_module": "@jupyter-widgets/base",
            "_model_module_version": "1.5.0",
            "_view_count": null,
            "_view_module_version": "1.2.0",
            "bar_color": null,
            "_model_module": "@jupyter-widgets/controls"
          }
        },
        "e2c85bed9942455991fb522f65a08418": {
          "model_module": "@jupyter-widgets/base",
          "model_name": "LayoutModel",
          "state": {
            "_view_name": "LayoutView",
            "grid_template_rows": null,
            "right": null,
            "justify_content": null,
            "_view_module": "@jupyter-widgets/base",
            "overflow": null,
            "_model_module_version": "1.2.0",
            "_view_count": null,
            "flex_flow": null,
            "width": null,
            "min_width": null,
            "border": null,
            "align_items": null,
            "bottom": null,
            "_model_module": "@jupyter-widgets/base",
            "top": null,
            "grid_column": null,
            "overflow_y": null,
            "overflow_x": null,
            "grid_auto_flow": null,
            "grid_area": null,
            "grid_template_columns": null,
            "flex": null,
            "_model_name": "LayoutModel",
            "justify_items": null,
            "grid_row": null,
            "max_height": null,
            "align_content": null,
            "visibility": null,
            "align_self": null,
            "height": null,
            "min_height": null,
            "padding": null,
            "grid_auto_rows": null,
            "grid_gap": null,
            "max_width": null,
            "order": null,
            "_view_module_version": "1.2.0",
            "grid_template_areas": null,
            "object_position": null,
            "object_fit": null,
            "grid_auto_columns": null,
            "margin": null,
            "display": null,
            "left": null
          }
        },
        "a9ab7d3e34ba4a128f482f40cfaed348": {
          "model_module": "@jupyter-widgets/controls",
          "model_name": "DescriptionStyleModel",
          "state": {
            "_view_name": "StyleView",
            "_model_name": "DescriptionStyleModel",
            "description_width": "",
            "_view_module": "@jupyter-widgets/base",
            "_model_module_version": "1.5.0",
            "_view_count": null,
            "_view_module_version": "1.2.0",
            "_model_module": "@jupyter-widgets/controls"
          }
        },
        "1bdda8f0c24a48a493a28a01eb68f171": {
          "model_module": "@jupyter-widgets/base",
          "model_name": "LayoutModel",
          "state": {
            "_view_name": "LayoutView",
            "grid_template_rows": null,
            "right": null,
            "justify_content": null,
            "_view_module": "@jupyter-widgets/base",
            "overflow": null,
            "_model_module_version": "1.2.0",
            "_view_count": null,
            "flex_flow": null,
            "width": null,
            "min_width": null,
            "border": null,
            "align_items": null,
            "bottom": null,
            "_model_module": "@jupyter-widgets/base",
            "top": null,
            "grid_column": null,
            "overflow_y": null,
            "overflow_x": null,
            "grid_auto_flow": null,
            "grid_area": null,
            "grid_template_columns": null,
            "flex": null,
            "_model_name": "LayoutModel",
            "justify_items": null,
            "grid_row": null,
            "max_height": null,
            "align_content": null,
            "visibility": null,
            "align_self": null,
            "height": null,
            "min_height": null,
            "padding": null,
            "grid_auto_rows": null,
            "grid_gap": null,
            "max_width": null,
            "order": null,
            "_view_module_version": "1.2.0",
            "grid_template_areas": null,
            "object_position": null,
            "object_fit": null,
            "grid_auto_columns": null,
            "margin": null,
            "display": null,
            "left": null
          }
        },
        "f4743834e5c24eb585a22e82f576c6e7": {
          "model_module": "@jupyter-widgets/controls",
          "model_name": "HBoxModel",
          "state": {
            "_view_name": "HBoxView",
            "_dom_classes": [],
            "_model_name": "HBoxModel",
            "_view_module": "@jupyter-widgets/controls",
            "_model_module_version": "1.5.0",
            "_view_count": null,
            "_view_module_version": "1.5.0",
            "box_style": "",
            "layout": "IPY_MODEL_d65be60f6476422783499b3f4c7b3443",
            "_model_module": "@jupyter-widgets/controls",
            "children": [
              "IPY_MODEL_d0400c1b5c1a4524bac8516f09f1636d",
              "IPY_MODEL_af93711ba269486eb2bbc5ec9183dc06"
            ]
          }
        },
        "d65be60f6476422783499b3f4c7b3443": {
          "model_module": "@jupyter-widgets/base",
          "model_name": "LayoutModel",
          "state": {
            "_view_name": "LayoutView",
            "grid_template_rows": null,
            "right": null,
            "justify_content": null,
            "_view_module": "@jupyter-widgets/base",
            "overflow": null,
            "_model_module_version": "1.2.0",
            "_view_count": null,
            "flex_flow": null,
            "width": null,
            "min_width": null,
            "border": null,
            "align_items": null,
            "bottom": null,
            "_model_module": "@jupyter-widgets/base",
            "top": null,
            "grid_column": null,
            "overflow_y": null,
            "overflow_x": null,
            "grid_auto_flow": null,
            "grid_area": null,
            "grid_template_columns": null,
            "flex": null,
            "_model_name": "LayoutModel",
            "justify_items": null,
            "grid_row": null,
            "max_height": null,
            "align_content": null,
            "visibility": null,
            "align_self": null,
            "height": null,
            "min_height": null,
            "padding": null,
            "grid_auto_rows": null,
            "grid_gap": null,
            "max_width": null,
            "order": null,
            "_view_module_version": "1.2.0",
            "grid_template_areas": null,
            "object_position": null,
            "object_fit": null,
            "grid_auto_columns": null,
            "margin": null,
            "display": null,
            "left": null
          }
        },
        "d0400c1b5c1a4524bac8516f09f1636d": {
          "model_module": "@jupyter-widgets/controls",
          "model_name": "FloatProgressModel",
          "state": {
            "_view_name": "ProgressView",
            "style": "IPY_MODEL_fd854e8675f440be9460b3196d5879e4",
            "_dom_classes": [],
            "description": "Downloading: 100%",
            "_model_name": "FloatProgressModel",
            "bar_style": "success",
            "max": 1120,
            "_view_module": "@jupyter-widgets/controls",
            "_model_module_version": "1.5.0",
            "value": 1120,
            "_view_count": null,
            "_view_module_version": "1.5.0",
            "orientation": "horizontal",
            "min": 0,
            "description_tooltip": null,
            "_model_module": "@jupyter-widgets/controls",
            "layout": "IPY_MODEL_8e71e619c7b24db9a57d824efd5b0131"
          }
        },
        "af93711ba269486eb2bbc5ec9183dc06": {
          "model_module": "@jupyter-widgets/controls",
          "model_name": "HTMLModel",
          "state": {
            "_view_name": "HTMLView",
            "style": "IPY_MODEL_4210a26f3e504dbd86bd4351c1e937bd",
            "_dom_classes": [],
            "description": "",
            "_model_name": "HTMLModel",
            "placeholder": "​",
            "_view_module": "@jupyter-widgets/controls",
            "_model_module_version": "1.5.0",
            "value": " 1.12k/1.12k [00:01&lt;00:00, 677B/s]",
            "_view_count": null,
            "_view_module_version": "1.5.0",
            "description_tooltip": null,
            "_model_module": "@jupyter-widgets/controls",
            "layout": "IPY_MODEL_a8f3ab736f534bf19db4449796afdbb8"
          }
        },
        "fd854e8675f440be9460b3196d5879e4": {
          "model_module": "@jupyter-widgets/controls",
          "model_name": "ProgressStyleModel",
          "state": {
            "_view_name": "StyleView",
            "_model_name": "ProgressStyleModel",
            "description_width": "initial",
            "_view_module": "@jupyter-widgets/base",
            "_model_module_version": "1.5.0",
            "_view_count": null,
            "_view_module_version": "1.2.0",
            "bar_color": null,
            "_model_module": "@jupyter-widgets/controls"
          }
        },
        "8e71e619c7b24db9a57d824efd5b0131": {
          "model_module": "@jupyter-widgets/base",
          "model_name": "LayoutModel",
          "state": {
            "_view_name": "LayoutView",
            "grid_template_rows": null,
            "right": null,
            "justify_content": null,
            "_view_module": "@jupyter-widgets/base",
            "overflow": null,
            "_model_module_version": "1.2.0",
            "_view_count": null,
            "flex_flow": null,
            "width": null,
            "min_width": null,
            "border": null,
            "align_items": null,
            "bottom": null,
            "_model_module": "@jupyter-widgets/base",
            "top": null,
            "grid_column": null,
            "overflow_y": null,
            "overflow_x": null,
            "grid_auto_flow": null,
            "grid_area": null,
            "grid_template_columns": null,
            "flex": null,
            "_model_name": "LayoutModel",
            "justify_items": null,
            "grid_row": null,
            "max_height": null,
            "align_content": null,
            "visibility": null,
            "align_self": null,
            "height": null,
            "min_height": null,
            "padding": null,
            "grid_auto_rows": null,
            "grid_gap": null,
            "max_width": null,
            "order": null,
            "_view_module_version": "1.2.0",
            "grid_template_areas": null,
            "object_position": null,
            "object_fit": null,
            "grid_auto_columns": null,
            "margin": null,
            "display": null,
            "left": null
          }
        },
        "4210a26f3e504dbd86bd4351c1e937bd": {
          "model_module": "@jupyter-widgets/controls",
          "model_name": "DescriptionStyleModel",
          "state": {
            "_view_name": "StyleView",
            "_model_name": "DescriptionStyleModel",
            "description_width": "",
            "_view_module": "@jupyter-widgets/base",
            "_model_module_version": "1.5.0",
            "_view_count": null,
            "_view_module_version": "1.2.0",
            "_model_module": "@jupyter-widgets/controls"
          }
        },
        "a8f3ab736f534bf19db4449796afdbb8": {
          "model_module": "@jupyter-widgets/base",
          "model_name": "LayoutModel",
          "state": {
            "_view_name": "LayoutView",
            "grid_template_rows": null,
            "right": null,
            "justify_content": null,
            "_view_module": "@jupyter-widgets/base",
            "overflow": null,
            "_model_module_version": "1.2.0",
            "_view_count": null,
            "flex_flow": null,
            "width": null,
            "min_width": null,
            "border": null,
            "align_items": null,
            "bottom": null,
            "_model_module": "@jupyter-widgets/base",
            "top": null,
            "grid_column": null,
            "overflow_y": null,
            "overflow_x": null,
            "grid_auto_flow": null,
            "grid_area": null,
            "grid_template_columns": null,
            "flex": null,
            "_model_name": "LayoutModel",
            "justify_items": null,
            "grid_row": null,
            "max_height": null,
            "align_content": null,
            "visibility": null,
            "align_self": null,
            "height": null,
            "min_height": null,
            "padding": null,
            "grid_auto_rows": null,
            "grid_gap": null,
            "max_width": null,
            "order": null,
            "_view_module_version": "1.2.0",
            "grid_template_areas": null,
            "object_position": null,
            "object_fit": null,
            "grid_auto_columns": null,
            "margin": null,
            "display": null,
            "left": null
          }
        },
        "d283b9e2e6af4712ae156e20e509fb0d": {
          "model_module": "@jupyter-widgets/controls",
          "model_name": "HBoxModel",
          "state": {
            "_view_name": "HBoxView",
            "_dom_classes": [],
            "_model_name": "HBoxModel",
            "_view_module": "@jupyter-widgets/controls",
            "_model_module_version": "1.5.0",
            "_view_count": null,
            "_view_module_version": "1.5.0",
            "box_style": "",
            "layout": "IPY_MODEL_d63dd5ce930a4450af6119489f42284d",
            "_model_module": "@jupyter-widgets/controls",
            "children": [
              "IPY_MODEL_3f01cadf3a014a588a6a95335a275d1d",
              "IPY_MODEL_62729de115ad432392ade51b6b2b48ea"
            ]
          }
        },
        "d63dd5ce930a4450af6119489f42284d": {
          "model_module": "@jupyter-widgets/base",
          "model_name": "LayoutModel",
          "state": {
            "_view_name": "LayoutView",
            "grid_template_rows": null,
            "right": null,
            "justify_content": null,
            "_view_module": "@jupyter-widgets/base",
            "overflow": null,
            "_model_module_version": "1.2.0",
            "_view_count": null,
            "flex_flow": null,
            "width": null,
            "min_width": null,
            "border": null,
            "align_items": null,
            "bottom": null,
            "_model_module": "@jupyter-widgets/base",
            "top": null,
            "grid_column": null,
            "overflow_y": null,
            "overflow_x": null,
            "grid_auto_flow": null,
            "grid_area": null,
            "grid_template_columns": null,
            "flex": null,
            "_model_name": "LayoutModel",
            "justify_items": null,
            "grid_row": null,
            "max_height": null,
            "align_content": null,
            "visibility": null,
            "align_self": null,
            "height": null,
            "min_height": null,
            "padding": null,
            "grid_auto_rows": null,
            "grid_gap": null,
            "max_width": null,
            "order": null,
            "_view_module_version": "1.2.0",
            "grid_template_areas": null,
            "object_position": null,
            "object_fit": null,
            "grid_auto_columns": null,
            "margin": null,
            "display": null,
            "left": null
          }
        },
        "3f01cadf3a014a588a6a95335a275d1d": {
          "model_module": "@jupyter-widgets/controls",
          "model_name": "FloatProgressModel",
          "state": {
            "_view_name": "ProgressView",
            "style": "IPY_MODEL_9040892abc3447d997d201ab6a2bd5b9",
            "_dom_classes": [],
            "description": "Downloading: 100%",
            "_model_name": "FloatProgressModel",
            "bar_style": "success",
            "max": 2275327883,
            "_view_module": "@jupyter-widgets/controls",
            "_model_module_version": "1.5.0",
            "value": 2275327883,
            "_view_count": null,
            "_view_module_version": "1.5.0",
            "orientation": "horizontal",
            "min": 0,
            "description_tooltip": null,
            "_model_module": "@jupyter-widgets/controls",
            "layout": "IPY_MODEL_79172208d4e8428ebb499da18a9853cf"
          }
        },
        "62729de115ad432392ade51b6b2b48ea": {
          "model_module": "@jupyter-widgets/controls",
          "model_name": "HTMLModel",
          "state": {
            "_view_name": "HTMLView",
            "style": "IPY_MODEL_05191b3dda2045b790b0251bcb17bbd0",
            "_dom_classes": [],
            "description": "",
            "_model_name": "HTMLModel",
            "placeholder": "​",
            "_view_module": "@jupyter-widgets/controls",
            "_model_module_version": "1.5.0",
            "value": " 2.28G/2.28G [01:02&lt;00:00, 36.3MB/s]",
            "_view_count": null,
            "_view_module_version": "1.5.0",
            "description_tooltip": null,
            "_model_module": "@jupyter-widgets/controls",
            "layout": "IPY_MODEL_8395fa62d10a4d538ad6ceebf656fe4a"
          }
        },
        "9040892abc3447d997d201ab6a2bd5b9": {
          "model_module": "@jupyter-widgets/controls",
          "model_name": "ProgressStyleModel",
          "state": {
            "_view_name": "StyleView",
            "_model_name": "ProgressStyleModel",
            "description_width": "initial",
            "_view_module": "@jupyter-widgets/base",
            "_model_module_version": "1.5.0",
            "_view_count": null,
            "_view_module_version": "1.2.0",
            "bar_color": null,
            "_model_module": "@jupyter-widgets/controls"
          }
        },
        "79172208d4e8428ebb499da18a9853cf": {
          "model_module": "@jupyter-widgets/base",
          "model_name": "LayoutModel",
          "state": {
            "_view_name": "LayoutView",
            "grid_template_rows": null,
            "right": null,
            "justify_content": null,
            "_view_module": "@jupyter-widgets/base",
            "overflow": null,
            "_model_module_version": "1.2.0",
            "_view_count": null,
            "flex_flow": null,
            "width": null,
            "min_width": null,
            "border": null,
            "align_items": null,
            "bottom": null,
            "_model_module": "@jupyter-widgets/base",
            "top": null,
            "grid_column": null,
            "overflow_y": null,
            "overflow_x": null,
            "grid_auto_flow": null,
            "grid_area": null,
            "grid_template_columns": null,
            "flex": null,
            "_model_name": "LayoutModel",
            "justify_items": null,
            "grid_row": null,
            "max_height": null,
            "align_content": null,
            "visibility": null,
            "align_self": null,
            "height": null,
            "min_height": null,
            "padding": null,
            "grid_auto_rows": null,
            "grid_gap": null,
            "max_width": null,
            "order": null,
            "_view_module_version": "1.2.0",
            "grid_template_areas": null,
            "object_position": null,
            "object_fit": null,
            "grid_auto_columns": null,
            "margin": null,
            "display": null,
            "left": null
          }
        },
        "05191b3dda2045b790b0251bcb17bbd0": {
          "model_module": "@jupyter-widgets/controls",
          "model_name": "DescriptionStyleModel",
          "state": {
            "_view_name": "StyleView",
            "_model_name": "DescriptionStyleModel",
            "description_width": "",
            "_view_module": "@jupyter-widgets/base",
            "_model_module_version": "1.5.0",
            "_view_count": null,
            "_view_module_version": "1.2.0",
            "_model_module": "@jupyter-widgets/controls"
          }
        },
        "8395fa62d10a4d538ad6ceebf656fe4a": {
          "model_module": "@jupyter-widgets/base",
          "model_name": "LayoutModel",
          "state": {
            "_view_name": "LayoutView",
            "grid_template_rows": null,
            "right": null,
            "justify_content": null,
            "_view_module": "@jupyter-widgets/base",
            "overflow": null,
            "_model_module_version": "1.2.0",
            "_view_count": null,
            "flex_flow": null,
            "width": null,
            "min_width": null,
            "border": null,
            "align_items": null,
            "bottom": null,
            "_model_module": "@jupyter-widgets/base",
            "top": null,
            "grid_column": null,
            "overflow_y": null,
            "overflow_x": null,
            "grid_auto_flow": null,
            "grid_area": null,
            "grid_template_columns": null,
            "flex": null,
            "_model_name": "LayoutModel",
            "justify_items": null,
            "grid_row": null,
            "max_height": null,
            "align_content": null,
            "visibility": null,
            "align_self": null,
            "height": null,
            "min_height": null,
            "padding": null,
            "grid_auto_rows": null,
            "grid_gap": null,
            "max_width": null,
            "order": null,
            "_view_module_version": "1.2.0",
            "grid_template_areas": null,
            "object_position": null,
            "object_fit": null,
            "grid_auto_columns": null,
            "margin": null,
            "display": null,
            "left": null
          }
        }
      }
    }
  },
  "cells": [
    {
      "cell_type": "markdown",
      "metadata": {
        "id": "view-in-github"
      },
      "source": [
        "<a href=\"https://colab.research.google.com/github/vibhu18116/IR-Project-Group23-PatentPal/blob/main/Summary/BigPatent_Baseline_Pegasus.ipynb\" target=\"_parent\"><img src=\"https://colab.research.google.com/assets/colab-badge.svg\" alt=\"Open In Colab\"/></a>"
      ]
    },
    {
      "cell_type": "code",
      "metadata": {
        "id": "Ea_SHUx-h3sA"
      },
      "source": [
        "import pickle\n",
        "import pandas as pd"
      ],
      "execution_count": null,
      "outputs": []
    },
    {
      "cell_type": "code",
      "metadata": {
        "colab": {
          "base_uri": "https://localhost:8080/"
        },
        "id": "4lFg19kFd7UU",
        "outputId": "9533ce90-7f7b-4a59-f9b1-b3e21f78b86d"
      },
      "source": [
        "from google.colab import drive\n",
        "drive.mount('/content/drive')"
      ],
      "execution_count": null,
      "outputs": [
        {
          "output_type": "stream",
          "text": [
            "Drive already mounted at /content/drive; to attempt to forcibly remount, call drive.mount(\"/content/drive\", force_remount=True).\n"
          ],
          "name": "stdout"
        }
      ]
    },
    {
      "cell_type": "code",
      "metadata": {
        "id": "oDc2_OrMelnZ"
      },
      "source": [
        "import pickle\n",
        "data = pickle.load(open(\"/content/drive/MyDrive/bigPatentData/data_pik\", 'rb'))"
      ],
      "execution_count": null,
      "outputs": []
    },
    {
      "cell_type": "code",
      "metadata": {
        "id": "lFniCPHten-t"
      },
      "source": [
        "import pandas as pd\n",
        "df = pd.DataFrame(data[400:500])"
      ],
      "execution_count": null,
      "outputs": []
    },
    {
      "cell_type": "code",
      "metadata": {
        "colab": {
          "base_uri": "https://localhost:8080/",
          "height": 419
        },
        "id": "tlK-HfPVYgV6",
        "outputId": "d72fde98-5f49-42e0-f8f7-87572d4144de"
      },
      "source": [
        "df"
      ],
      "execution_count": null,
      "outputs": [
        {
          "output_type": "execute_result",
          "data": {
            "text/html": [
              "<div>\n",
              "<style scoped>\n",
              "    .dataframe tbody tr th:only-of-type {\n",
              "        vertical-align: middle;\n",
              "    }\n",
              "\n",
              "    .dataframe tbody tr th {\n",
              "        vertical-align: top;\n",
              "    }\n",
              "\n",
              "    .dataframe thead th {\n",
              "        text-align: right;\n",
              "    }\n",
              "</style>\n",
              "<table border=\"1\" class=\"dataframe\">\n",
              "  <thead>\n",
              "    <tr style=\"text-align: right;\">\n",
              "      <th></th>\n",
              "      <th>publication_number</th>\n",
              "      <th>abstract</th>\n",
              "      <th>application_number</th>\n",
              "      <th>description</th>\n",
              "    </tr>\n",
              "  </thead>\n",
              "  <tbody>\n",
              "    <tr>\n",
              "      <th>400</th>\n",
              "      <td>US-5091993-A</td>\n",
              "      <td>an insect proof garment for protection against...</td>\n",
              "      <td>US-62067090-A</td>\n",
              "      <td>referring now to the drawings and in particula...</td>\n",
              "    </tr>\n",
              "    <tr>\n",
              "      <th>401</th>\n",
              "      <td>US-2007294894-A1</td>\n",
              "      <td>the present invention discloses a one piece fo...</td>\n",
              "      <td>US-82331907-A</td>\n",
              "      <td>in the following detailed description of embod...</td>\n",
              "    </tr>\n",
              "    <tr>\n",
              "      <th>402</th>\n",
              "      <td>US-5388549-A</td>\n",
              "      <td>methods and apparatus enabling a diagnostic te...</td>\n",
              "      <td>US-10478993-A</td>\n",
              "      <td>the method and apparatus in accordance with th...</td>\n",
              "    </tr>\n",
              "    <tr>\n",
              "      <th>403</th>\n",
              "      <td>US-2013085319-A1</td>\n",
              "      <td>a pump for inducing motion of a fluid , the pu...</td>\n",
              "      <td>US-201213590488-A</td>\n",
              "      <td>the present disclosure relates to novel and ad...</td>\n",
              "    </tr>\n",
              "    <tr>\n",
              "      <th>404</th>\n",
              "      <td>US-2009049993-A1</td>\n",
              "      <td>a cooking apparatus for batter based foods tha...</td>\n",
              "      <td>US-89249607-A</td>\n",
              "      <td>the preferred embodiments and best modes of th...</td>\n",
              "    </tr>\n",
              "    <tr>\n",
              "      <th>...</th>\n",
              "      <td>...</td>\n",
              "      <td>...</td>\n",
              "      <td>...</td>\n",
              "      <td>...</td>\n",
              "    </tr>\n",
              "    <tr>\n",
              "      <th>495</th>\n",
              "      <td>US-6434410-B1</td>\n",
              "      <td>an electrophysiological electrode includes mul...</td>\n",
              "      <td>US-10029098-A</td>\n",
              "      <td>referring to fig1 - 3 , a preferred embodiment...</td>\n",
              "    </tr>\n",
              "    <tr>\n",
              "      <th>496</th>\n",
              "      <td>US-6000158-A</td>\n",
              "      <td>a removable ironing board enclosed in a piece ...</td>\n",
              "      <td>US-13527698-A</td>\n",
              "      <td>referring now the drawings , and in particular...</td>\n",
              "    </tr>\n",
              "    <tr>\n",
              "      <th>497</th>\n",
              "      <td>US-2005131519-A1</td>\n",
              "      <td>a composite stent graft has a balloon expandab...</td>\n",
              "      <td>US-96276604-A</td>\n",
              "      <td>now looking more closely at fig1 and 2 , it wi...</td>\n",
              "    </tr>\n",
              "    <tr>\n",
              "      <th>498</th>\n",
              "      <td>US-2013227789-A1</td>\n",
              "      <td>an apparatus and method for moving people , pe...</td>\n",
              "      <td>US-201213597990-A</td>\n",
              "      <td>referring to fig1 , a rescue / recovery chair ...</td>\n",
              "    </tr>\n",
              "    <tr>\n",
              "      <th>499</th>\n",
              "      <td>US-5505666-A</td>\n",
              "      <td>an insert for adjustably sizing a finger or th...</td>\n",
              "      <td>US-36276994-A</td>\n",
              "      <td>with reference now to the drawings , and in pa...</td>\n",
              "    </tr>\n",
              "  </tbody>\n",
              "</table>\n",
              "<p>100 rows × 4 columns</p>\n",
              "</div>"
            ],
            "text/plain": [
              "    publication_number  ...                                        description\n",
              "400       US-5091993-A  ...  referring now to the drawings and in particula...\n",
              "401   US-2007294894-A1  ...  in the following detailed description of embod...\n",
              "402       US-5388549-A  ...  the method and apparatus in accordance with th...\n",
              "403   US-2013085319-A1  ...  the present disclosure relates to novel and ad...\n",
              "404   US-2009049993-A1  ...  the preferred embodiments and best modes of th...\n",
              "..                 ...  ...                                                ...\n",
              "495      US-6434410-B1  ...  referring to fig1 - 3 , a preferred embodiment...\n",
              "496       US-6000158-A  ...  referring now the drawings , and in particular...\n",
              "497   US-2005131519-A1  ...  now looking more closely at fig1 and 2 , it wi...\n",
              "498   US-2013227789-A1  ...  referring to fig1 , a rescue / recovery chair ...\n",
              "499       US-5505666-A  ...  with reference now to the drawings , and in pa...\n",
              "\n",
              "[100 rows x 4 columns]"
            ]
          },
          "metadata": {
            "tags": []
          },
          "execution_count": 5
        }
      ]
    },
    {
      "cell_type": "code",
      "metadata": {
        "colab": {
          "base_uri": "https://localhost:8080/"
        },
        "id": "Gxl7vTgCp_5T",
        "outputId": "878e64c6-fbd5-45f8-97d4-39823d0ae3f1"
      },
      "source": [
        "!pip install torch==1.2.0 torchvision==0.4.0 -f https://download.pytorch.org/whl/torch_stable.html"
      ],
      "execution_count": null,
      "outputs": [
        {
          "output_type": "stream",
          "text": [
            "Looking in links: https://download.pytorch.org/whl/torch_stable.html\n",
            "Collecting torch==1.2.0\n",
            "  Using cached https://download.pytorch.org/whl/cu92/torch-1.2.0%2Bcu92-cp37-cp37m-manylinux1_x86_64.whl\n",
            "Requirement already satisfied: torchvision==0.4.0 in /usr/local/lib/python3.7/dist-packages (0.4.0+cu92)\n",
            "Requirement already satisfied: numpy in /usr/local/lib/python3.7/dist-packages (from torch==1.2.0) (1.19.5)\n",
            "Requirement already satisfied: six in /usr/local/lib/python3.7/dist-packages (from torchvision==0.4.0) (1.15.0)\n",
            "Requirement already satisfied: pillow>=4.1.1 in /usr/local/lib/python3.7/dist-packages (from torchvision==0.4.0) (7.1.2)\n",
            "\u001b[31mERROR: torchtext 0.9.1 has requirement torch==1.8.1, but you'll have torch 1.2.0+cu92 which is incompatible.\u001b[0m\n",
            "\u001b[31mERROR: sentence-transformers 1.1.0 has requirement torch>=1.6.0, but you'll have torch 1.2.0+cu92 which is incompatible.\u001b[0m\n",
            "Installing collected packages: torch\n",
            "  Found existing installation: torch 1.8.1\n",
            "    Uninstalling torch-1.8.1:\n",
            "      Successfully uninstalled torch-1.8.1\n",
            "Successfully installed torch-1.2.0+cu92\n"
          ],
          "name": "stdout"
        }
      ]
    },
    {
      "cell_type": "code",
      "metadata": {
        "colab": {
          "base_uri": "https://localhost:8080/"
        },
        "id": "KmHmsSBaq5R6",
        "outputId": "767ffd22-a68e-4d89-e60e-e96415d7c48f"
      },
      "source": [
        "!pip install -U sentence-transformers"
      ],
      "execution_count": null,
      "outputs": [
        {
          "output_type": "stream",
          "text": [
            "Requirement already up-to-date: sentence-transformers in /usr/local/lib/python3.7/dist-packages (1.1.0)\n",
            "Requirement already satisfied, skipping upgrade: nltk in /usr/local/lib/python3.7/dist-packages (from sentence-transformers) (3.2.5)\n",
            "Requirement already satisfied, skipping upgrade: scipy in /usr/local/lib/python3.7/dist-packages (from sentence-transformers) (1.4.1)\n",
            "Requirement already satisfied, skipping upgrade: scikit-learn in /usr/local/lib/python3.7/dist-packages (from sentence-transformers) (0.22.2.post1)\n",
            "Collecting torch>=1.6.0\n",
            "  Using cached https://files.pythonhosted.org/packages/56/74/6fc9dee50f7c93d6b7d9644554bdc9692f3023fa5d1de779666e6bf8ae76/torch-1.8.1-cp37-cp37m-manylinux1_x86_64.whl\n",
            "Requirement already satisfied, skipping upgrade: sentencepiece in /usr/local/lib/python3.7/dist-packages (from sentence-transformers) (0.1.95)\n",
            "Requirement already satisfied, skipping upgrade: tqdm in /usr/local/lib/python3.7/dist-packages (from sentence-transformers) (4.41.1)\n",
            "Requirement already satisfied, skipping upgrade: transformers<5.0.0,>=3.1.0 in /usr/local/lib/python3.7/dist-packages (from sentence-transformers) (4.5.1)\n",
            "Requirement already satisfied, skipping upgrade: numpy in /usr/local/lib/python3.7/dist-packages (from sentence-transformers) (1.19.5)\n",
            "Requirement already satisfied, skipping upgrade: six in /usr/local/lib/python3.7/dist-packages (from nltk->sentence-transformers) (1.15.0)\n",
            "Requirement already satisfied, skipping upgrade: joblib>=0.11 in /usr/local/lib/python3.7/dist-packages (from scikit-learn->sentence-transformers) (1.0.1)\n",
            "Requirement already satisfied, skipping upgrade: typing-extensions in /usr/local/lib/python3.7/dist-packages (from torch>=1.6.0->sentence-transformers) (3.7.4.3)\n",
            "Requirement already satisfied, skipping upgrade: regex!=2019.12.17 in /usr/local/lib/python3.7/dist-packages (from transformers<5.0.0,>=3.1.0->sentence-transformers) (2019.12.20)\n",
            "Requirement already satisfied, skipping upgrade: packaging in /usr/local/lib/python3.7/dist-packages (from transformers<5.0.0,>=3.1.0->sentence-transformers) (20.9)\n",
            "Requirement already satisfied, skipping upgrade: requests in /usr/local/lib/python3.7/dist-packages (from transformers<5.0.0,>=3.1.0->sentence-transformers) (2.23.0)\n",
            "Requirement already satisfied, skipping upgrade: importlib-metadata; python_version < \"3.8\" in /usr/local/lib/python3.7/dist-packages (from transformers<5.0.0,>=3.1.0->sentence-transformers) (3.10.1)\n",
            "Requirement already satisfied, skipping upgrade: tokenizers<0.11,>=0.10.1 in /usr/local/lib/python3.7/dist-packages (from transformers<5.0.0,>=3.1.0->sentence-transformers) (0.10.2)\n",
            "Requirement already satisfied, skipping upgrade: filelock in /usr/local/lib/python3.7/dist-packages (from transformers<5.0.0,>=3.1.0->sentence-transformers) (3.0.12)\n",
            "Requirement already satisfied, skipping upgrade: sacremoses in /usr/local/lib/python3.7/dist-packages (from transformers<5.0.0,>=3.1.0->sentence-transformers) (0.0.45)\n",
            "Requirement already satisfied, skipping upgrade: pyparsing>=2.0.2 in /usr/local/lib/python3.7/dist-packages (from packaging->transformers<5.0.0,>=3.1.0->sentence-transformers) (2.4.7)\n",
            "Requirement already satisfied, skipping upgrade: urllib3!=1.25.0,!=1.25.1,<1.26,>=1.21.1 in /usr/local/lib/python3.7/dist-packages (from requests->transformers<5.0.0,>=3.1.0->sentence-transformers) (1.24.3)\n",
            "Requirement already satisfied, skipping upgrade: certifi>=2017.4.17 in /usr/local/lib/python3.7/dist-packages (from requests->transformers<5.0.0,>=3.1.0->sentence-transformers) (2020.12.5)\n",
            "Requirement already satisfied, skipping upgrade: chardet<4,>=3.0.2 in /usr/local/lib/python3.7/dist-packages (from requests->transformers<5.0.0,>=3.1.0->sentence-transformers) (3.0.4)\n",
            "Requirement already satisfied, skipping upgrade: idna<3,>=2.5 in /usr/local/lib/python3.7/dist-packages (from requests->transformers<5.0.0,>=3.1.0->sentence-transformers) (2.10)\n",
            "Requirement already satisfied, skipping upgrade: zipp>=0.5 in /usr/local/lib/python3.7/dist-packages (from importlib-metadata; python_version < \"3.8\"->transformers<5.0.0,>=3.1.0->sentence-transformers) (3.4.1)\n",
            "Requirement already satisfied, skipping upgrade: click in /usr/local/lib/python3.7/dist-packages (from sacremoses->transformers<5.0.0,>=3.1.0->sentence-transformers) (7.1.2)\n",
            "\u001b[31mERROR: torchvision 0.4.0+cu92 has requirement torch==1.2.0, but you'll have torch 1.8.1 which is incompatible.\u001b[0m\n",
            "Installing collected packages: torch\n",
            "  Found existing installation: torch 1.2.0+cu92\n",
            "    Uninstalling torch-1.2.0+cu92:\n",
            "      Successfully uninstalled torch-1.2.0+cu92\n",
            "Successfully installed torch-1.8.1\n"
          ],
          "name": "stdout"
        }
      ]
    },
    {
      "cell_type": "code",
      "metadata": {
        "colab": {
          "base_uri": "https://localhost:8080/"
        },
        "id": "S46ex4f7fg3l",
        "outputId": "89f1518c-e4cf-4190-83f3-3dd0e6e97bb8"
      },
      "source": [
        "!pip install transformers"
      ],
      "execution_count": null,
      "outputs": [
        {
          "output_type": "stream",
          "text": [
            "Requirement already satisfied: transformers in /usr/local/lib/python3.7/dist-packages (4.5.1)\n",
            "Requirement already satisfied: tqdm>=4.27 in /usr/local/lib/python3.7/dist-packages (from transformers) (4.41.1)\n",
            "Requirement already satisfied: packaging in /usr/local/lib/python3.7/dist-packages (from transformers) (20.9)\n",
            "Requirement already satisfied: tokenizers<0.11,>=0.10.1 in /usr/local/lib/python3.7/dist-packages (from transformers) (0.10.2)\n",
            "Requirement already satisfied: numpy>=1.17 in /usr/local/lib/python3.7/dist-packages (from transformers) (1.19.5)\n",
            "Requirement already satisfied: regex!=2019.12.17 in /usr/local/lib/python3.7/dist-packages (from transformers) (2019.12.20)\n",
            "Requirement already satisfied: sacremoses in /usr/local/lib/python3.7/dist-packages (from transformers) (0.0.45)\n",
            "Requirement already satisfied: importlib-metadata; python_version < \"3.8\" in /usr/local/lib/python3.7/dist-packages (from transformers) (3.10.1)\n",
            "Requirement already satisfied: filelock in /usr/local/lib/python3.7/dist-packages (from transformers) (3.0.12)\n",
            "Requirement already satisfied: requests in /usr/local/lib/python3.7/dist-packages (from transformers) (2.23.0)\n",
            "Requirement already satisfied: pyparsing>=2.0.2 in /usr/local/lib/python3.7/dist-packages (from packaging->transformers) (2.4.7)\n",
            "Requirement already satisfied: six in /usr/local/lib/python3.7/dist-packages (from sacremoses->transformers) (1.15.0)\n",
            "Requirement already satisfied: joblib in /usr/local/lib/python3.7/dist-packages (from sacremoses->transformers) (1.0.1)\n",
            "Requirement already satisfied: click in /usr/local/lib/python3.7/dist-packages (from sacremoses->transformers) (7.1.2)\n",
            "Requirement already satisfied: zipp>=0.5 in /usr/local/lib/python3.7/dist-packages (from importlib-metadata; python_version < \"3.8\"->transformers) (3.4.1)\n",
            "Requirement already satisfied: typing-extensions>=3.6.4; python_version < \"3.8\" in /usr/local/lib/python3.7/dist-packages (from importlib-metadata; python_version < \"3.8\"->transformers) (3.7.4.3)\n",
            "Requirement already satisfied: urllib3!=1.25.0,!=1.25.1,<1.26,>=1.21.1 in /usr/local/lib/python3.7/dist-packages (from requests->transformers) (1.24.3)\n",
            "Requirement already satisfied: certifi>=2017.4.17 in /usr/local/lib/python3.7/dist-packages (from requests->transformers) (2020.12.5)\n",
            "Requirement already satisfied: chardet<4,>=3.0.2 in /usr/local/lib/python3.7/dist-packages (from requests->transformers) (3.0.4)\n",
            "Requirement already satisfied: idna<3,>=2.5 in /usr/local/lib/python3.7/dist-packages (from requests->transformers) (2.10)\n"
          ],
          "name": "stdout"
        }
      ]
    },
    {
      "cell_type": "code",
      "metadata": {
        "id": "NedZdL1IgKrz",
        "colab": {
          "base_uri": "https://localhost:8080/"
        },
        "outputId": "21e5b692-07b2-45cc-8b3a-870f454df2c8"
      },
      "source": [
        "!pip install rouge_score"
      ],
      "execution_count": null,
      "outputs": [
        {
          "output_type": "stream",
          "text": [
            "Requirement already satisfied: rouge_score in /usr/local/lib/python3.7/dist-packages (0.0.4)\n",
            "Requirement already satisfied: nltk in /usr/local/lib/python3.7/dist-packages (from rouge_score) (3.2.5)\n",
            "Requirement already satisfied: absl-py in /usr/local/lib/python3.7/dist-packages (from rouge_score) (0.12.0)\n",
            "Requirement already satisfied: six>=1.14.0 in /usr/local/lib/python3.7/dist-packages (from rouge_score) (1.15.0)\n",
            "Requirement already satisfied: numpy in /usr/local/lib/python3.7/dist-packages (from rouge_score) (1.19.5)\n"
          ],
          "name": "stdout"
        }
      ]
    },
    {
      "cell_type": "code",
      "metadata": {
        "id": "8u4RXf8fgFoR"
      },
      "source": [
        "import random\n",
        "from rouge_score import rouge_scorer\n",
        "\n",
        "def calc_rouge_scores(pred_summaries, gold_summaries, \n",
        "                                 keys=['rouge1', 'rouge2', 'rougeL'], use_stemmer=True):\n",
        "    #Calculate rouge scores\n",
        "    scorer = rouge_scorer.RougeScorer(keys, use_stemmer= use_stemmer)\n",
        "    \n",
        "    n = len(pred_summaries)\n",
        "    \n",
        "    scores = [scorer.score(pred_summaries[j], gold_summaries[j]) for \n",
        "              j in range(n)] \n",
        "    \n",
        "    dict_scores={}                                                            \n",
        "    for key in keys:\n",
        "        dict_scores.update({key: {}})\n",
        "        \n",
        "    \n",
        "    for key in keys:\n",
        "        \n",
        "        precision_list = [scores[j][key][0] for j in range(len(scores))]\n",
        "        recall_list = [scores[j][key][1] for j in range(len(scores))]\n",
        "        f1_list = [scores[j][key][2] for j in range(len(scores))]\n",
        "\n",
        "        precision = np.mean(precision_list)\n",
        "        recall = np.mean(recall_list)\n",
        "        f1 = np.mean(f1_list)\n",
        "        \n",
        "        dict_results = {'recall': recall, 'precision': precision, 'f1': f1}\n",
        "        \n",
        "        dict_scores[key] = dict_results\n",
        "        \n",
        "    return dict_scores"
      ],
      "execution_count": null,
      "outputs": []
    },
    {
      "cell_type": "markdown",
      "metadata": {
        "id": "m3g9wuC1iD3J"
      },
      "source": [
        "LSTM output as Pegasus Input"
      ]
    },
    {
      "cell_type": "code",
      "metadata": {
        "id": "F3l3dEh7iDiR"
      },
      "source": [
        "with open('lstm-500-summary.pkl', 'rb') as f:\n",
        "    df_lstm = pickle.load(f)"
      ],
      "execution_count": null,
      "outputs": []
    },
    {
      "cell_type": "code",
      "metadata": {
        "colab": {
          "base_uri": "https://localhost:8080/",
          "height": 262,
          "referenced_widgets": [
            "5ad5c1a0aade4a60839e3cbfcea513c9",
            "28ddfb930c6744d8a9ed3bac6fa0bfdd",
            "3efa477d38974c95b342d01cd19268d4",
            "59a3b4043ef245558204663c5b6fdf13",
            "7a11405d757b495696a250b3f11a9834",
            "66254ef422104f73bf354b0c5ecfad15",
            "cd830be67b974eb1b026ccc3099a9e90",
            "7614b028ce42408b9f668d49a5d5e7c8",
            "cfe9edc080e0469fb3ddb8fa86f68a58",
            "f251c7e7cab043fba8594db74c9914e0",
            "8fcc73b62961426d92f822bc781dd718",
            "fc584e4367ee4df19cd7e72f9550565a",
            "663b61e15cab4b2cb7bce8f10bb1ffd9",
            "748f0298117e43d7a5450424179b86dc",
            "60401e6527f347249638679c1210dca6",
            "64eb92389afc43bba2ab40eb43b89a54",
            "985dfd7fe4b3465b918ba06e01fe6d8e",
            "710c80ccde8d42408fa3c78dbd9afe0a",
            "8b92635fa1b6435a8accb95d3ed33dc8",
            "3d990b3ccfab465b8ad5b058164a7388",
            "2d962ff7106a4b8d8fe6a18b76cd9c64",
            "e2c85bed9942455991fb522f65a08418",
            "a9ab7d3e34ba4a128f482f40cfaed348",
            "1bdda8f0c24a48a493a28a01eb68f171",
            "f4743834e5c24eb585a22e82f576c6e7",
            "d65be60f6476422783499b3f4c7b3443",
            "d0400c1b5c1a4524bac8516f09f1636d",
            "af93711ba269486eb2bbc5ec9183dc06",
            "fd854e8675f440be9460b3196d5879e4",
            "8e71e619c7b24db9a57d824efd5b0131",
            "4210a26f3e504dbd86bd4351c1e937bd",
            "a8f3ab736f534bf19db4449796afdbb8",
            "d283b9e2e6af4712ae156e20e509fb0d",
            "d63dd5ce930a4450af6119489f42284d",
            "3f01cadf3a014a588a6a95335a275d1d",
            "62729de115ad432392ade51b6b2b48ea",
            "9040892abc3447d997d201ab6a2bd5b9",
            "79172208d4e8428ebb499da18a9853cf",
            "05191b3dda2045b790b0251bcb17bbd0",
            "8395fa62d10a4d538ad6ceebf656fe4a"
          ]
        },
        "id": "LSMY9XTolXe1",
        "outputId": "c55fe14c-2c48-4240-d841-e6a43243d2a4"
      },
      "source": [
        "from transformers import PegasusForConditionalGeneration, PegasusTokenizer, AutoTokenizer\n",
        "import torch\n",
        "# src_text = [\n",
        "#     \"\"\" PG&E stated it scheduled the blackouts in response to forecasts for high winds amid dry conditions. The aim is to reduce the risk of wildfires. Nearly 800 thousand customers were scheduled to be affected by the shutoffs which were expected to last through at least midday tomorrow.\"\"\"\n",
        "# ]\n",
        "\n",
        "# src_text = df['description'][0]\n",
        "model_name = 'google/pegasus-big_patent'\n",
        "device = 'cuda' if torch.cuda.is_available() else 'cpu'\n",
        "tokenizer = PegasusTokenizer.from_pretrained(model_name)\n",
        "model = PegasusForConditionalGeneration.from_pretrained(model_name).to(device)\n"
      ],
      "execution_count": null,
      "outputs": [
        {
          "output_type": "display_data",
          "data": {
            "application/vnd.jupyter.widget-view+json": {
              "model_id": "5ad5c1a0aade4a60839e3cbfcea513c9",
              "version_minor": 0,
              "version_major": 2
            },
            "text/plain": [
              "HBox(children=(FloatProgress(value=0.0, description='Downloading', max=1912529.0, style=ProgressStyle(descript…"
            ]
          },
          "metadata": {
            "tags": []
          }
        },
        {
          "output_type": "stream",
          "text": [
            "\n"
          ],
          "name": "stdout"
        },
        {
          "output_type": "display_data",
          "data": {
            "application/vnd.jupyter.widget-view+json": {
              "model_id": "cfe9edc080e0469fb3ddb8fa86f68a58",
              "version_minor": 0,
              "version_major": 2
            },
            "text/plain": [
              "HBox(children=(FloatProgress(value=0.0, description='Downloading', max=65.0, style=ProgressStyle(description_w…"
            ]
          },
          "metadata": {
            "tags": []
          }
        },
        {
          "output_type": "stream",
          "text": [
            "\n"
          ],
          "name": "stdout"
        },
        {
          "output_type": "display_data",
          "data": {
            "application/vnd.jupyter.widget-view+json": {
              "model_id": "985dfd7fe4b3465b918ba06e01fe6d8e",
              "version_minor": 0,
              "version_major": 2
            },
            "text/plain": [
              "HBox(children=(FloatProgress(value=0.0, description='Downloading', max=88.0, style=ProgressStyle(description_w…"
            ]
          },
          "metadata": {
            "tags": []
          }
        },
        {
          "output_type": "stream",
          "text": [
            "\n"
          ],
          "name": "stdout"
        },
        {
          "output_type": "display_data",
          "data": {
            "application/vnd.jupyter.widget-view+json": {
              "model_id": "f4743834e5c24eb585a22e82f576c6e7",
              "version_minor": 0,
              "version_major": 2
            },
            "text/plain": [
              "HBox(children=(FloatProgress(value=0.0, description='Downloading', max=1120.0, style=ProgressStyle(description…"
            ]
          },
          "metadata": {
            "tags": []
          }
        },
        {
          "output_type": "stream",
          "text": [
            "\n"
          ],
          "name": "stdout"
        },
        {
          "output_type": "display_data",
          "data": {
            "application/vnd.jupyter.widget-view+json": {
              "model_id": "d283b9e2e6af4712ae156e20e509fb0d",
              "version_minor": 0,
              "version_major": 2
            },
            "text/plain": [
              "HBox(children=(FloatProgress(value=0.0, description='Downloading', max=2275327883.0, style=ProgressStyle(descr…"
            ]
          },
          "metadata": {
            "tags": []
          }
        },
        {
          "output_type": "stream",
          "text": [
            "\n"
          ],
          "name": "stdout"
        }
      ]
    },
    {
      "cell_type": "code",
      "metadata": {
        "id": "kicYt-91ltZl"
      },
      "source": [
        "myfile = open('lstm-pegasus-opt.txt', 'w')"
      ],
      "execution_count": null,
      "outputs": []
    },
    {
      "cell_type": "code",
      "metadata": {
        "colab": {
          "base_uri": "https://localhost:8080/"
        },
        "id": "4MrkK6hblgW3",
        "outputId": "f0bb6e3c-af3e-4b40-da5d-bd96b18d7a25"
      },
      "source": [
        "for i in df_lstm['summaries_comp']:\n",
        "    src_text = i\n",
        "    batch = tokenizer.prepare_seq2seq_batch(src_text, truncation=True, padding='longest', return_tensors='pt').to(device)\n",
        "    translated = model.generate(**batch)\n",
        "    tgt_text = tokenizer.batch_decode(translated, skip_special_tokens=True)\n",
        "    print(tgt_text)\n",
        "    myfile.write(\"%s\\n\" % tgt_text[0])\n",
        "myfile.close()"
      ],
      "execution_count": null,
      "outputs": [
        {
          "output_type": "stream",
          "text": [
            "/usr/local/lib/python3.7/dist-packages/transformers/tokenization_utils_base.py:3226: FutureWarning: `prepare_seq2seq_batch` is deprecated and will be removed in version 5 of 🤗 Transformers. Use the regular `__call__` method to prepare your inputs and the tokenizer under the `with_target_tokenizer` context manager to prepare your targets. See the documentation of your specific tokenizer for more details\n",
            "  FutureWarning,\n"
          ],
          "name": "stderr"
        },
        {
          "output_type": "stream",
          "text": [
            "['The garment is deliberately made loose fitting to enable the user to comfortably wear the garment over regular clothes, and to produce the blousing effect necessary for maximum insect protection properties.', 'An insect proof garment for protection against mosquitoes, black flies and other insects is disclosed. The garment is made entirely from a lightweight semi- rigid insect excluding mesh and is comprised of a one-piece fully encloseable head net attached to an upper body portion.']\n",
            "['An aspect of the invention design has a curved triangular core extraction hook that enables the inside to be pulled out of the food object after the core flesh has been completely severed, core removal without ripping flesh.', 'The present invention discloses a one piece food corer with a hook design providing an efficient and elegant tool for coring food, hollowing out the flesh from a vegetable or fruit.']\n",
            "['A method and apparatus for sampling milk from an animal being milked in which a pulsating vacuum is applied to operate a sampling pump and timer unit and a steady vacuum is applied to operate a sampling valve and a testing device.', 'Methods and apparatus enabling a diagnostic test to be carried out on milk flowing in a milk line from an animal being milked, without interrupting the milking process.']\n",
            "['The present disclosure relates to novel and advantageous blood pumps for acute cardiac support. The impeller may be driven via a power transmission system in the catheter and controlled from a control and/or power unit.', 'A pump for inducing motion of a fluid includes a cannula adjustable between an operable configuration having a first diameter and a deployment configuration having a substantially smaller second diameter.']\n",
            "['A sealed compartment for cooking batter in a conventional toaster, wherein the compartment is substantially sealed in order to effectively contain food material placed therein, but permits sufficient leakage at the seam for venting steam or excess batter during the cooking process.', 'A cooking apparatus for batter based foods that can be inserted into the slot of a traditional toaster and cooked using the toaster &# 39; s heating mechanism.']\n",
            "['The following clinical trail has been performed in order to demonstrate the activity of aceclidine at different concentrations on patients who underwent refractive surgery. <n> <n>', 'The present invention relates to the use of aceclidine in the reduction of night sight problems in patients who have undergone lensectomy with intra ocular lens implant and iol implants in phakic patients to reduce ametropy.']\n",
            "['The dusting tool according to the illustrated embodiment is made modular in order to be able to receive brushes of different dimensions and can be used to pick up and collect dust that may be present thereon.', 'A method of use of a dusting tool for cleaning the exposed surface of a camera sensor lens in a recessed digital camera sensor chamber while avoiding contaminating contact with the side walls of the camera sensor chamber.']\n",
            "['The estrus condition of a cow is determined by counting the number of mounts of the cow and displaying the estrus condition of the cow on a display.', 'An electronic estrus detector that may be affixed to the back of a cow comprises a tapeswitch connected to a counter for storage and display of number of mounts by another cow.']\n",
            "['The invention relates to an infusion device comprising a container and a delivering means movably accommodated by the container, in a straight line toward an outlet of the container.', 'The invention relates to a device for administering an injectable product, comprising: a) a casing; b) a container for said product accommodated by said casing c) a delivering means for delivering product out of said container; d) a drive means; and e) a transmission link via which said drive means drives said delivering means.']\n",
            "['The present invention is a tampon inserter that allows the user to insert the tampon digitally or with an inserter, or to use an inserter, such as the inserter.', 'A tampon inserter is included in a package of about the size used for conventional digital tampons without a decrease in the number of such tampons in the package.']\n",
            "['The eye shield comprises the see-through shield and two small handle grips located at the bottom of the eye shield which enable the wearer to take hold of the eye shield in order to raise it.', 'A breathing mask is provided for a helmet which reduces the formation of water on the lens of the eyeglasses of the wearer or on the shield of the helmet.']\n",
            "['A one piece golf club shaft with spacer segments that provide the same strong, rigid shaft of a one piece golf club as the shaft of a conventional golf club.', 'A golf club which includes interconnected segments which can be added to extend the length thus providing an inexpensive alternative to buying new golf clubs. The segments are securely connected to achieve a rigid and sturdy golf club which can grow longer as a child grows taller.']\n",
            "['A toy which can be controlled by the operator by the means of a suitable stick or baton and which includes a motor for driving the ball directly or indirectly.', 'A self- propelled musical toy rolling ball which plays musical tunes and sound effects. The ball may also include decorative images on its surface which may generally correspond to the musical tune or sound effects played by the ball.']\n",
            "['An exercise device having a back support surface to contact the user, rolling members attached relative to the back support surface to make a gliding contact with a wall surface and a grip member positioned relative to the back support surface which provide for the user to retain the exercise device while moving to place the exercise device against the wall surface and which provide for the user to retain the exercise device during vertical displacement of the exercise device relative to the wall surface during repetitive performance of a squatting exercise.', 'An exercise device guides the user during performance of a squatting exercise while the exercise device repetitively moves down and up any suitable vertically oriented surface, such as a wall.']\n",
            "['A system and method for automated patient management, including remote patient management and automatic diagnosis of patient health, such as described in commonly - assigned u..', 'A system and method for providing hierarchical medical device control for automated patient management is presented. A control strategy is assigned to a processor to specify actions to be taken by the medical devices to affect the attainment of a therapy goal.']\n",
            "['A needle holder member is molded about the contained rearward end of a needle so as to preclude mutual axial displacement of the needle and holder during insertion of the needle into a blood vessel.', 'A fitting for inserting a needle or catheter into a blood vessel and for positionally stabilizing the inserted needle or catheter in situ includes separate needle holder and stabilizer elements.']\n",
            "['The rack carrying the glove forms is dipped into a washing solution which removes undesirable ingredients from the latex film and the rack is then washed with a washing solution.', 'An elastomeric surgical glove with an improved ring rolled cuff and a method and apparatus to produce the cuff is disclosed. The ring rolled cuff comprises alternating tightly rolled segments with loosely rolled segments.']\n",
            "['The bearing includes a groove to scrape foreign matter from the surface of the rods and collect it in the groove so that it may be easily removed from the bearing.', 'An improved bearing structure for a rod which permits both rotational and axial movement of the rod in conjunction with longitudinal bending thereof. The bearing includes an anti-friction ring for permitting a select degree of longitudinal bending within the elastic limits of the materials involved.']\n",
            "['The roasted material is then ground by the help of a grinder and broken up into smaller particles. The roasted material is then ground by the help of a grinder and broken up into smaller particles.', 'The present invention relates to the instant coffee or coffee substitute with reduced acrylamide and hydroxymethyl furfural content and production method thereof which comprises the steps of roasting the input material, grinding the roasted material, extracting the ground material, yeasting the extract, fermentation, filtration, drying the filtrate; and wherein carcinogenic and cytotoxic process components, which are found in heat treated foods especially in instant coffees, are minimized.']\n",
            "['The metal back rod 6 is protected, thereby preventing the back rod 6 from being damaged by a desk, a cabinet etc.; and the bending portion 29 holds the upper end of a cushion 30 and acts as a handle when the chair is moved.', 'The backrest of a chair comprises an inner low rigidity flexible back- receiving portion and an outer high rigidity side frame spaced from the back- receiving portion via a slit.']\n",
            "['The present application discloses various formulations and methods for using the same for the treatment of wounds and inflammatory conditions of the skin in mammals, and more particularly for the treatment and promotion of healing of wounds of the skin.', 'The disclosure of the present application includes topically administrable compositions and methods for treating wounds and inflammatory conditions of the skin in mammals, and more particularly, for treating wounds and inflammatory conditions of the skin in mammals.']\n",
            "['A penile prosthetic including a cylinder having a wall that forms an exterior surface of the penile prosthetic and extends from a proximal to a distal end of the penile prosthetic with an rsec attached to the exterior surface.', 'A method of implanting a penile prosthetic in a patient includes providing an implantable cylinder with a resorbable component attached to an exterior surface of the implantable cylinder and a tow line engaged with the resorbable component.']\n",
            "['The present invention is directed to a device that facilitates removal of the needle from a patient and captures the needle as it is retracted from the patient&#39;s body.', 'A medical device, such as a huber - type device, includes a structure that enhances operator safety by reducing the likelihood that a needle will accidentally injure an operator.']\n",
            "['A fruit harvester&#39;s support belt providing for the carriage of a fruit harvesting bucket and the redistribution of weight to the fruit harvester&#39;s hips from the fruit harvester&#39;s shoulders and back.', 'A fruit harvesting belt and bucket system provides for the redistribution of weight from the wearer &# 39; s shoulders to the wearer &# 39; s hips.']\n",
            "['The present invention relates to the use of a virus-polymer solution for the production of cells for use in the treatment of wounds and for the promotion of healing.', 'The inventors have discovered that high molecular weight proteoglycans present in retroviral stocks are co - concentrated with the retroviruses, and can inhibit retroviral transduction.']\n",
            "['The invention relates to electrodes for obtaining control of gastrointestinal tract motility and sphincter control, which are implanted either from the serosal or the mucosal side of the particular gastrointestinal organ.', 'A method and a multichannel implantable device are described for partial or complete restoration of impaired gastrointestinal motility, or for disturbing and/or partially or completely blocking normal gastrointestinal motility using one or multiple microsystem - controlled channels of circumferentially arranged sets of two or more electrodes which provide externally - invoked synchronized electrical signals to the smooth muscles via the neural pathways.']\n",
            "['A suspension is stirred with a magnetic stir bar during analysis to increase the stability of the suspension and to reduce the time required to analyze the suspension for impurities.', 'A novel, stable formulations of bupropion hydrochloride are provided which will maintain at least 80 % of initial bupropion hydrochloride potency after one year.']\n",
            "['The present invention is directed to a process for the preparation of a conjugate of a peptide and a thiol-containing moiety, such as l - cys.', 'Amg 416 is a synthetic, eight amino - acid selective peptide agonist of the calcium sensing receptor and is being developed as an intravenous treatment of secondary hyperparathyroidism in hemodialysis patients with chronic kidney disease — mineral and bone disorder.']\n",
            "['The urinary catheter 1 comprises a straightening aid 35 which is slidably arranged on the catheter tube 2 and helps a user in bringing the urinary catheter 1 from the folded, compact storage condition in the unfolded, straight ready- for- use condition.', 'A foldable urinary catheter is provided for draining the human bladder defining an internal flow path for the urine, with a catheter tube for insertion into the urethra, the catheter tube comprising at least one hinge which is conceived to bring the catheter in a folded, compact storage condition and an unfolded, straight ready - for - use condition as well as to a foldable urinary catheter kit.']\n",
            "['A ceiling panel has mounted in it over each respective row of seats an oxygen mask dispensing container, all of which are supplied from a common oxygen source through an oxygen line having a pressure control valve.', 'A valve manifold assembly having a valve body with at least one chamber defined therein. The chamber has at least one inlet and at least one outlet and has at least one opening.']\n",
            "['A method to protect a hip bone from fracture or to limit a severity of a hip bone injury is provided. The method includes providing a pair of protective pads and adjusting the device to the form of the body of the wearer, both for comfort and retension of the protective pads in their operative location.', 'A method and device for protecting a hip bone or limiting a severity of a hip bone injury, which includes at least one pad arranged to protect the hip bone, and a wearable garment to hold the at least one pad with respect to the hip bone.']\n",
            "['A monitoring system for monitoring a patient&#39;s electrical cardiac activity and blood pressure includes a plurality of pixels arranged in a plurality of rows and columns, each pixel being capable of being energized electronically so that the pixel emits light visible to the user of the monitoring system.', 'A method and apparatus of correcting a data signal sampled at a first rate to a data signal displayed on a video monitor at a second rate is claimed.']\n",
            "['In the interior of the pressure conditioning screw a feeder screw is arranged centered which is rotatably mounted about its center line which is simultaneously the center line of the pressure conditioning screw.', 'The invention relates to a method of denitrating tobacco stem material in which the tobacco stem material is input at a first point in a housing, guided through a solvent and output at a second point from the housing.']\n",
            "['An enhancement of salivary secretion achieved by any means may play a significant compensatory role within the pre- epithelial barrier and help to restore an equilibrium between aggressive factors and protective mechanisms.', 'prolonged mastication is demonstrated to enhance salivary secretion as well as enhance secretion of salivary components such as salivary bicarbonate, epidermal growth factor, mucin, pge 2 and transforming growth factor. sub. .']\n",
            "['The body deodorants obtainable using the nanoscale antimicrobial agents in accordance with the invention may also contain, for example, fatty acids in the form of their alkali metal soaps, polyols, lower alcohols, enzyme inhibitors, odor absorbers, odor maskers, water, complexing agents, antioxidants, preservatives, perfumes, colorants, opacifiers, pearlizing pigments, fine - particle silica, consistency factors, gel formers, waxes, fatty alcohols, emulsifiers, thickeners and other suitable formulation bases as further auxiliaries and additives.', 'The deodorant composition contains nanoscale antimicrobial particles where the nanoscale antimicrobial particles contain one or more antimicrobial agents and have a particle diameter in the range of from 5 nanometers to 500 nanometers.']\n",
            "['The roof support elements begin within the roof element so that they may end in an arc shape in the stool support element so that they may end in an arc shape in the stool support element.', 'A device for use at beer gardens, wine gardens, parties, celebrations, or similar is easily erected, and is stable, the tabletop element, the seat elements, and the roof element are at least partially connected via a rod system with one another, and the rod system includes support elements that are positioned at least outside the outer circumference limit of the tabletop element.']\n",
            "['In an example arrangement, an acl repair employing the surgical aiming device for femoral drilling is shown. a taper, serration, or other suitable engaging edge on the tip of the insertion guide facilitates identification of an incision point.', 'A hinged pivoting guide for positioning a femoral tunnel in anterior cruciate ligament reconstruction locates a drilling hole for placement that optimally penetrates a minimal depth of soft tissue yet directs drilling into a sufficiently rigid and structurally sound area of the femur.']\n",
            "['The present invention relates to a limb protection apparatus having a torsion spring assembly, including a torsion spring assembly with a preload, and a limb brace device.', 'The present invention is a limb protection apparatus having a torsion spring assembly having a preload, wherein the spring assembly has a spring and two rotatably coupled components disposed within the spring.']\n",
            "['The base of the vessel proper can be pushed upwardly to “ flip ” or “ inverted” the vessel into the inside-out configuration depicted in fig. 6 to 11.', 'The peripheral hinge enables the vessel to be reconfigured from one configuration having a first holding capacity to a second configuration having a different holding capacity, thereby enabling a measuring device to be reconfigured from one configuration having a first holding capacity to a second configuration having a different holding capacity.']\n",
            "['The compositions of the invention described herein uniquely provide natural xanthone compounds through the combination of the pulp and pericarp of the mangosteen fruit, along with selected juice and other phytochemical ingredients.', 'Methods to make nutraceutical compositions derived from the fruit of the garcinia mangostana l. or mangosteen plant and methods to make the same are provided.']\n",
            "['The skin resurfacing action of mandelic acid has numerous benefits: firstly, it has been shown to clip off dead surface skin cells, and secondly, makes the action of pga better by giving it a smooth undisturbed surface to bind moisture to.', 'The present invention provides for a formulation comprising : at least one hydrophilic polymer, at least one desquamatory agent and alpha hydroxyl acid..']\n",
            "['A porous metal bead or wire mesh coating may be incorporated to allow stabilization of the implant by ingrowth of surrounding tissue into the porous coating to provide low friction, wear resistant coatings on the articulating surfaces of prosthetic devices.', 'The invention zirconium oxide coated prostheses are also useful in that the zirconium oxide coatings provide a barrier against implant corrosion caused by ionization of the metal prosthesis.']\n",
            "['An air pressure dissipator for maintaining the seed level in the seed meter at a more or less constant level to prevent the deposit of excessive amounts of seed in the seed meter, while ensuring a steady flow of seed to the seed meter for optimum seed discharge.', 'In an air pressurized system for use in delivering seeds in an agricultural planter from a main hopper to plural remote bins each associated with a respective seed discharge unit, an air pressure dissipator vents the air to the atmosphere in controlling the rate at which seed is delivered to the seed discharge unit.']\n",
            "['An injection device having a catch pivotably attached thereto to facilitate priming of the injection device prior to use, and a syringe body having a check valve thereon.', 'An injection device particularly suitable for the intraruminal injection of ruminants is described. The injection device is characterized by a needle carrying means and a needle actuation means, which are operatively coupled such that the needle actuation means permits movement of the needle carrying means from a retracted position to an extended position.']\n",
            "['The present invention relates to an article of luggage that allows a user to use handles or other carrying members provided by the articles of luggage and is generally coextensive with those carrying members or handles.', 'A simple, cheap, easily manufacturable, and easily used cover for articles of luggage that both protects and preserves the aesthetic features of the articles of luggage.']\n",
            "['The frame is formed by etching a pattern into a material or mold and depositing stent material in the pattern, such as by chemical vapor deposition or the like.', 'devices, systems and methods are provided for treating aneurysms, particularly cerebral aneurysms. The treatment is achieved minimally invasively without the need for conventional filling materials and methods.']\n",
            "['The handle of a toothbrush is telescopically engaged over a support shaft and is spring biased downwardly into engagement with the upper end of the base portion of the toothbrush.', 'A toothbrush having a bristle supporting head pivotaly mounted to a handle for pivotal movement of the head and bristles about a pivot axis substantially perpendicular to the axis of the handle to a plurality of positions to gain easy access to tooth surfaces at opposite sides of the mouth.']\n",
            "['The present invention is directed to a method and apparatus for identifying an animal and for releasing the animal from a pen as desired, thereby greatly improving the handling ability of the device.', 'A device for receiving and confining an animal, such as a bail, is disclosed. The device comprises a pen having at least two elongate walls spaced apart to define a space into which the animal is received.']\n",
            "['This retrieved unique id will in turn direct the storage of the data record into the specific patient file folder in the database avoiding error in the data collection record process.', 'A system and method that uses a non- invasive method, such as a wearable module equipped with sensors placed on a subject connected to a computer - linked module, to monitor life signs like heartbeat waveforms and body temperatures.']\n",
            "['An air-water punching bag structure includes a liquid container, an air valve, and a handle set to simulate the struggling of a real person to achieve different suppression training effects.', 'The present invention discloses a multi- training function air-water punching bag structure that comprises one inner bladder, one external bag, at least one set of handles, at least two sets of first suspenders, and at least one set of second suspenders.']\n",
            "['The examples and embodiments that follow of course can be modified by techniques known in the art. The examples and embodiments that follow of course can be modified by techniques known in the art.', 'The 2 - subunit is the most widely expressed neuronal nicotinic receptor subunit in the nervous system. we have studied the structural and regulatory properties of the 5′ sequence of this gene.']\n",
            "['In this arrangement, the strap ends on each side of the booster seat can be connected to the latch bracket, adjusted and then drawn to the point where little or no excess movement of the booster seat is possible once the strap ends have been connected to the latch attachment bracket.', 'A portable pet booster seat apparatus is provided which is adapted to be fitted securely on the seat of a vehicle. The booster seat includes a base, a back, a front and side portions that are all interconnected.']\n",
            "['The present invention relates to a stethoscope head and more particularly to a stethoscope head having a sound passageway formed of a neoprene or other synthetic rubber material which may be stretched or distorted to be snapped over a rim.', 'A stethoscope including a diaphragm head with a loosely affixed diaphragm exhibiting an increased frequency response range and contacting the head by the pressure applied by the underlying skin or clothing of the patient to eliminate sound leakage therebetween.']\n",
            "['The injector is cocked for the next implantation by pulling the lug to the rear end of the slot after the animal has been freed from the squeeze chute.', 'An injector and new process of implanting is also disclosed wherein a double acting trigger mechanism on an injector properly loads a retainer and implant into a needle and then injects the retainer and implant into the animal.']\n",
            "['A. porte ® implantable vascular access port apparatus in which a medicine is introduced to a subcutaneous port in the chest by a needle member which punctures the skin at puncture point or incision in the skin and the port septum.', 'A medical device and a method for its manufacture. The device has a tissue-exposed portion constructed to release an agent that inhibits adverse reaction to the presence of the device defined by a polymeric surface- layer overlying in a supported manner a polymer defining a reservoir.']\n",
            "['Disclosed herein are compositions, materials, methods, and kits for bone grafting, including for repairing and/or filling a void or gap in a bone or other bony structure of a patient.', 'The present disclosure teaches moldable bone graft compositions, methods of making said compositions, and methods of utilizing the same, and methods of utilizing the same.']\n",
            "['A bicycle having a tubular seat member which is pivotally connected to a seat member so that the tubular member may sway from side to side with respect to the seat member.', 'An exercise stationary bicycle a base, a frame having a seat stay, a seat tube and a fork pivotally mounted on the base, and two hydraulic cylinders mounted between two sides of the fork and the base, whereby the frame may be swayed from side from side in riding thus making it to exactly simulate riding bicycles.']\n",
            "['The multiple holes allow for uniform bathing of body tissue by more evenly distributing a fluid and eliminates knots in the filament that can interfere with the operation of the catheter by blocking fluid flow though the tube.', 'A new and improved catheter for administrating or withdrawing a substance from the human body which can temporarily attached to the tissue site. The catheter has multiple holes to allow uniform bathing of the tissue site.']\n",
            "['The inflation is a tubular member formed from a flexible elastomeric material such as natural or synthetic rubber and is alternately evacuated by connection to a vacuum source and connected to atmosphere air in order to impart a massaging motion to the inflation and the teat.', 'A teat cup assembly comprises an inflation having a plurality of radially - extending longitudinal ribs circumferentially spaced about the inflation and having a t - shaped cross- section.']\n",
            "['In order to detach the front wheel bags 7, 8 from the bicycle 1, the quick attachment means used for connecting the hanging element 25 to the fastener 52 is opened.', 'A fastening device for alternatively fastening bags on a bicycle consists of a hanging device arranged on an upper fitting, which engages a fastening device located on the bicycle frame or a reception device, forming a knapsack together with other bags.']\n",
            "['A method of playing a board game in which players manipulate the various elements of the game board apparatus in accordance with the method of play herein described, comprising the formation of card combinations which provide players with a medium through which they may manipulate the various elements of the game board apparatus in accordance with the method of play herein described.', 'An apparatus and method for playing a board game is provided. The game utilizes a standard grid as a playing field which is designed to simulate the map of a mountain.']\n",
            "['A device for withdrawing fluids from the body includes a withdrawal unit configured as a subcutaneous needle or vascular needle with two concentric channels, and a suction unit.', 'A device for withdrawing body fluids such as blood, urine and tissue fluid includes a withdrawal unit, a suction unit, and a storage system receiving the body fluid between the withdrawal unit and the suction unit, the storage system being divided into separate areas holding the fluid fractions gathered at given intervals and permitting the individual fluid fractions to be identified with regard to their time of withdrawal.']\n",
            "['The present invention relates to the use of  - and  - hydroxy acids in skin exfoliation and skin and nail conditioning products to improve properties such as retention of moisture, softening of the skin, attraction of air moisture, retardation of water loss, feel and reduction of skin irritations caused by contact with cosmetic ingredients.', 'The present invention provides biodegradable polyesters based on lower hydroxy acids and hydroxy fatty acids, which are useful as cosmetic vehicles for sunscreens, skin lotions and by themselves are also useful as milder skin exfoliants.']\n",
            "['to secure said garment into place for a comfortable fitting pant garment and tie it in place a knot can be tied in the front or in the back..', 'The present invention is unique in its design and function, it can be worn by any adult and fashioned into several types of apparel ranging from a hat and scarf to a pair of gaucho pants.']\n",
            "['The foot can readily be fitted in a normal shoe or other athletic footwear, such as an ice skate, football shoe, or ski boot with respect to the lower leg about the normal ankle joint.', 'An ankle brace for constraining movement of the lower leg and foot about the normal horizontal axis of rotation of the ankle while inhibiting other rotation or extension or retraction movement about abnormal axes or in abnormal directions in order to help prevent injury to the ankle joint.']\n",
            "['The conventional boxing glove illustrated in fig. 2 a includes a padded glove body and a thumb sheath to soften the blows administered in preparation for the boxing match.', 'A boxing glove with thumb tie down has been provided which incorporates a connecting bridge which holds the thumb in essentially a closed or nested position at all times.']\n",
            "['The present invention is a talking scorekeeper that is designed so that it can be adapted to many racket and paddle games and includes means to provide a visual display of the score as well as an audio announcement of the score.', 'An automated scorekeeping device for racket and paddle sports. The device includes a voice recorder that is used to announce the score before each serve of the game.']\n",
            "['A novel massage system is affixed to and encompasses the central and side panels of the headrest assembly to provide a stimulating and satisfying massage to the occupant of the headrest assembly.', 'An adjustable headrest for use with furniture and vehicle seats that includes novel slide mechanisms for permitting easy vertical and horizontal adjustments of the headrest relative to the seat.']\n",
            "['A heating device introduces heat energy to the water thereby heating for use during beverage making cycles. A level sensor detects the level of water in the reservoir and caused water to be added when the water level drops.', 'A method of dispensing water from a heated water reservoir involves dispensing water from the reservoir at one level and delivering water to a dispensing point at a second level positioned at a positive dimension above the dispensing port of the heated water reservoir.']\n",
            "['The light of the leds irradiates a portion of a living subject&#39;s finger, and a photodiode senses such of that light as is returned from said portion, an amplifier being provided for producing an output voltage proportional to the current through said diode which current in turn is proportional to the radiation it receives from finger 5.', 'A non- invasive oximetry system wherein red and infrared light from light sources energized at different frequencies is applied to arterial blood- containing tissue of a living subject.']\n",
            "['The tobacco-free blends of the present invention combine a leaf-like ingredient, such as tea, peppermint, cabbage, and other plant leaves, with a moisturizer, an alkaline chemical to adjust the ph balance of the blend, and a type of nicotine that can be absorbed through the mouth.', 'The invention is a chewing tobacco substitute made from natural leaves and additives which simulate the taste and consistency of chewing tobacco to which a nicotine compound is added.']\n",
            "['A mousetrap includes an enclosure comprising a top, a base and a closable aperture within which a mouse is able to enter when the enclosure is in an open position.', 'A mousetrap having an enclosure with a rotatable top part having a downwardly extending strike plate within the enclosure, and a bottom part having an upwardly extending catch plate within the enclosure, an aperture in each of the top part and the bottom part which are in substantial alignment when the mousetrap is set, and a trigger mechanism.']\n",
            "['The invention provides a method for treating or preventing anxiety in a subject comprising administering to a subject in need thereof a composition as described above, such that administration of the composition treats the anxiety.', 'coated tablets of - 5 - carbonyloxy ]- 7 - oxo - 6, 7 - dihydro - 5h - pyrrolopyrazine) are provided.']\n",
            "['A monoclonal mouse anti- human - myc from invitrogen was used in 1 : 1. analysis with immunofluorescence microscope and flowcytometry were carried out on solubilized cells.', 'The present invention relates to materials and methods for treatment of hepatitis c. more closely, the invention relates to human monoclonal antibodies against hcv e1 antigen, to a reagent comprising such antibodies, and to vaccine compositions comprising such antibodies.']\n",
            "['The memory chip allows the storing of different data to provide enhanced capabilities for the oximeter sensor and a controller circuit uses the data read from the memory chip to control the functioning of the pulse oximetry system.', 'A sensor with memory includes a light emitting element configured to emit light, a light detecting element configured to detect the light, and a memory storing data corresponding to algorithms used by an oximeter monitor.']\n",
            "['The mouthpiece and mouth guard may be screwed together to provide a sealing connection and hold a liquid therein and may be provided in a single unit or in multiple units.', 'A pacifier providing a mouthpiece with a liquid - receiving cavity for easy replacement and re - filling of the liquid therein. a sealing connection with a mouth guard is provided to allow for holding of the liquid in the cavity of the mouthpiece.']\n",
            "['The face of the putter is designed and manufactured such that the face of the putter is not perpendicular with the ground upon contact with the golf ball..', 'A golf putter head including a face portion having an upper edge portion and a lower edge portion ; a sole portion ; a top portion extending rearward from an upper edge of the face portion, the top portion having a front edge and a rear edge ; a rear portion extending downward from the rear edge of the top portion to the sole portion.']\n",
            "['An insect trap is secured to a window by a removable, pressure-sensitive adhesive and is covered by a release paper for ease of storage, transport, and handling.', 'An insect trap for multiple species of pest insects. The trap contains at least two parallel, planar, transparent faces, each face configured to polarize transmitted light into a single plane.']\n",
            "['A continuous local anesthetic wound irrigation system that acts as a continuous local anesthetic wound irrigation system delivering an anesthetic through a soaker catheter laid in the subcutaneous space.', 'A surgical procedure for managing postoperative pain is disclosed. The technique involves use of intrafascial catheter introducer to thread a soaker catheter or the like through fascial sheaths of the human body to relieve postoperative pain.']\n",
            "['The invention encompasses methods, devices, and kits for hygienically dispensing lubricants in a clinical setting, and more particularly, to a dispenser for lubricants in a clinical setting.', 'A lubricating device for automatically dispensing lubricating gel for medical procedures that reduces the chance of cross - contamination between patients by use of a shape that prevent accidental contact with the dispenser, anti - microbial materials, and a dispensing valve protection device.']\n",
            "['A shock wave generator for disintegrating calculi by means of shock waves transmitted via a probe is provided with a flexible tube in which a valve may be integrated if appropriate for better control or blocking.', 'In a device for introducing shock waves into a living body by way of at least one element which transmits the shock waves and upon which shock pulses act, wherein at least one spring member is used for generating the shock waves, a tensioning device is associated with the spring member and allows for an abrupt release of the spring member while delivering a shock pulse.']\n",
            "['A kneading blade for kneading breadmaking ingredients and dough is a kneading blade for breadmaking and has a shape suitable for kneading breadmaking ingredients and dough.', 'An automatic breadmaking apparatus adapted to automatically carry out breadmaking operations from kneading to baking includes a housing, a container receivable in the housing into which breadmaking ingredients are fed, a stirrer for stirring the breadmaking ingredients fed in the container, a stirring control section for controlling an operation of the stirrer, a temperature control section for controlling temperature in the container, and a central control section for controlling the stirring control section and the temperature control section in accordance with a breadmaking sequence using rice flour.']\n",
            "['This can help quickly produce a canola - quality modified b. napus in accordance with the invention, and methods of making the modified b. napus.', 'A modified b. napus or its progeny is crossed with a second winter b. napus line to produce at plant having a winter flowering habit.']\n",
            "['A bubble-free saline solution is provided between the transducer of the ultrasound probe and the cornea and surrounding surface of the eye to provide bubble-free saline solution between the transducer of the ultrasound probe and the cornea and surrounding surface of the eye.', 'An ophthalmologic appliance being an ultrasound probe positioning immersion shell for use in ultrasonic measurement of axial length of the eye ophthalmology and other procedures is provided.']\n",
            "['The needle hub is secured in the syringe barrel by means of a ring secured in the syringe cap and gauze secured in the frusto- conical opening.', 'A safety needle cap assembly for needles is described. In place of the usual safety cap which requires a doctor, dentist or nurse to manually place it in position on a used syringe needle, the safety needle cap assembly automatically caps the used needle the instant the needle is withdrawn from the patient.']\n",
            "['The winch cable is protected inside a tube that has two openings facing downwardly, and the winch cable is protected inside a tube that has two openings facing downwardly.', 'A device for containing a camp fire reduces the amount of smoke produced by the fire by supplying air to the top of the fire to increase the combustion and thus reduce the smoke produced.']\n",
            "['The present invention relates to compounds of the formula <n> <n> <n> <n> <n> <n> <n> <n> <n> <n> <n> wherein R 1, R 2, R 3, R 4, R 5, and R 6 are as defined in the specification.', 'The use of sesquiterpenes and, in particular sesquiterpene lactone endoperoxides, such as artemisinin and analogs thereof, for the treatment of hepatitis c virus infections.']\n",
            "['The present invention provides methods to treat and diagnose lymphoma and cancer using anti - herv - k therapies, in particular, the present invention provides treatment of lymphoma and cancer using anti - herv - k therapies.', 'A method for treating lymphoma and cancer using anti-herv - k therapies is disclosed.........']\n",
            "['A fishing line release clamp for adjusting the release tension of a fishing line by adjusting the position of the compression- adjusting ends in a biassing device.', 'The invention described relates to a downrigger line clamp mechanism used in downrigger fishing and includes an adjustable clamping force for adjusting the overall release tension of a fishing line.']\n",
            "['The accurate positioning of the catheter within the heart can be done using the location system 4, 5, 6 in a manner known in the art, for example as described in u.', 'A system for delivering radiation to an intracorporeal target site has a controllable external radiation source and a cooperable location system for controlling the radiation source to deliver radiation to the internal target site.']\n",
            "['The reservoir is guided in the body, in its bottom portion, by the uprights of the cage and in its top portion by the protruding part that slides along the inside portion of the sleeve.', 'A container for a liquid or pasty cosmetic product has an elongate body, a reservoir that contains the product and is able to move in translation in the body between a top working position and a maximum depressed position under the action of an elastically compressible device.']\n",
            "['A method, apparatus, and computer program for automating the control of home appliances and improving the sleep environment are disclosed.....', 'Disclosed are methods and systems for : gathering human biological signals, such as heart rate, respiration rate, or temperature; analyzing the gathered human biological signals; and controlling a vibrating pillow strip based on the analysis.']\n",
            "['A pair of looping shears includes a strike jaw, a blade jaw and an effort - saving mechanism, wherein the user simply repeats control over opening up and closing in by gripping both handles without having to stop to execute careful adjustment of the engagement position required in the prior art.', 'A pair of looping shears for gardening purpose to allow its user the optimal cutting angle while trimming twigs, comprised of strike jaw, blade jaw and effort - saving mechanism; within, a ratchet is provided to a pivot of the blade jaw that synchronously turns with the strike jaw, and a mobile tab engaged with the ratchet and the handle of the blade jaw to achieve comfortable grip on the handles at an optimal angle for applying the force to repeat trimming twigs and branches.']\n",
            "['An atrial fibrillation treatment system for use with an implantable medical device such as an implantable pacemaker or an implantable cardioverter/defibrillator, comprising at least one sensor capable of sensing at least one physiological parameter relatable to the rate at which the heart should be beating.', 'An implantable medical device has an atrial fibrillation detector adapted to detect an atrial fibrillation and a telemetry unit adapted to transmit an af message to an external receiver.']\n",
            "['The present invention involves the design of packaging for medical articles such as medical instruments such cutting implements or implants such as orthopedic implants e. The package is provided with the ability to be partially opened to allow access to the packaged medical article such as a scalpel, catheter, drug coated implant, or an orthopedic implant e.', 'packaging which can accommodate medical articles such as a series of orthopedic implants e.g. femoral stem components for prosthetic hip joints which have a dimension which varies minimally across the series but which vary considerably in overali size.']\n",
            "['The hooks 62 on the disc 60 have been sheared to make tines that will serve as a skin prepping mechanism when the user presses against them during use.', 'An electrophysiological electrode includes multiple layers of materials to isolate liquid electrolytic gels from the conductive inks on the flexible circuit of the electrode substrate, and has a much longer shelf life under normal storage conditions than other electrodes of such construction with high salt content liquid electrolytic gel.']\n",
            "['An ironing board assembly having an integral cabinet face which allows the user to remove the entire ironing board assembly from the fixed rails by releasing stops, thus allowing the installation of a different ironing surface, as in an ironing surface adapted for use in ironing shirt sleeves for example, or a utility drawer into the fixed rails without requiring the use of tools.', 'A removable ironing board enclosed in a piece of furniture. The ironing board is mounted on extendible rails so that the ironing surface projects out of the enclosure when in use.']\n",
            "['The tubular graft material 1 is stitched at 11 to the balloon expandable stent, and the tubular graft material 1 is compressed and received within a deployment device.', 'A composite stent graft has a balloon expandable stent portion, a tubular graft material portion inside or outside of the balloon expandable stent portion and self expanding stents associated with the tubular graft material portion.']\n",
            "['This would permit the patient, or animal if used during hunting, to be transported by one lead person simply “ dragging or pulling” the transfer mat along behind.', 'An apparatus and method for moving people, pets, and other objects that makes such movement easier when compared with conventional methods, and includes a sling type device.']\n",
            "['A lock member for securing a receiver within a finger hole of a bowling ball, wherein the lock member includes a securing nut for securing the lock member within the finger hole.', 'An insert for adjustably sizing a finger or thumb hole of a bowling ball includes a cylindrical receiver securable within a hole of a bowling ball.']\n"
          ],
          "name": "stdout"
        }
      ]
    },
    {
      "cell_type": "code",
      "metadata": {
        "id": "PuLvaAYaz_mr"
      },
      "source": [
        "f = open(\"lstm-pegasus-opt.txt\", \"r\")\n",
        "pred_summaries = f.readlines()"
      ],
      "execution_count": null,
      "outputs": []
    },
    {
      "cell_type": "code",
      "metadata": {
        "id": "fmDIOIgP0D8q"
      },
      "source": [
        "import numpy as np\n",
        "scores_pegasus_lstm = calc_rouge_scores(pred_summaries, df['abstract'].tolist())"
      ],
      "execution_count": null,
      "outputs": []
    },
    {
      "cell_type": "code",
      "metadata": {
        "colab": {
          "base_uri": "https://localhost:8080/"
        },
        "id": "zh8aFUWT0Mo9",
        "outputId": "caf3cd62-1eec-4f14-eb9e-933682dd465e"
      },
      "source": [
        "scores_pegasus_lstm"
      ],
      "execution_count": null,
      "outputs": [
        {
          "output_type": "execute_result",
          "data": {
            "text/plain": [
              "{'rouge1': {'f1': 0.27108957999231276,\n",
              "  'precision': 0.19935663483023824,\n",
              "  'recall': 0.4914094516591353},\n",
              " 'rouge2': {'f1': 0.08205525128368986,\n",
              "  'precision': 0.05886296427393539,\n",
              "  'recall': 0.15640260660832556},\n",
              " 'rougeL': {'f1': 0.1852952000683844,\n",
              "  'precision': 0.13508567989170275,\n",
              "  'recall': 0.34295852086364387}}"
            ]
          },
          "metadata": {
            "tags": []
          },
          "execution_count": 25
        }
      ]
    }
  ]
}