{
 "cells": [
  {
   "cell_type": "code",
   "execution_count": 1,
   "metadata": {},
   "outputs": [],
   "source": [
    "import pickle\n",
    "data = pickle.load(open(\"./data_pik\", 'rb'))"
   ]
  },
  {
   "cell_type": "code",
   "execution_count": 11,
   "metadata": {},
   "outputs": [],
   "source": [
    "import pandas as pd\n",
    "df = pd.DataFrame(data[400:500])"
   ]
  },
  {
   "cell_type": "code",
   "execution_count": 12,
   "metadata": {
    "scrolled": true
   },
   "outputs": [],
   "source": [
    "import random\n",
    "from rouge_score import rouge_scorer\n",
    "import numpy as np\n",
    "\n",
    "def calc_rouge_scores(pred_summaries, gold_summaries, \n",
    "                                 keys=['rouge1', 'rougeL'], use_stemmer=True):\n",
    "    #Calculate rouge scores\n",
    "    scorer = rouge_scorer.RougeScorer(keys, use_stemmer= use_stemmer)\n",
    "    \n",
    "    n = len(pred_summaries)\n",
    "    \n",
    "    scores = [scorer.score(pred_summaries[j], gold_summaries[j]) for \n",
    "              j in range(n)] \n",
    "    \n",
    "    dict_scores={}                                                            \n",
    "    for key in keys:\n",
    "        dict_scores.update({key: {}})\n",
    "        \n",
    "    \n",
    "    for key in keys:\n",
    "        \n",
    "        precision_list = [scores[j][key][0] for j in range(len(scores))]\n",
    "        recall_list = [scores[j][key][1] for j in range(len(scores))]\n",
    "        f1_list = [scores[j][key][2] for j in range(len(scores))]\n",
    "\n",
    "        precision = np.mean(precision_list)\n",
    "        recall = np.mean(recall_list)\n",
    "        f1 = np.mean(f1_list)\n",
    "        \n",
    "        dict_results = {'recall': recall, 'precision': precision, 'f1': f1}\n",
    "        \n",
    "        dict_scores[key] = dict_results\n",
    "        \n",
    "    return dict_scores"
   ]
  },
  {
   "cell_type": "code",
   "execution_count": 13,
   "metadata": {
    "scrolled": true
   },
   "outputs": [
    {
     "data": {
      "text/plain": [
       "<pytextrank.base.BaseTextRankFactory at 0x7ff7a3565e20>"
      ]
     },
     "execution_count": 13,
     "metadata": {},
     "output_type": "execute_result"
    }
   ],
   "source": [
    "import spacy\n",
    "import pytextrank\n",
    "\n",
    "# load a spaCy model, depending on language, scale, etc.\n",
    "nlp = spacy.load(\"en_core_web_sm\")\n",
    "\n",
    "# add PyTextRank to the spaCy pipeline\n",
    "nlp.add_pipe(\"textrank\", last=True)"
   ]
  },
  {
   "cell_type": "code",
   "execution_count": 14,
   "metadata": {},
   "outputs": [],
   "source": [
    "gen_gold_summaries = []"
   ]
  },
  {
   "cell_type": "code",
   "execution_count": 15,
   "metadata": {},
   "outputs": [],
   "source": [
    "for i in df.iterrows():\n",
    "    doc = nlp(i[1]['description'])\n",
    "    doc_sum = []\n",
    "    for sent in doc._.textrank.summary(limit_phrases=15, limit_sentences=5):\n",
    "        doc_sum.append(str(sent))\n",
    "    doc_sum = \" \".join(doc_sum)\n",
    "    gen_gold_summaries.append((doc_sum, i[1]['abstract']))"
   ]
  },
  {
   "cell_type": "code",
   "execution_count": 16,
   "metadata": {},
   "outputs": [],
   "source": [
    "predicted = [a_tuple[0] for a_tuple in gen_gold_summaries]\n",
    "gold = [a_tuple[1] for a_tuple in gen_gold_summaries]"
   ]
  },
  {
   "cell_type": "code",
   "execution_count": 18,
   "metadata": {},
   "outputs": [
    {
     "data": {
      "text/plain": [
       "{'rouge1': {'recall': 0.24554938040368285,\n",
       "  'precision': 0.5184458944573926,\n",
       "  'f1': 0.316671162480485},\n",
       " 'rouge2': {'recall': 0.06772514078476005,\n",
       "  'precision': 0.14590445832870358,\n",
       "  'f1': 0.08802421562268091},\n",
       " 'rougeL': {'recall': 0.138578344100124,\n",
       "  'precision': 0.3010196985802842,\n",
       "  'f1': 0.17977204297758503}}"
      ]
     },
     "execution_count": 18,
     "metadata": {},
     "output_type": "execute_result"
    }
   ],
   "source": [
    "calc_rouge_scores(predicted, gold, keys=['rouge1', 'rouge2', 'rougeL'])"
   ]
  },
  {
   "cell_type": "code",
   "execution_count": 31,
   "metadata": {},
   "outputs": [],
   "source": [
    "gen_gold_summaries_gensim = []"
   ]
  },
  {
   "cell_type": "code",
   "execution_count": 32,
   "metadata": {},
   "outputs": [],
   "source": [
    "from gensim.summarization import summarize"
   ]
  },
  {
   "cell_type": "code",
   "execution_count": 33,
   "metadata": {},
   "outputs": [],
   "source": [
    "for i in df.iterrows():\n",
    "    doc_sum = summarize(text, ratio=0.05)\n",
    "    gen_gold_summaries.append((doc_sum, i[1]['abstract']))"
   ]
  },
  {
   "cell_type": "code",
   "execution_count": 34,
   "metadata": {},
   "outputs": [
    {
     "data": {
      "text/plain": [
       "{'rouge1': {'recall': 0.20933957569802464,\n",
       "  'precision': 0.3772865020506188,\n",
       "  'f1': 0.2540093808526198},\n",
       " 'rouge2': {'recall': 0.04732410885391849,\n",
       "  'precision': 0.08960990974332474,\n",
       "  'f1': 0.05837365825262688},\n",
       " 'rougeL': {'recall': 0.1293273399889933,\n",
       "  'precision': 0.2341377656976672,\n",
       "  'f1': 0.15674908313029465}}"
      ]
     },
     "execution_count": 34,
     "metadata": {},
     "output_type": "execute_result"
    }
   ],
   "source": [
    "predicted = [a_tuple[0] for a_tuple in gen_gold_summaries]\n",
    "gold = [a_tuple[1] for a_tuple in gen_gold_summaries]\n",
    "calc_rouge_scores(predicted, gold, keys=['rouge1', 'rouge2', 'rougeL'])"
   ]
  },
  {
   "cell_type": "code",
   "execution_count": null,
   "metadata": {},
   "outputs": [],
   "source": []
  }
 ],
 "metadata": {
  "kernelspec": {
   "display_name": "Python 3",
   "language": "python",
   "name": "python3"
  },
  "language_info": {
   "codemirror_mode": {
    "name": "ipython",
    "version": 3
   },
   "file_extension": ".py",
   "mimetype": "text/x-python",
   "name": "python",
   "nbconvert_exporter": "python",
   "pygments_lexer": "ipython3",
   "version": "3.9.2"
  }
 },
 "nbformat": 4,
 "nbformat_minor": 4
}
